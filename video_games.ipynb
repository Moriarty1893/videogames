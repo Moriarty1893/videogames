{
 "cells": [
  {
   "cell_type": "markdown",
   "metadata": {},
   "source": [
    "Привет! \n",
    "\n",
    "Меня зовут Маковеев Кирилл, я буду проверять твой проект ; ) Моя основная цель — не указать на совершенные тобою ошибки, а помочь тебе стать аналитиком данных.\n",
    "\n",
    "Если тебе комфортно, можешь обращаться ко мне на «ты» - тогда и я буду к тебе так обращаться, но если нет, то обязательно дай знать.\n",
    "\n",
    "Пожалуйста, не удаляй комментарии, которые я буду оставлять в работе, это особенно поможет, если твои проекты будут отправлены на повторную проверку.\n",
    "\n",
    "Кстати, ты тоже можешь реагировать на мои комментарии, но в таком случае постарайся, чтобы твои комментарии отличались: например, выделяй их любимым цветом — тогда у нас не возникнет путаницы. \n",
    "\n",
    "Набор моих цветов:\n",
    "<div class=\"alert-success\"> \n",
    "<b>Комментарий ревьюера 👍 </b>\n",
    "    \n",
    "Решение на отдельном шаге является полностью правильным. </div>\n",
    "\n",
    "<div class=\"alert-warning\"> \n",
    "<b>Комментарий ревьюера 💡</b> \n",
    "    \n",
    "Решение может стать еще лучше с некоторыми корректировками </div>\n",
    "\n",
    "<div class=\"alert-danger\"> \n",
    "<b>Комментарий ревьюера ❌</b> \n",
    "    \n",
    "В случае, если решение какого-то шага требует значительных изменений. Проект не может быть принят с первого раза, если ревью содержит комментарии, помеченные этим цветом </div>\n",
    "___"
   ]
  },
  {
   "cell_type": "code",
   "execution_count": 95,
   "metadata": {},
   "outputs": [],
   "source": [
    "import pandas as pd\n",
    "from scipy import stats as st\n",
    "import numpy as np\n",
    "from scipy import stats as st\n",
    "from matplotlib import pyplot as plt\n"
   ]
  },
  {
   "cell_type": "markdown",
   "metadata": {},
   "source": [
    "<div class=\"alert-warning\"> \n",
    "<b>Комментарий ревьюера 💡</b> \n",
    "    \n",
    "В начале стоит добавлять вступление с названием и целями (опционально добавляя описание данных) - это упрощает понимание проекта для тех, кто с ним ознакамливается.</div>"
   ]
  },
  {
   "cell_type": "markdown",
   "metadata": {},
   "source": [
    "# Шаг 1"
   ]
  },
  {
   "cell_type": "code",
   "execution_count": 96,
   "metadata": {},
   "outputs": [
    {
     "data": {
      "text/html": [
       "<div>\n",
       "<style scoped>\n",
       "    .dataframe tbody tr th:only-of-type {\n",
       "        vertical-align: middle;\n",
       "    }\n",
       "\n",
       "    .dataframe tbody tr th {\n",
       "        vertical-align: top;\n",
       "    }\n",
       "\n",
       "    .dataframe thead th {\n",
       "        text-align: right;\n",
       "    }\n",
       "</style>\n",
       "<table border=\"1\" class=\"dataframe\">\n",
       "  <thead>\n",
       "    <tr style=\"text-align: right;\">\n",
       "      <th></th>\n",
       "      <th>Name</th>\n",
       "      <th>Platform</th>\n",
       "      <th>Year_of_Release</th>\n",
       "      <th>Genre</th>\n",
       "      <th>NA_sales</th>\n",
       "      <th>EU_sales</th>\n",
       "      <th>JP_sales</th>\n",
       "      <th>Other_sales</th>\n",
       "      <th>Critic_Score</th>\n",
       "      <th>User_Score</th>\n",
       "      <th>Rating</th>\n",
       "    </tr>\n",
       "  </thead>\n",
       "  <tbody>\n",
       "    <tr>\n",
       "      <th>0</th>\n",
       "      <td>Wii Sports</td>\n",
       "      <td>Wii</td>\n",
       "      <td>2006.0</td>\n",
       "      <td>Sports</td>\n",
       "      <td>41.36</td>\n",
       "      <td>28.96</td>\n",
       "      <td>3.77</td>\n",
       "      <td>8.45</td>\n",
       "      <td>76.0</td>\n",
       "      <td>8</td>\n",
       "      <td>E</td>\n",
       "    </tr>\n",
       "    <tr>\n",
       "      <th>1</th>\n",
       "      <td>Super Mario Bros.</td>\n",
       "      <td>NES</td>\n",
       "      <td>1985.0</td>\n",
       "      <td>Platform</td>\n",
       "      <td>29.08</td>\n",
       "      <td>3.58</td>\n",
       "      <td>6.81</td>\n",
       "      <td>0.77</td>\n",
       "      <td>NaN</td>\n",
       "      <td>NaN</td>\n",
       "      <td>NaN</td>\n",
       "    </tr>\n",
       "    <tr>\n",
       "      <th>2</th>\n",
       "      <td>Mario Kart Wii</td>\n",
       "      <td>Wii</td>\n",
       "      <td>2008.0</td>\n",
       "      <td>Racing</td>\n",
       "      <td>15.68</td>\n",
       "      <td>12.76</td>\n",
       "      <td>3.79</td>\n",
       "      <td>3.29</td>\n",
       "      <td>82.0</td>\n",
       "      <td>8.3</td>\n",
       "      <td>E</td>\n",
       "    </tr>\n",
       "    <tr>\n",
       "      <th>3</th>\n",
       "      <td>Wii Sports Resort</td>\n",
       "      <td>Wii</td>\n",
       "      <td>2009.0</td>\n",
       "      <td>Sports</td>\n",
       "      <td>15.61</td>\n",
       "      <td>10.93</td>\n",
       "      <td>3.28</td>\n",
       "      <td>2.95</td>\n",
       "      <td>80.0</td>\n",
       "      <td>8</td>\n",
       "      <td>E</td>\n",
       "    </tr>\n",
       "    <tr>\n",
       "      <th>4</th>\n",
       "      <td>Pokemon Red/Pokemon Blue</td>\n",
       "      <td>GB</td>\n",
       "      <td>1996.0</td>\n",
       "      <td>Role-Playing</td>\n",
       "      <td>11.27</td>\n",
       "      <td>8.89</td>\n",
       "      <td>10.22</td>\n",
       "      <td>1.00</td>\n",
       "      <td>NaN</td>\n",
       "      <td>NaN</td>\n",
       "      <td>NaN</td>\n",
       "    </tr>\n",
       "    <tr>\n",
       "      <th>...</th>\n",
       "      <td>...</td>\n",
       "      <td>...</td>\n",
       "      <td>...</td>\n",
       "      <td>...</td>\n",
       "      <td>...</td>\n",
       "      <td>...</td>\n",
       "      <td>...</td>\n",
       "      <td>...</td>\n",
       "      <td>...</td>\n",
       "      <td>...</td>\n",
       "      <td>...</td>\n",
       "    </tr>\n",
       "    <tr>\n",
       "      <th>16710</th>\n",
       "      <td>Samurai Warriors: Sanada Maru</td>\n",
       "      <td>PS3</td>\n",
       "      <td>2016.0</td>\n",
       "      <td>Action</td>\n",
       "      <td>0.00</td>\n",
       "      <td>0.00</td>\n",
       "      <td>0.01</td>\n",
       "      <td>0.00</td>\n",
       "      <td>NaN</td>\n",
       "      <td>NaN</td>\n",
       "      <td>NaN</td>\n",
       "    </tr>\n",
       "    <tr>\n",
       "      <th>16711</th>\n",
       "      <td>LMA Manager 2007</td>\n",
       "      <td>X360</td>\n",
       "      <td>2006.0</td>\n",
       "      <td>Sports</td>\n",
       "      <td>0.00</td>\n",
       "      <td>0.01</td>\n",
       "      <td>0.00</td>\n",
       "      <td>0.00</td>\n",
       "      <td>NaN</td>\n",
       "      <td>NaN</td>\n",
       "      <td>NaN</td>\n",
       "    </tr>\n",
       "    <tr>\n",
       "      <th>16712</th>\n",
       "      <td>Haitaka no Psychedelica</td>\n",
       "      <td>PSV</td>\n",
       "      <td>2016.0</td>\n",
       "      <td>Adventure</td>\n",
       "      <td>0.00</td>\n",
       "      <td>0.00</td>\n",
       "      <td>0.01</td>\n",
       "      <td>0.00</td>\n",
       "      <td>NaN</td>\n",
       "      <td>NaN</td>\n",
       "      <td>NaN</td>\n",
       "    </tr>\n",
       "    <tr>\n",
       "      <th>16713</th>\n",
       "      <td>Spirits &amp; Spells</td>\n",
       "      <td>GBA</td>\n",
       "      <td>2003.0</td>\n",
       "      <td>Platform</td>\n",
       "      <td>0.01</td>\n",
       "      <td>0.00</td>\n",
       "      <td>0.00</td>\n",
       "      <td>0.00</td>\n",
       "      <td>NaN</td>\n",
       "      <td>NaN</td>\n",
       "      <td>NaN</td>\n",
       "    </tr>\n",
       "    <tr>\n",
       "      <th>16714</th>\n",
       "      <td>Winning Post 8 2016</td>\n",
       "      <td>PSV</td>\n",
       "      <td>2016.0</td>\n",
       "      <td>Simulation</td>\n",
       "      <td>0.00</td>\n",
       "      <td>0.00</td>\n",
       "      <td>0.01</td>\n",
       "      <td>0.00</td>\n",
       "      <td>NaN</td>\n",
       "      <td>NaN</td>\n",
       "      <td>NaN</td>\n",
       "    </tr>\n",
       "  </tbody>\n",
       "</table>\n",
       "<p>16715 rows × 11 columns</p>\n",
       "</div>"
      ],
      "text/plain": [
       "                                Name Platform  Year_of_Release         Genre  \\\n",
       "0                         Wii Sports      Wii           2006.0        Sports   \n",
       "1                  Super Mario Bros.      NES           1985.0      Platform   \n",
       "2                     Mario Kart Wii      Wii           2008.0        Racing   \n",
       "3                  Wii Sports Resort      Wii           2009.0        Sports   \n",
       "4           Pokemon Red/Pokemon Blue       GB           1996.0  Role-Playing   \n",
       "...                              ...      ...              ...           ...   \n",
       "16710  Samurai Warriors: Sanada Maru      PS3           2016.0        Action   \n",
       "16711               LMA Manager 2007     X360           2006.0        Sports   \n",
       "16712        Haitaka no Psychedelica      PSV           2016.0     Adventure   \n",
       "16713               Spirits & Spells      GBA           2003.0      Platform   \n",
       "16714            Winning Post 8 2016      PSV           2016.0    Simulation   \n",
       "\n",
       "       NA_sales  EU_sales  JP_sales  Other_sales  Critic_Score User_Score  \\\n",
       "0         41.36     28.96      3.77         8.45          76.0          8   \n",
       "1         29.08      3.58      6.81         0.77           NaN        NaN   \n",
       "2         15.68     12.76      3.79         3.29          82.0        8.3   \n",
       "3         15.61     10.93      3.28         2.95          80.0          8   \n",
       "4         11.27      8.89     10.22         1.00           NaN        NaN   \n",
       "...         ...       ...       ...          ...           ...        ...   \n",
       "16710      0.00      0.00      0.01         0.00           NaN        NaN   \n",
       "16711      0.00      0.01      0.00         0.00           NaN        NaN   \n",
       "16712      0.00      0.00      0.01         0.00           NaN        NaN   \n",
       "16713      0.01      0.00      0.00         0.00           NaN        NaN   \n",
       "16714      0.00      0.00      0.01         0.00           NaN        NaN   \n",
       "\n",
       "      Rating  \n",
       "0          E  \n",
       "1        NaN  \n",
       "2          E  \n",
       "3          E  \n",
       "4        NaN  \n",
       "...      ...  \n",
       "16710    NaN  \n",
       "16711    NaN  \n",
       "16712    NaN  \n",
       "16713    NaN  \n",
       "16714    NaN  \n",
       "\n",
       "[16715 rows x 11 columns]"
      ]
     },
     "metadata": {},
     "output_type": "display_data"
    },
    {
     "name": "stdout",
     "output_type": "stream",
     "text": [
      "<class 'pandas.core.frame.DataFrame'>\n",
      "RangeIndex: 16715 entries, 0 to 16714\n",
      "Data columns (total 11 columns):\n",
      " #   Column           Non-Null Count  Dtype  \n",
      "---  ------           --------------  -----  \n",
      " 0   Name             16713 non-null  object \n",
      " 1   Platform         16715 non-null  object \n",
      " 2   Year_of_Release  16446 non-null  float64\n",
      " 3   Genre            16713 non-null  object \n",
      " 4   NA_sales         16715 non-null  float64\n",
      " 5   EU_sales         16715 non-null  float64\n",
      " 6   JP_sales         16715 non-null  float64\n",
      " 7   Other_sales      16715 non-null  float64\n",
      " 8   Critic_Score     8137 non-null   float64\n",
      " 9   User_Score       10014 non-null  object \n",
      " 10  Rating           9949 non-null   object \n",
      "dtypes: float64(6), object(5)\n",
      "memory usage: 1.4+ MB\n"
     ]
    },
    {
     "data": {
      "text/plain": [
       "None"
      ]
     },
     "metadata": {},
     "output_type": "display_data"
    },
    {
     "name": "stdout",
     "output_type": "stream",
     "text": [
      "0\n"
     ]
    },
    {
     "data": {
      "text/html": [
       "<div>\n",
       "<style scoped>\n",
       "    .dataframe tbody tr th:only-of-type {\n",
       "        vertical-align: middle;\n",
       "    }\n",
       "\n",
       "    .dataframe tbody tr th {\n",
       "        vertical-align: top;\n",
       "    }\n",
       "\n",
       "    .dataframe thead th {\n",
       "        text-align: right;\n",
       "    }\n",
       "</style>\n",
       "<table border=\"1\" class=\"dataframe\">\n",
       "  <thead>\n",
       "    <tr style=\"text-align: right;\">\n",
       "      <th></th>\n",
       "      <th>Year_of_Release</th>\n",
       "      <th>NA_sales</th>\n",
       "      <th>EU_sales</th>\n",
       "      <th>JP_sales</th>\n",
       "      <th>Other_sales</th>\n",
       "      <th>Critic_Score</th>\n",
       "    </tr>\n",
       "  </thead>\n",
       "  <tbody>\n",
       "    <tr>\n",
       "      <th>count</th>\n",
       "      <td>16446.000000</td>\n",
       "      <td>16715.000000</td>\n",
       "      <td>16715.000000</td>\n",
       "      <td>16715.000000</td>\n",
       "      <td>16715.000000</td>\n",
       "      <td>8137.000000</td>\n",
       "    </tr>\n",
       "    <tr>\n",
       "      <th>mean</th>\n",
       "      <td>2006.484616</td>\n",
       "      <td>0.263377</td>\n",
       "      <td>0.145060</td>\n",
       "      <td>0.077617</td>\n",
       "      <td>0.047342</td>\n",
       "      <td>68.967679</td>\n",
       "    </tr>\n",
       "    <tr>\n",
       "      <th>std</th>\n",
       "      <td>5.877050</td>\n",
       "      <td>0.813604</td>\n",
       "      <td>0.503339</td>\n",
       "      <td>0.308853</td>\n",
       "      <td>0.186731</td>\n",
       "      <td>13.938165</td>\n",
       "    </tr>\n",
       "    <tr>\n",
       "      <th>min</th>\n",
       "      <td>1980.000000</td>\n",
       "      <td>0.000000</td>\n",
       "      <td>0.000000</td>\n",
       "      <td>0.000000</td>\n",
       "      <td>0.000000</td>\n",
       "      <td>13.000000</td>\n",
       "    </tr>\n",
       "    <tr>\n",
       "      <th>25%</th>\n",
       "      <td>2003.000000</td>\n",
       "      <td>0.000000</td>\n",
       "      <td>0.000000</td>\n",
       "      <td>0.000000</td>\n",
       "      <td>0.000000</td>\n",
       "      <td>60.000000</td>\n",
       "    </tr>\n",
       "    <tr>\n",
       "      <th>50%</th>\n",
       "      <td>2007.000000</td>\n",
       "      <td>0.080000</td>\n",
       "      <td>0.020000</td>\n",
       "      <td>0.000000</td>\n",
       "      <td>0.010000</td>\n",
       "      <td>71.000000</td>\n",
       "    </tr>\n",
       "    <tr>\n",
       "      <th>75%</th>\n",
       "      <td>2010.000000</td>\n",
       "      <td>0.240000</td>\n",
       "      <td>0.110000</td>\n",
       "      <td>0.040000</td>\n",
       "      <td>0.030000</td>\n",
       "      <td>79.000000</td>\n",
       "    </tr>\n",
       "    <tr>\n",
       "      <th>max</th>\n",
       "      <td>2016.000000</td>\n",
       "      <td>41.360000</td>\n",
       "      <td>28.960000</td>\n",
       "      <td>10.220000</td>\n",
       "      <td>10.570000</td>\n",
       "      <td>98.000000</td>\n",
       "    </tr>\n",
       "  </tbody>\n",
       "</table>\n",
       "</div>"
      ],
      "text/plain": [
       "       Year_of_Release      NA_sales      EU_sales      JP_sales  \\\n",
       "count     16446.000000  16715.000000  16715.000000  16715.000000   \n",
       "mean       2006.484616      0.263377      0.145060      0.077617   \n",
       "std           5.877050      0.813604      0.503339      0.308853   \n",
       "min        1980.000000      0.000000      0.000000      0.000000   \n",
       "25%        2003.000000      0.000000      0.000000      0.000000   \n",
       "50%        2007.000000      0.080000      0.020000      0.000000   \n",
       "75%        2010.000000      0.240000      0.110000      0.040000   \n",
       "max        2016.000000     41.360000     28.960000     10.220000   \n",
       "\n",
       "        Other_sales  Critic_Score  \n",
       "count  16715.000000   8137.000000  \n",
       "mean       0.047342     68.967679  \n",
       "std        0.186731     13.938165  \n",
       "min        0.000000     13.000000  \n",
       "25%        0.000000     60.000000  \n",
       "50%        0.010000     71.000000  \n",
       "75%        0.030000     79.000000  \n",
       "max       10.570000     98.000000  "
      ]
     },
     "metadata": {},
     "output_type": "display_data"
    },
    {
     "data": {
      "text/plain": [
       "array([[<AxesSubplot:title={'center':'Year_of_Release'}>,\n",
       "        <AxesSubplot:title={'center':'NA_sales'}>],\n",
       "       [<AxesSubplot:title={'center':'EU_sales'}>,\n",
       "        <AxesSubplot:title={'center':'JP_sales'}>],\n",
       "       [<AxesSubplot:title={'center':'Other_sales'}>,\n",
       "        <AxesSubplot:title={'center':'Critic_Score'}>]], dtype=object)"
      ]
     },
     "execution_count": 96,
     "metadata": {},
     "output_type": "execute_result"
    },
    {
     "data": {
      "image/png": "[encoded data removed]",
      "text/plain": [
       "<Figure size 720x576 with 6 Axes>"
      ]
     },
     "metadata": {
      "needs_background": "light"
     },
     "output_type": "display_data"
    }
   ],
   "source": [
    "data = pd.read_csv('/datasets/games.csv')\n",
    "display(data)\n",
    "display(data.info())\n",
    "print(data.duplicated().sum())\n",
    "display(data.describe())\n",
    "data.hist(figsize=(10,8))"
   ]
  },
  {
   "cell_type": "markdown",
   "metadata": {},
   "source": [
    "<div class=\"alert-success\"> \n",
    "<b>Комментарий ревьюера 👍 </b>\n",
    "\n",
    "Правильный шаг использовать метод hist!</div>"
   ]
  },
  {
   "cell_type": "markdown",
   "metadata": {},
   "source": [
    "# Шаг 2"
   ]
  },
  {
   "cell_type": "code",
   "execution_count": 97,
   "metadata": {},
   "outputs": [
    {
     "data": {
      "text/html": [
       "<div>\n",
       "<style scoped>\n",
       "    .dataframe tbody tr th:only-of-type {\n",
       "        vertical-align: middle;\n",
       "    }\n",
       "\n",
       "    .dataframe tbody tr th {\n",
       "        vertical-align: top;\n",
       "    }\n",
       "\n",
       "    .dataframe thead th {\n",
       "        text-align: right;\n",
       "    }\n",
       "</style>\n",
       "<table border=\"1\" class=\"dataframe\">\n",
       "  <thead>\n",
       "    <tr style=\"text-align: right;\">\n",
       "      <th></th>\n",
       "      <th>name</th>\n",
       "      <th>platform</th>\n",
       "      <th>year_of_release</th>\n",
       "      <th>genre</th>\n",
       "      <th>na_sales</th>\n",
       "      <th>eu_sales</th>\n",
       "      <th>jp_sales</th>\n",
       "      <th>other_sales</th>\n",
       "      <th>critic_score</th>\n",
       "      <th>user_score</th>\n",
       "      <th>rating</th>\n",
       "    </tr>\n",
       "  </thead>\n",
       "  <tbody>\n",
       "    <tr>\n",
       "      <th>0</th>\n",
       "      <td>Wii Sports</td>\n",
       "      <td>Wii</td>\n",
       "      <td>2006.0</td>\n",
       "      <td>Sports</td>\n",
       "      <td>41.36</td>\n",
       "      <td>28.96</td>\n",
       "      <td>3.77</td>\n",
       "      <td>8.45</td>\n",
       "      <td>76.0</td>\n",
       "      <td>8</td>\n",
       "      <td>E</td>\n",
       "    </tr>\n",
       "    <tr>\n",
       "      <th>1</th>\n",
       "      <td>Super Mario Bros.</td>\n",
       "      <td>NES</td>\n",
       "      <td>1985.0</td>\n",
       "      <td>Platform</td>\n",
       "      <td>29.08</td>\n",
       "      <td>3.58</td>\n",
       "      <td>6.81</td>\n",
       "      <td>0.77</td>\n",
       "      <td>NaN</td>\n",
       "      <td>NaN</td>\n",
       "      <td>NaN</td>\n",
       "    </tr>\n",
       "    <tr>\n",
       "      <th>2</th>\n",
       "      <td>Mario Kart Wii</td>\n",
       "      <td>Wii</td>\n",
       "      <td>2008.0</td>\n",
       "      <td>Racing</td>\n",
       "      <td>15.68</td>\n",
       "      <td>12.76</td>\n",
       "      <td>3.79</td>\n",
       "      <td>3.29</td>\n",
       "      <td>82.0</td>\n",
       "      <td>8.3</td>\n",
       "      <td>E</td>\n",
       "    </tr>\n",
       "    <tr>\n",
       "      <th>3</th>\n",
       "      <td>Wii Sports Resort</td>\n",
       "      <td>Wii</td>\n",
       "      <td>2009.0</td>\n",
       "      <td>Sports</td>\n",
       "      <td>15.61</td>\n",
       "      <td>10.93</td>\n",
       "      <td>3.28</td>\n",
       "      <td>2.95</td>\n",
       "      <td>80.0</td>\n",
       "      <td>8</td>\n",
       "      <td>E</td>\n",
       "    </tr>\n",
       "    <tr>\n",
       "      <th>4</th>\n",
       "      <td>Pokemon Red/Pokemon Blue</td>\n",
       "      <td>GB</td>\n",
       "      <td>1996.0</td>\n",
       "      <td>Role-Playing</td>\n",
       "      <td>11.27</td>\n",
       "      <td>8.89</td>\n",
       "      <td>10.22</td>\n",
       "      <td>1.00</td>\n",
       "      <td>NaN</td>\n",
       "      <td>NaN</td>\n",
       "      <td>NaN</td>\n",
       "    </tr>\n",
       "    <tr>\n",
       "      <th>...</th>\n",
       "      <td>...</td>\n",
       "      <td>...</td>\n",
       "      <td>...</td>\n",
       "      <td>...</td>\n",
       "      <td>...</td>\n",
       "      <td>...</td>\n",
       "      <td>...</td>\n",
       "      <td>...</td>\n",
       "      <td>...</td>\n",
       "      <td>...</td>\n",
       "      <td>...</td>\n",
       "    </tr>\n",
       "    <tr>\n",
       "      <th>16710</th>\n",
       "      <td>Samurai Warriors: Sanada Maru</td>\n",
       "      <td>PS3</td>\n",
       "      <td>2016.0</td>\n",
       "      <td>Action</td>\n",
       "      <td>0.00</td>\n",
       "      <td>0.00</td>\n",
       "      <td>0.01</td>\n",
       "      <td>0.00</td>\n",
       "      <td>NaN</td>\n",
       "      <td>NaN</td>\n",
       "      <td>NaN</td>\n",
       "    </tr>\n",
       "    <tr>\n",
       "      <th>16711</th>\n",
       "      <td>LMA Manager 2007</td>\n",
       "      <td>X360</td>\n",
       "      <td>2006.0</td>\n",
       "      <td>Sports</td>\n",
       "      <td>0.00</td>\n",
       "      <td>0.01</td>\n",
       "      <td>0.00</td>\n",
       "      <td>0.00</td>\n",
       "      <td>NaN</td>\n",
       "      <td>NaN</td>\n",
       "      <td>NaN</td>\n",
       "    </tr>\n",
       "    <tr>\n",
       "      <th>16712</th>\n",
       "      <td>Haitaka no Psychedelica</td>\n",
       "      <td>PSV</td>\n",
       "      <td>2016.0</td>\n",
       "      <td>Adventure</td>\n",
       "      <td>0.00</td>\n",
       "      <td>0.00</td>\n",
       "      <td>0.01</td>\n",
       "      <td>0.00</td>\n",
       "      <td>NaN</td>\n",
       "      <td>NaN</td>\n",
       "      <td>NaN</td>\n",
       "    </tr>\n",
       "    <tr>\n",
       "      <th>16713</th>\n",
       "      <td>Spirits &amp; Spells</td>\n",
       "      <td>GBA</td>\n",
       "      <td>2003.0</td>\n",
       "      <td>Platform</td>\n",
       "      <td>0.01</td>\n",
       "      <td>0.00</td>\n",
       "      <td>0.00</td>\n",
       "      <td>0.00</td>\n",
       "      <td>NaN</td>\n",
       "      <td>NaN</td>\n",
       "      <td>NaN</td>\n",
       "    </tr>\n",
       "    <tr>\n",
       "      <th>16714</th>\n",
       "      <td>Winning Post 8 2016</td>\n",
       "      <td>PSV</td>\n",
       "      <td>2016.0</td>\n",
       "      <td>Simulation</td>\n",
       "      <td>0.00</td>\n",
       "      <td>0.00</td>\n",
       "      <td>0.01</td>\n",
       "      <td>0.00</td>\n",
       "      <td>NaN</td>\n",
       "      <td>NaN</td>\n",
       "      <td>NaN</td>\n",
       "    </tr>\n",
       "  </tbody>\n",
       "</table>\n",
       "<p>16715 rows × 11 columns</p>\n",
       "</div>"
      ],
      "text/plain": [
       "                                name platform  year_of_release         genre  \\\n",
       "0                         Wii Sports      Wii           2006.0        Sports   \n",
       "1                  Super Mario Bros.      NES           1985.0      Platform   \n",
       "2                     Mario Kart Wii      Wii           2008.0        Racing   \n",
       "3                  Wii Sports Resort      Wii           2009.0        Sports   \n",
       "4           Pokemon Red/Pokemon Blue       GB           1996.0  Role-Playing   \n",
       "...                              ...      ...              ...           ...   \n",
       "16710  Samurai Warriors: Sanada Maru      PS3           2016.0        Action   \n",
       "16711               LMA Manager 2007     X360           2006.0        Sports   \n",
       "16712        Haitaka no Psychedelica      PSV           2016.0     Adventure   \n",
       "16713               Spirits & Spells      GBA           2003.0      Platform   \n",
       "16714            Winning Post 8 2016      PSV           2016.0    Simulation   \n",
       "\n",
       "       na_sales  eu_sales  jp_sales  other_sales  critic_score user_score  \\\n",
       "0         41.36     28.96      3.77         8.45          76.0          8   \n",
       "1         29.08      3.58      6.81         0.77           NaN        NaN   \n",
       "2         15.68     12.76      3.79         3.29          82.0        8.3   \n",
       "3         15.61     10.93      3.28         2.95          80.0          8   \n",
       "4         11.27      8.89     10.22         1.00           NaN        NaN   \n",
       "...         ...       ...       ...          ...           ...        ...   \n",
       "16710      0.00      0.00      0.01         0.00           NaN        NaN   \n",
       "16711      0.00      0.01      0.00         0.00           NaN        NaN   \n",
       "16712      0.00      0.00      0.01         0.00           NaN        NaN   \n",
       "16713      0.01      0.00      0.00         0.00           NaN        NaN   \n",
       "16714      0.00      0.00      0.01         0.00           NaN        NaN   \n",
       "\n",
       "      rating  \n",
       "0          E  \n",
       "1        NaN  \n",
       "2          E  \n",
       "3          E  \n",
       "4        NaN  \n",
       "...      ...  \n",
       "16710    NaN  \n",
       "16711    NaN  \n",
       "16712    NaN  \n",
       "16713    NaN  \n",
       "16714    NaN  \n",
       "\n",
       "[16715 rows x 11 columns]"
      ]
     },
     "execution_count": 97,
     "metadata": {},
     "output_type": "execute_result"
    }
   ],
   "source": [
    "data.columns = data.columns.str.lower()\n",
    "data"
   ]
  },
  {
   "cell_type": "markdown",
   "metadata": {},
   "source": [
    "<div class=\"alert-warning\"> \n",
    "<b>Комментарий ревьюера 💡</b> \n",
    "    \n",
    "Такая замена регистра не является самой рациональной. Что бы мы делали, если бы в датасете было 1000 и больше столбцов? К тому же, при ручной замене возникает вероятность допустить опечатку или другие ошибки.\n",
    "\n",
    "Лучше воспользоваться методом  data.columns = data.columns.str.lower() </div>"
   ]
  },
  {
   "cell_type": "markdown",
   "metadata": {},
   "source": [
    "<div class=\"alert-success\"> \n",
    "<b>Комментарий Студента 💡</b> \n",
    "    \n",
    "Исправил</div>"
   ]
  },
  {
   "cell_type": "code",
   "execution_count": 98,
   "metadata": {},
   "outputs": [
    {
     "name": "stdout",
     "output_type": "stream",
     "text": [
      "name ['Wii Sports' 'Super Mario Bros.' 'Mario Kart Wii' ...\n",
      " 'Woody Woodpecker in Crazy Castle 5' 'LMA Manager 2007'\n",
      " 'Haitaka no Psychedelica']\n",
      "platform ['Wii' 'NES' 'GB' 'DS' 'X360' 'PS3' 'PS2' 'SNES' 'GBA' 'PS4' '3DS' 'N64'\n",
      " 'PS' 'XB' 'PC' '2600' 'PSP' 'XOne' 'WiiU' 'GC' 'GEN' 'DC' 'PSV' 'SAT'\n",
      " 'SCD' 'WS' 'NG' 'TG16' '3DO' 'GG' 'PCFX']\n",
      "year_of_release [2006. 1985. 2008. 2009. 1996. 1989. 1984. 2005. 1999. 2007. 2010. 2013.\n",
      " 2004. 1990. 1988. 2002. 2001. 2011. 1998. 2015. 2012. 2014. 1992. 1997.\n",
      " 1993. 1994. 1982. 2016. 2003. 1986. 2000.   nan 1995. 1991. 1981. 1987.\n",
      " 1980. 1983.]\n",
      "genre ['Sports' 'Platform' 'Racing' 'Role-Playing' 'Puzzle' 'Misc' 'Shooter'\n",
      " 'Simulation' 'Action' 'Fighting' 'Adventure' 'Strategy' nan]\n",
      "na_sales [4.136e+01 2.908e+01 1.568e+01 1.561e+01 1.127e+01 2.320e+01 1.128e+01\n",
      " 1.396e+01 1.444e+01 2.693e+01 9.050e+00 9.710e+00 9.000e+00 8.920e+00\n",
      " 1.500e+01 9.010e+00 7.020e+00 9.430e+00 1.278e+01 4.740e+00 6.380e+00\n",
      " 1.083e+01 9.540e+00 9.660e+00 8.410e+00 6.060e+00 3.430e+00 5.510e+00\n",
      " 6.850e+00 9.040e+00 5.890e+00 6.030e+00 9.700e+00 5.280e+00 4.990e+00\n",
      " 8.250e+00 8.520e+00 5.540e+00 6.990e+00 6.620e+00 5.030e+00 5.990e+00\n",
      " 3.960e+00 2.500e+00 7.970e+00 6.910e+00 4.340e+00 4.350e+00 3.010e+00\n",
      " 6.160e+00 6.760e+00 4.020e+00 4.890e+00 2.960e+00 4.760e+00 5.010e+00\n",
      " 6.730e+00 5.950e+00 3.660e+00 5.550e+00 7.040e+00 6.650e+00 3.880e+00\n",
      " 5.800e+00 4.100e+00 5.930e+00 4.360e+00 5.700e+00 2.030e+00 4.400e+00\n",
      " 5.050e+00 3.540e+00 1.120e+00 6.820e+00 1.750e+00 3.740e+00 1.060e+00\n",
      " 2.790e+00 2.910e+00 9.900e-01 2.570e+00 2.990e+00 2.280e+00 7.280e+00\n",
      " 2.760e+00 2.900e+00 2.810e+00 6.600e-01 3.780e+00 3.270e+00 3.560e+00\n",
      " 5.390e+00 4.590e+00 4.810e+00 4.460e+00 3.480e+00 2.850e+00 2.530e+00\n",
      " 2.980e+00 3.680e+00 3.150e+00 4.410e+00 4.120e+00 2.710e+00 2.930e+00\n",
      " 3.230e+00 4.050e+00 4.150e+00 2.770e+00 3.450e+00 3.110e+00 8.400e-01\n",
      " 1.660e+00 7.800e-01 2.640e+00 3.170e+00 4.980e+00 2.550e+00 3.640e+00\n",
      " 3.700e+00 4.010e+00 2.470e+00 8.000e-02 3.920e+00 8.000e-01 2.450e+00\n",
      " 4.470e+00 3.180e+00 2.630e+00 1.880e+00 2.410e+00 2.800e+00 6.300e-01\n",
      " 2.260e+00 2.490e+00 3.570e+00 3.070e+00 2.970e+00 2.950e+00 2.540e+00\n",
      " 3.280e+00 3.140e+00 4.700e-01 2.620e+00 3.210e+00 2.070e+00 2.730e+00\n",
      " 1.850e+00 2.180e+00 1.740e+00 3.020e+00 1.620e+00 3.130e+00 1.920e+00\n",
      " 3.330e+00 3.220e+00 2.300e+00 4.260e+00 9.700e-01 6.500e-01 1.210e+00\n",
      " 1.090e+00 2.100e+00 2.440e+00 1.980e+00 3.810e+00 3.590e+00 1.630e+00\n",
      " 1.960e+00 3.400e+00 6.100e-01 2.050e+00 1.700e+00 3.420e+00 3.360e+00\n",
      " 3.490e+00 3.050e+00 1.830e+00 2.310e+00 3.980e+00 0.000e+00 2.600e+00\n",
      " 1.910e+00 2.740e+00 2.830e+00 2.360e+00 1.730e+00 1.940e+00 2.290e+00\n",
      " 1.820e+00 2.420e+00 3.040e+00 1.800e+00 2.080e+00 1.870e+00 4.180e+00\n",
      " 3.190e+00 4.210e+00 3.630e+00 2.780e+00 2.000e-01 1.610e+00 1.540e+00\n",
      " 2.520e+00 2.660e+00 1.000e-01 2.820e+00 2.190e+00 1.560e+00 3.030e+00\n",
      " 2.200e+00 2.090e+00 2.110e+00 1.480e+00 4.000e+00 5.800e-01 2.510e+00\n",
      " 3.000e+00 2.240e+00 1.460e+00 1.410e+00 9.200e-01 8.800e-01 1.280e+00\n",
      " 2.250e+00 3.380e+00 2.040e+00 3.790e+00 4.030e+00 1.650e+00 7.100e-01\n",
      " 1.420e+00 1.100e+00 2.320e+00 1.200e-01 2.350e+00 2.120e+00 1.400e+00\n",
      " 1.680e+00 1.130e+00 1.220e+00 2.670e+00 1.020e+00 1.190e+00 1.530e+00\n",
      " 2.150e+00 9.000e-01 1.970e+00 6.800e-01 1.160e+00 9.300e-01 1.440e+00\n",
      " 1.600e-01 2.130e+00 2.210e+00 1.780e+00 8.600e-01 1.350e+00 1.050e+00\n",
      " 2.230e+00 2.400e+00 1.370e+00 1.300e+00 1.950e+00 1.930e+00 1.330e+00\n",
      " 1.490e+00 1.580e+00 5.000e-02 6.000e-01 2.020e+00 2.380e+00 1.600e+00\n",
      " 2.010e+00 1.570e+00 1.230e+00 1.900e+00 2.140e+00 1.170e+00 2.270e+00\n",
      " 1.640e+00 5.900e-01 1.550e+00 4.600e-01 8.100e-01 1.450e+00 2.700e-01\n",
      " 1.470e+00 1.990e+00 1.500e+00 9.000e-02 2.610e+00 1.890e+00 5.000e-01\n",
      " 8.900e-01 9.500e-01 2.340e+00 7.200e-01 1.720e+00 1.180e+00 1.760e+00\n",
      " 7.300e-01 1.270e+00 2.060e+00 5.500e-01 1.520e+00 1.690e+00 2.170e+00\n",
      " 5.100e-01 1.000e+00 1.290e+00 1.380e+00 1.150e+00 1.670e+00 1.360e+00\n",
      " 1.010e+00 1.040e+00 1.840e+00 2.220e+00 7.900e-01 1.510e+00 1.070e+00\n",
      " 1.320e+00 1.590e+00 2.000e-02 2.900e-01 1.250e+00 2.560e+00 1.430e+00\n",
      " 1.200e+00 4.100e-01 2.800e-01 4.300e-01 6.900e-01 2.000e+00 7.600e-01\n",
      " 1.860e+00 4.800e-01 6.200e-01 1.310e+00 3.700e-01 1.500e-01 6.400e-01\n",
      " 2.600e-01 4.900e-01 1.110e+00 1.300e-01 1.810e+00 1.030e+00 1.260e+00\n",
      " 8.700e-01 7.700e-01 9.600e-01 1.390e+00 1.080e+00 8.500e-01 9.100e-01\n",
      " 3.000e-01 3.800e-01 9.400e-01 7.000e-02 1.340e+00 1.240e+00 3.400e-01\n",
      " 1.400e-01 1.000e-02 5.200e-01 8.200e-01 8.300e-01 1.100e-01 2.500e-01\n",
      " 1.770e+00 3.600e-01 7.500e-01 7.400e-01 1.800e-01 2.200e-01 5.300e-01\n",
      " 4.200e-01 3.200e-01 3.900e-01 2.400e-01 2.300e-01 6.000e-02 4.500e-01\n",
      " 7.000e-01 6.700e-01 3.500e-01 5.600e-01 1.140e+00 9.800e-01 5.700e-01\n",
      " 5.400e-01 4.000e-02 1.700e-01 4.400e-01 3.000e-02 3.300e-01 3.100e-01\n",
      " 4.000e-01 2.100e-01 1.900e-01]\n",
      "eu_sales [2.896e+01 3.580e+00 1.276e+01 1.093e+01 8.890e+00 2.260e+00 9.140e+00\n",
      " 9.180e+00 6.940e+00 6.300e-01 1.095e+01 7.470e+00 6.180e+00 8.030e+00\n",
      " 4.890e+00 8.490e+00 9.090e+00 4.000e-01 3.750e+00 9.200e+00 4.460e+00\n",
      " 2.710e+00 3.440e+00 5.140e+00 5.490e+00 3.900e+00 5.350e+00 3.170e+00\n",
      " 5.090e+00 4.240e+00 5.040e+00 5.860e+00 3.680e+00 4.190e+00 5.730e+00\n",
      " 3.590e+00 4.510e+00 2.550e+00 4.020e+00 4.370e+00 6.310e+00 3.450e+00\n",
      " 2.810e+00 2.850e+00 3.490e+00 1.000e-02 3.350e+00 2.040e+00 3.070e+00\n",
      " 3.870e+00 3.000e+00 4.820e+00 3.640e+00 2.150e+00 3.690e+00 2.650e+00\n",
      " 2.560e+00 3.110e+00 3.140e+00 1.940e+00 1.950e+00 2.470e+00 2.280e+00\n",
      " 3.420e+00 3.630e+00 2.360e+00 1.710e+00 1.850e+00 2.790e+00 1.240e+00\n",
      " 6.120e+00 1.530e+00 3.470e+00 2.240e+00 5.010e+00 2.010e+00 1.720e+00\n",
      " 2.070e+00 6.420e+00 3.860e+00 4.500e-01 3.480e+00 1.890e+00 5.750e+00\n",
      " 2.170e+00 1.370e+00 2.350e+00 1.180e+00 2.110e+00 1.880e+00 2.830e+00\n",
      " 2.990e+00 2.890e+00 3.270e+00 2.220e+00 2.140e+00 1.450e+00 1.750e+00\n",
      " 1.040e+00 1.770e+00 3.020e+00 2.750e+00 2.160e+00 1.900e+00 2.590e+00\n",
      " 2.200e+00 4.300e+00 9.300e-01 2.530e+00 2.520e+00 1.790e+00 1.300e+00\n",
      " 2.600e+00 1.580e+00 1.200e+00 1.560e+00 1.340e+00 1.260e+00 8.300e-01\n",
      " 6.210e+00 2.800e+00 1.590e+00 1.730e+00 4.330e+00 1.830e+00 0.000e+00\n",
      " 2.180e+00 1.980e+00 1.470e+00 6.700e-01 1.550e+00 1.910e+00 6.900e-01\n",
      " 6.000e-01 1.930e+00 1.640e+00 5.500e-01 2.190e+00 1.110e+00 2.290e+00\n",
      " 2.500e+00 9.600e-01 1.210e+00 1.120e+00 7.700e-01 1.690e+00 1.080e+00\n",
      " 7.900e-01 2.370e+00 2.460e+00 2.600e-01 7.500e-01 1.250e+00 2.430e+00\n",
      " 9.800e-01 7.400e-01 2.230e+00 6.100e-01 2.450e+00 1.410e+00 1.800e+00\n",
      " 3.280e+00 1.160e+00 1.990e+00 1.380e+00 1.360e+00 1.170e+00 1.190e+00\n",
      " 9.900e-01 1.680e+00 2.000e+00 1.330e+00 1.570e+00 1.480e+00 2.100e+00\n",
      " 1.270e+00 1.970e+00 9.100e-01 1.390e+00 1.960e+00 2.400e-01 1.510e+00\n",
      " 1.400e-01 1.290e+00 2.390e+00 1.030e+00 5.000e-01 5.800e-01 1.310e+00\n",
      " 2.020e+00 1.320e+00 1.010e+00 2.270e+00 2.300e+00 1.820e+00 2.780e+00\n",
      " 4.400e-01 4.800e-01 2.700e-01 2.100e-01 2.480e+00 5.100e-01 1.520e+00\n",
      " 4.000e-02 2.800e-01 1.350e+00 8.700e-01 2.130e+00 1.130e+00 1.760e+00\n",
      " 7.600e-01 2.120e+00 6.600e-01 1.600e+00 1.440e+00 1.430e+00 1.700e+00\n",
      " 4.700e-01 1.870e+00 8.600e-01 7.300e-01 1.280e+00 8.100e-01 1.090e+00\n",
      " 6.800e-01 1.220e+00 1.400e+00 1.020e+00 1.490e+00 1.140e+00 4.900e-01\n",
      " 9.000e-01 3.800e-01 1.420e+00 9.500e-01 1.620e+00 7.100e-01 1.050e+00\n",
      " 9.200e-01 3.300e-01 3.000e-01 1.670e+00 1.000e+00 8.900e-01 1.000e-01\n",
      " 7.200e-01 5.900e-01 5.600e-01 1.600e-01 9.700e-01 6.200e-01 8.500e-01\n",
      " 9.400e-01 8.800e-01 8.400e-01 1.060e+00 2.000e-01 1.150e+00 8.000e-01\n",
      " 1.100e+00 7.000e-01 1.920e+00 3.200e-01 1.500e-01 5.300e-01 9.000e-02\n",
      " 1.460e+00 2.900e-01 2.200e-01 1.230e+00 7.000e-02 1.700e-01 5.400e-01\n",
      " 3.600e-01 3.100e-01 1.840e+00 5.200e-01 1.100e-01 6.400e-01 1.200e-01\n",
      " 2.050e+00 1.630e+00 8.200e-01 8.000e-02 5.700e-01 1.650e+00 1.900e-01\n",
      " 2.000e-02 4.300e-01 2.500e-01 1.500e+00 1.800e-01 3.900e-01 1.300e-01\n",
      " 1.070e+00 4.600e-01 4.100e-01 6.000e-02 3.000e-02 3.700e-01 5.000e-02\n",
      " 2.300e-01 6.500e-01 4.200e-01 3.400e-01 3.500e-01 7.800e-01]\n",
      "jp_sales [3.770e+00 6.810e+00 3.790e+00 3.280e+00 1.022e+01 4.220e+00 6.500e+00\n",
      " 2.930e+00 4.700e+00 2.800e-01 1.930e+00 4.130e+00 7.200e+00 3.600e+00\n",
      " 2.400e-01 2.530e+00 9.800e-01 4.100e-01 3.540e+00 4.160e+00 6.040e+00\n",
      " 4.180e+00 3.840e+00 6.000e-02 4.700e-01 5.380e+00 5.320e+00 5.650e+00\n",
      " 1.870e+00 1.300e-01 3.120e+00 3.600e-01 1.100e-01 4.350e+00 6.500e-01\n",
      " 7.000e-02 8.000e-02 4.900e-01 3.000e-01 2.660e+00 2.690e+00 4.800e-01\n",
      " 3.800e-01 5.330e+00 1.910e+00 3.960e+00 3.100e+00 1.100e+00 1.200e+00\n",
      " 1.400e-01 2.540e+00 2.140e+00 8.100e-01 2.120e+00 4.400e-01 3.150e+00\n",
      " 1.250e+00 4.000e-02 0.000e+00 2.470e+00 2.230e+00 1.690e+00 1.000e-02\n",
      " 3.000e+00 2.000e-02 4.390e+00 1.980e+00 1.000e-01 3.810e+00 5.000e-02\n",
      " 2.490e+00 1.580e+00 3.140e+00 2.730e+00 6.600e-01 2.200e-01 3.630e+00\n",
      " 1.450e+00 1.310e+00 2.430e+00 7.000e-01 3.500e-01 1.400e+00 6.000e-01\n",
      " 2.260e+00 1.420e+00 1.280e+00 1.390e+00 8.700e-01 1.700e-01 9.400e-01\n",
      " 1.900e-01 2.100e-01 1.600e+00 1.600e-01 1.030e+00 2.500e-01 2.060e+00\n",
      " 1.490e+00 1.290e+00 9.000e-02 2.870e+00 3.000e-02 7.800e-01 8.300e-01\n",
      " 2.330e+00 2.020e+00 1.360e+00 1.810e+00 1.970e+00 9.100e-01 9.900e-01\n",
      " 9.500e-01 2.000e+00 1.010e+00 2.780e+00 2.110e+00 1.090e+00 2.000e-01\n",
      " 1.900e+00 1.270e+00 3.610e+00 1.570e+00 2.200e+00 1.700e+00 1.080e+00\n",
      " 1.500e-01 1.110e+00 2.900e-01 1.540e+00 1.200e-01 8.900e-01 4.870e+00\n",
      " 1.520e+00 1.320e+00 1.150e+00 4.100e+00 1.460e+00 4.600e-01 1.050e+00\n",
      " 1.610e+00 2.600e-01 1.380e+00 6.200e-01 7.300e-01 5.700e-01 3.100e-01\n",
      " 5.800e-01 1.760e+00 2.100e+00 9.000e-01 5.100e-01 6.400e-01 2.460e+00\n",
      " 2.300e-01 3.700e-01 9.200e-01 1.070e+00 2.620e+00 1.120e+00 5.400e-01\n",
      " 2.700e-01 5.900e-01 3.670e+00 5.500e-01 1.750e+00 3.440e+00 3.300e-01\n",
      " 2.550e+00 2.320e+00 2.790e+00 7.400e-01 3.180e+00 8.200e-01 7.700e-01\n",
      " 4.000e-01 2.350e+00 3.190e+00 8.000e-01 7.600e-01 3.030e+00 8.800e-01\n",
      " 4.500e-01 1.160e+00 3.400e-01 1.190e+00 1.130e+00 2.130e+00 1.960e+00\n",
      " 7.100e-01 1.040e+00 2.680e+00 6.800e-01 2.650e+00 9.600e-01 2.410e+00\n",
      " 5.200e-01 1.800e-01 1.340e+00 1.480e+00 2.340e+00 1.060e+00 1.210e+00\n",
      " 2.290e+00 1.630e+00 2.050e+00 2.170e+00 1.560e+00 1.350e+00 1.330e+00\n",
      " 6.300e-01 7.900e-01 7.500e-01 5.300e-01 1.530e+00 1.300e+00 3.900e-01\n",
      " 6.900e-01 4.200e-01 9.300e-01 5.600e-01 8.400e-01 7.200e-01 3.200e-01\n",
      " 1.710e+00 1.650e+00 6.100e-01 1.510e+00 1.500e+00 1.440e+00 1.240e+00\n",
      " 1.180e+00 1.370e+00 1.000e+00 1.260e+00 8.500e-01 4.300e-01 6.700e-01\n",
      " 1.140e+00 8.600e-01 1.170e+00 5.000e-01 1.020e+00 9.700e-01]\n",
      "other_sales [8.450e+00 7.700e-01 3.290e+00 2.950e+00 1.000e+00 5.800e-01 2.880e+00\n",
      " 2.840e+00 2.240e+00 4.700e-01 2.740e+00 1.900e+00 7.100e-01 2.150e+00\n",
      " 1.690e+00 1.770e+00 3.960e+00 1.057e+01 5.500e-01 2.040e+00 1.360e+00\n",
      " 4.200e-01 4.600e-01 1.410e+00 1.780e+00 5.000e-01 1.180e+00 8.000e-01\n",
      " 1.160e+00 1.320e+00 5.900e-01 2.380e+00 1.130e+00 7.800e-01 2.420e+00\n",
      " 1.120e+00 1.280e+00 1.570e+00 1.300e+00 1.010e+00 9.100e-01 1.790e+00\n",
      " 1.970e+00 8.600e-01 1.210e+00 2.300e-01 7.600e-01 7.400e-01 7.530e+00\n",
      " 2.900e-01 1.030e+00 5.200e-01 2.110e+00 1.600e+00 1.610e+00 3.500e-01\n",
      " 9.700e-01 1.060e+00 6.300e-01 1.500e-01 7.900e-01 9.600e-01 1.250e+00\n",
      " 9.000e-01 8.100e-01 3.900e-01 6.800e-01 8.500e-01 1.800e-01 8.000e-02\n",
      " 6.700e-01 7.000e-01 4.100e-01 3.300e-01 6.000e-01 5.400e-01 1.730e+00\n",
      " 1.230e+00 1.600e-01 1.110e+00 3.100e-01 4.800e-01 6.200e-01 1.900e-01\n",
      " 6.900e-01 1.020e+00 7.300e-01 1.080e+00 4.500e-01 2.800e-01 5.100e-01\n",
      " 2.200e-01 1.090e+00 9.900e-01 3.000e-01 6.400e-01 6.600e-01 9.800e-01\n",
      " 1.390e+00 1.400e-01 1.370e+00 7.000e-02 2.100e-01 6.100e-01 1.700e-01\n",
      " 1.200e-01 0.000e+00 7.200e-01 2.400e-01 8.200e-01 1.740e+00 8.700e-01\n",
      " 9.200e-01 5.700e-01 1.100e-01 4.000e-02 5.600e-01 2.000e-01 3.400e-01\n",
      " 9.000e-02 8.300e-01 4.400e-01 6.000e-02 3.200e-01 3.800e-01 1.480e+00\n",
      " 3.700e-01 1.000e-01 2.500e-01 3.600e-01 1.300e-01 4.300e-01 5.000e-02\n",
      " 2.000e-02 2.600e-01 4.000e-01 7.500e-01 1.930e+00 8.400e-01 5.300e-01\n",
      " 8.900e-01 1.670e+00 2.700e-01 2.930e+00 4.900e-01 1.000e-02 2.460e+00\n",
      " 3.000e-02 1.510e+00 2.050e+00 1.680e+00 1.820e+00 1.330e+00 9.400e-01\n",
      " 9.300e-01]\n",
      "critic_score [76. nan 82. 80. 89. 58. 87. 91. 61. 97. 95. 77. 88. 83. 94. 93. 85. 86.\n",
      " 98. 96. 90. 84. 73. 74. 78. 92. 71. 72. 68. 62. 49. 67. 81. 66. 56. 79.\n",
      " 70. 59. 64. 75. 60. 63. 69. 50. 25. 42. 44. 55. 48. 57. 29. 47. 65. 54.\n",
      " 20. 53. 37. 38. 33. 52. 30. 32. 43. 45. 51. 40. 46. 39. 34. 35. 41. 36.\n",
      " 28. 31. 27. 26. 19. 23. 24. 21. 17. 22. 13.]\n",
      "user_score ['8' nan '8.3' '8.5' '6.6' '8.4' '8.6' '7.7' '6.3' '7.4' '8.2' '9' '7.9'\n",
      " '8.1' '8.7' '7.1' '3.4' '5.3' '4.8' '3.2' '8.9' '6.4' '7.8' '7.5' '2.6'\n",
      " '7.2' '9.2' '7' '7.3' '4.3' '7.6' '5.7' '5' '9.1' '6.5' 'tbd' '8.8' '6.9'\n",
      " '9.4' '6.8' '6.1' '6.7' '5.4' '4' '4.9' '4.5' '9.3' '6.2' '4.2' '6' '3.7'\n",
      " '4.1' '5.8' '5.6' '5.5' '4.4' '4.6' '5.9' '3.9' '3.1' '2.9' '5.2' '3.3'\n",
      " '4.7' '5.1' '3.5' '2.5' '1.9' '3' '2.7' '2.2' '2' '9.5' '2.1' '3.6' '2.8'\n",
      " '1.8' '3.8' '0' '1.6' '9.6' '2.4' '1.7' '1.1' '0.3' '1.5' '0.7' '1.2'\n",
      " '2.3' '0.5' '1.3' '0.2' '0.6' '1.4' '0.9' '1' '9.7']\n",
      "rating ['E' nan 'M' 'T' 'E10+' 'K-A' 'AO' 'EC' 'RP']\n"
     ]
    }
   ],
   "source": [
    "for i in data.columns:\n",
    "    print(i,data[i].unique())"
   ]
  },
  {
   "cell_type": "markdown",
   "metadata": {},
   "source": [
    "Посмотрели какие данные стоит изменить"
   ]
  },
  {
   "cell_type": "code",
   "execution_count": 99,
   "metadata": {},
   "outputs": [
    {
     "data": {
      "text/html": [
       "<div>\n",
       "<style scoped>\n",
       "    .dataframe tbody tr th:only-of-type {\n",
       "        vertical-align: middle;\n",
       "    }\n",
       "\n",
       "    .dataframe tbody tr th {\n",
       "        vertical-align: top;\n",
       "    }\n",
       "\n",
       "    .dataframe thead th {\n",
       "        text-align: right;\n",
       "    }\n",
       "</style>\n",
       "<table border=\"1\" class=\"dataframe\">\n",
       "  <thead>\n",
       "    <tr style=\"text-align: right;\">\n",
       "      <th></th>\n",
       "      <th>name</th>\n",
       "      <th>platform</th>\n",
       "      <th>year_of_release</th>\n",
       "      <th>genre</th>\n",
       "      <th>na_sales</th>\n",
       "      <th>eu_sales</th>\n",
       "      <th>jp_sales</th>\n",
       "      <th>other_sales</th>\n",
       "      <th>critic_score</th>\n",
       "      <th>user_score</th>\n",
       "      <th>rating</th>\n",
       "    </tr>\n",
       "  </thead>\n",
       "  <tbody>\n",
       "    <tr>\n",
       "      <th>0</th>\n",
       "      <td>Wii Sports</td>\n",
       "      <td>Wii</td>\n",
       "      <td>2006</td>\n",
       "      <td>Sports</td>\n",
       "      <td>41.36</td>\n",
       "      <td>28.96</td>\n",
       "      <td>3.77</td>\n",
       "      <td>8.45</td>\n",
       "      <td>76.0</td>\n",
       "      <td>8</td>\n",
       "      <td>E</td>\n",
       "    </tr>\n",
       "    <tr>\n",
       "      <th>1</th>\n",
       "      <td>Super Mario Bros.</td>\n",
       "      <td>NES</td>\n",
       "      <td>1985</td>\n",
       "      <td>Platform</td>\n",
       "      <td>29.08</td>\n",
       "      <td>3.58</td>\n",
       "      <td>6.81</td>\n",
       "      <td>0.77</td>\n",
       "      <td>NaN</td>\n",
       "      <td>NaN</td>\n",
       "      <td>NaN</td>\n",
       "    </tr>\n",
       "    <tr>\n",
       "      <th>2</th>\n",
       "      <td>Mario Kart Wii</td>\n",
       "      <td>Wii</td>\n",
       "      <td>2008</td>\n",
       "      <td>Racing</td>\n",
       "      <td>15.68</td>\n",
       "      <td>12.76</td>\n",
       "      <td>3.79</td>\n",
       "      <td>3.29</td>\n",
       "      <td>82.0</td>\n",
       "      <td>8.3</td>\n",
       "      <td>E</td>\n",
       "    </tr>\n",
       "    <tr>\n",
       "      <th>3</th>\n",
       "      <td>Wii Sports Resort</td>\n",
       "      <td>Wii</td>\n",
       "      <td>2009</td>\n",
       "      <td>Sports</td>\n",
       "      <td>15.61</td>\n",
       "      <td>10.93</td>\n",
       "      <td>3.28</td>\n",
       "      <td>2.95</td>\n",
       "      <td>80.0</td>\n",
       "      <td>8</td>\n",
       "      <td>E</td>\n",
       "    </tr>\n",
       "    <tr>\n",
       "      <th>4</th>\n",
       "      <td>Pokemon Red/Pokemon Blue</td>\n",
       "      <td>GB</td>\n",
       "      <td>1996</td>\n",
       "      <td>Role-Playing</td>\n",
       "      <td>11.27</td>\n",
       "      <td>8.89</td>\n",
       "      <td>10.22</td>\n",
       "      <td>1.00</td>\n",
       "      <td>NaN</td>\n",
       "      <td>NaN</td>\n",
       "      <td>NaN</td>\n",
       "    </tr>\n",
       "    <tr>\n",
       "      <th>...</th>\n",
       "      <td>...</td>\n",
       "      <td>...</td>\n",
       "      <td>...</td>\n",
       "      <td>...</td>\n",
       "      <td>...</td>\n",
       "      <td>...</td>\n",
       "      <td>...</td>\n",
       "      <td>...</td>\n",
       "      <td>...</td>\n",
       "      <td>...</td>\n",
       "      <td>...</td>\n",
       "    </tr>\n",
       "    <tr>\n",
       "      <th>16710</th>\n",
       "      <td>Samurai Warriors: Sanada Maru</td>\n",
       "      <td>PS3</td>\n",
       "      <td>2016</td>\n",
       "      <td>Action</td>\n",
       "      <td>0.00</td>\n",
       "      <td>0.00</td>\n",
       "      <td>0.01</td>\n",
       "      <td>0.00</td>\n",
       "      <td>NaN</td>\n",
       "      <td>NaN</td>\n",
       "      <td>NaN</td>\n",
       "    </tr>\n",
       "    <tr>\n",
       "      <th>16711</th>\n",
       "      <td>LMA Manager 2007</td>\n",
       "      <td>X360</td>\n",
       "      <td>2006</td>\n",
       "      <td>Sports</td>\n",
       "      <td>0.00</td>\n",
       "      <td>0.01</td>\n",
       "      <td>0.00</td>\n",
       "      <td>0.00</td>\n",
       "      <td>NaN</td>\n",
       "      <td>NaN</td>\n",
       "      <td>NaN</td>\n",
       "    </tr>\n",
       "    <tr>\n",
       "      <th>16712</th>\n",
       "      <td>Haitaka no Psychedelica</td>\n",
       "      <td>PSV</td>\n",
       "      <td>2016</td>\n",
       "      <td>Adventure</td>\n",
       "      <td>0.00</td>\n",
       "      <td>0.00</td>\n",
       "      <td>0.01</td>\n",
       "      <td>0.00</td>\n",
       "      <td>NaN</td>\n",
       "      <td>NaN</td>\n",
       "      <td>NaN</td>\n",
       "    </tr>\n",
       "    <tr>\n",
       "      <th>16713</th>\n",
       "      <td>Spirits &amp; Spells</td>\n",
       "      <td>GBA</td>\n",
       "      <td>2003</td>\n",
       "      <td>Platform</td>\n",
       "      <td>0.01</td>\n",
       "      <td>0.00</td>\n",
       "      <td>0.00</td>\n",
       "      <td>0.00</td>\n",
       "      <td>NaN</td>\n",
       "      <td>NaN</td>\n",
       "      <td>NaN</td>\n",
       "    </tr>\n",
       "    <tr>\n",
       "      <th>16714</th>\n",
       "      <td>Winning Post 8 2016</td>\n",
       "      <td>PSV</td>\n",
       "      <td>2016</td>\n",
       "      <td>Simulation</td>\n",
       "      <td>0.00</td>\n",
       "      <td>0.00</td>\n",
       "      <td>0.01</td>\n",
       "      <td>0.00</td>\n",
       "      <td>NaN</td>\n",
       "      <td>NaN</td>\n",
       "      <td>NaN</td>\n",
       "    </tr>\n",
       "  </tbody>\n",
       "</table>\n",
       "<p>16715 rows × 11 columns</p>\n",
       "</div>"
      ],
      "text/plain": [
       "                                name platform  year_of_release         genre  \\\n",
       "0                         Wii Sports      Wii             2006        Sports   \n",
       "1                  Super Mario Bros.      NES             1985      Platform   \n",
       "2                     Mario Kart Wii      Wii             2008        Racing   \n",
       "3                  Wii Sports Resort      Wii             2009        Sports   \n",
       "4           Pokemon Red/Pokemon Blue       GB             1996  Role-Playing   \n",
       "...                              ...      ...              ...           ...   \n",
       "16710  Samurai Warriors: Sanada Maru      PS3             2016        Action   \n",
       "16711               LMA Manager 2007     X360             2006        Sports   \n",
       "16712        Haitaka no Psychedelica      PSV             2016     Adventure   \n",
       "16713               Spirits & Spells      GBA             2003      Platform   \n",
       "16714            Winning Post 8 2016      PSV             2016    Simulation   \n",
       "\n",
       "       na_sales  eu_sales  jp_sales  other_sales  critic_score user_score  \\\n",
       "0         41.36     28.96      3.77         8.45          76.0          8   \n",
       "1         29.08      3.58      6.81         0.77           NaN        NaN   \n",
       "2         15.68     12.76      3.79         3.29          82.0        8.3   \n",
       "3         15.61     10.93      3.28         2.95          80.0          8   \n",
       "4         11.27      8.89     10.22         1.00           NaN        NaN   \n",
       "...         ...       ...       ...          ...           ...        ...   \n",
       "16710      0.00      0.00      0.01         0.00           NaN        NaN   \n",
       "16711      0.00      0.01      0.00         0.00           NaN        NaN   \n",
       "16712      0.00      0.00      0.01         0.00           NaN        NaN   \n",
       "16713      0.01      0.00      0.00         0.00           NaN        NaN   \n",
       "16714      0.00      0.00      0.01         0.00           NaN        NaN   \n",
       "\n",
       "      rating  \n",
       "0          E  \n",
       "1        NaN  \n",
       "2          E  \n",
       "3          E  \n",
       "4        NaN  \n",
       "...      ...  \n",
       "16710    NaN  \n",
       "16711    NaN  \n",
       "16712    NaN  \n",
       "16713    NaN  \n",
       "16714    NaN  \n",
       "\n",
       "[16715 rows x 11 columns]"
      ]
     },
     "execution_count": 99,
     "metadata": {},
     "output_type": "execute_result"
    }
   ],
   "source": [
    "data['year_of_release'] = data['year_of_release'].astype('Int64')\n",
    "data"
   ]
  },
  {
   "cell_type": "markdown",
   "metadata": {},
   "source": [
    "Поменял год на int, так как года не могут быть нецелыми"
   ]
  },
  {
   "cell_type": "markdown",
   "metadata": {},
   "source": [
    "<div class=\"alert-success\"> \n",
    "<b>Комментарий ревьюера 👍 </b>\n",
    "\n",
    "Верно!"
   ]
  },
  {
   "cell_type": "code",
   "execution_count": 100,
   "metadata": {},
   "outputs": [
    {
     "data": {
      "text/plain": [
       "array([8. , nan, 8.3, 8.5, 6.6, 8.4, 8.6, 7.7, 6.3, 7.4, 8.2, 9. , 7.9,\n",
       "       8.1, 8.7, 7.1, 3.4, 5.3, 4.8, 3.2, 8.9, 6.4, 7.8, 7.5, 2.6, 7.2,\n",
       "       9.2, 7. , 7.3, 4.3, 7.6, 5.7, 5. , 9.1, 6.5, 8.8, 6.9, 9.4, 6.8,\n",
       "       6.1, 6.7, 5.4, 4. , 4.9, 4.5, 9.3, 6.2, 4.2, 6. , 3.7, 4.1, 5.8,\n",
       "       5.6, 5.5, 4.4, 4.6, 5.9, 3.9, 3.1, 2.9, 5.2, 3.3, 4.7, 5.1, 3.5,\n",
       "       2.5, 1.9, 3. , 2.7, 2.2, 2. , 9.5, 2.1, 3.6, 2.8, 1.8, 3.8, 0. ,\n",
       "       1.6, 9.6, 2.4, 1.7, 1.1, 0.3, 1.5, 0.7, 1.2, 2.3, 0.5, 1.3, 0.2,\n",
       "       0.6, 1.4, 0.9, 1. , 9.7])"
      ]
     },
     "execution_count": 100,
     "metadata": {},
     "output_type": "execute_result"
    }
   ],
   "source": [
    "data.loc[data['user_score']=='tbd'].head(30)\n",
    "\n",
    "data['user_score'] = data['user_score'].replace('tbd',np.NaN)\n",
    "data['user_score'].unique()\n",
    "\n",
    "data['user_score'] = data['user_score'].astype('float')\n",
    "data['user_score'].unique()"
   ]
  },
  {
   "cell_type": "markdown",
   "metadata": {},
   "source": [
    "Поменял значение столбца оценок от пользователей, как я выяснил tbd - это оценки ещё не выставленные по каким-то причинам, возможно человек ещё не дошёл до конца игры. Лучше будет приравнять их к NA. Заодно изменим тип столбца."
   ]
  },
  {
   "cell_type": "code",
   "execution_count": 101,
   "metadata": {},
   "outputs": [
    {
     "data": {
      "text/html": [
       "<div>\n",
       "<style scoped>\n",
       "    .dataframe tbody tr th:only-of-type {\n",
       "        vertical-align: middle;\n",
       "    }\n",
       "\n",
       "    .dataframe tbody tr th {\n",
       "        vertical-align: top;\n",
       "    }\n",
       "\n",
       "    .dataframe thead th {\n",
       "        text-align: right;\n",
       "    }\n",
       "</style>\n",
       "<table border=\"1\" class=\"dataframe\">\n",
       "  <thead>\n",
       "    <tr style=\"text-align: right;\">\n",
       "      <th></th>\n",
       "      <th>name</th>\n",
       "      <th>platform</th>\n",
       "      <th>year_of_release</th>\n",
       "      <th>genre</th>\n",
       "      <th>na_sales</th>\n",
       "      <th>eu_sales</th>\n",
       "      <th>jp_sales</th>\n",
       "      <th>other_sales</th>\n",
       "      <th>critic_score</th>\n",
       "      <th>user_score</th>\n",
       "      <th>rating</th>\n",
       "      <th>sum_reg</th>\n",
       "    </tr>\n",
       "  </thead>\n",
       "  <tbody>\n",
       "    <tr>\n",
       "      <th>0</th>\n",
       "      <td>Wii Sports</td>\n",
       "      <td>Wii</td>\n",
       "      <td>2006</td>\n",
       "      <td>Sports</td>\n",
       "      <td>41.36</td>\n",
       "      <td>28.96</td>\n",
       "      <td>3.77</td>\n",
       "      <td>8.45</td>\n",
       "      <td>76.0</td>\n",
       "      <td>8.0</td>\n",
       "      <td>E</td>\n",
       "      <td>82.54</td>\n",
       "    </tr>\n",
       "    <tr>\n",
       "      <th>1</th>\n",
       "      <td>Super Mario Bros.</td>\n",
       "      <td>NES</td>\n",
       "      <td>1985</td>\n",
       "      <td>Platform</td>\n",
       "      <td>29.08</td>\n",
       "      <td>3.58</td>\n",
       "      <td>6.81</td>\n",
       "      <td>0.77</td>\n",
       "      <td>NaN</td>\n",
       "      <td>NaN</td>\n",
       "      <td>NaN</td>\n",
       "      <td>40.24</td>\n",
       "    </tr>\n",
       "    <tr>\n",
       "      <th>2</th>\n",
       "      <td>Mario Kart Wii</td>\n",
       "      <td>Wii</td>\n",
       "      <td>2008</td>\n",
       "      <td>Racing</td>\n",
       "      <td>15.68</td>\n",
       "      <td>12.76</td>\n",
       "      <td>3.79</td>\n",
       "      <td>3.29</td>\n",
       "      <td>82.0</td>\n",
       "      <td>8.3</td>\n",
       "      <td>E</td>\n",
       "      <td>35.52</td>\n",
       "    </tr>\n",
       "    <tr>\n",
       "      <th>3</th>\n",
       "      <td>Wii Sports Resort</td>\n",
       "      <td>Wii</td>\n",
       "      <td>2009</td>\n",
       "      <td>Sports</td>\n",
       "      <td>15.61</td>\n",
       "      <td>10.93</td>\n",
       "      <td>3.28</td>\n",
       "      <td>2.95</td>\n",
       "      <td>80.0</td>\n",
       "      <td>8.0</td>\n",
       "      <td>E</td>\n",
       "      <td>32.77</td>\n",
       "    </tr>\n",
       "    <tr>\n",
       "      <th>4</th>\n",
       "      <td>Pokemon Red/Pokemon Blue</td>\n",
       "      <td>GB</td>\n",
       "      <td>1996</td>\n",
       "      <td>Role-Playing</td>\n",
       "      <td>11.27</td>\n",
       "      <td>8.89</td>\n",
       "      <td>10.22</td>\n",
       "      <td>1.00</td>\n",
       "      <td>NaN</td>\n",
       "      <td>NaN</td>\n",
       "      <td>NaN</td>\n",
       "      <td>31.38</td>\n",
       "    </tr>\n",
       "    <tr>\n",
       "      <th>...</th>\n",
       "      <td>...</td>\n",
       "      <td>...</td>\n",
       "      <td>...</td>\n",
       "      <td>...</td>\n",
       "      <td>...</td>\n",
       "      <td>...</td>\n",
       "      <td>...</td>\n",
       "      <td>...</td>\n",
       "      <td>...</td>\n",
       "      <td>...</td>\n",
       "      <td>...</td>\n",
       "      <td>...</td>\n",
       "    </tr>\n",
       "    <tr>\n",
       "      <th>16710</th>\n",
       "      <td>Samurai Warriors: Sanada Maru</td>\n",
       "      <td>PS3</td>\n",
       "      <td>2016</td>\n",
       "      <td>Action</td>\n",
       "      <td>0.00</td>\n",
       "      <td>0.00</td>\n",
       "      <td>0.01</td>\n",
       "      <td>0.00</td>\n",
       "      <td>NaN</td>\n",
       "      <td>NaN</td>\n",
       "      <td>NaN</td>\n",
       "      <td>0.01</td>\n",
       "    </tr>\n",
       "    <tr>\n",
       "      <th>16711</th>\n",
       "      <td>LMA Manager 2007</td>\n",
       "      <td>X360</td>\n",
       "      <td>2006</td>\n",
       "      <td>Sports</td>\n",
       "      <td>0.00</td>\n",
       "      <td>0.01</td>\n",
       "      <td>0.00</td>\n",
       "      <td>0.00</td>\n",
       "      <td>NaN</td>\n",
       "      <td>NaN</td>\n",
       "      <td>NaN</td>\n",
       "      <td>0.01</td>\n",
       "    </tr>\n",
       "    <tr>\n",
       "      <th>16712</th>\n",
       "      <td>Haitaka no Psychedelica</td>\n",
       "      <td>PSV</td>\n",
       "      <td>2016</td>\n",
       "      <td>Adventure</td>\n",
       "      <td>0.00</td>\n",
       "      <td>0.00</td>\n",
       "      <td>0.01</td>\n",
       "      <td>0.00</td>\n",
       "      <td>NaN</td>\n",
       "      <td>NaN</td>\n",
       "      <td>NaN</td>\n",
       "      <td>0.01</td>\n",
       "    </tr>\n",
       "    <tr>\n",
       "      <th>16713</th>\n",
       "      <td>Spirits &amp; Spells</td>\n",
       "      <td>GBA</td>\n",
       "      <td>2003</td>\n",
       "      <td>Platform</td>\n",
       "      <td>0.01</td>\n",
       "      <td>0.00</td>\n",
       "      <td>0.00</td>\n",
       "      <td>0.00</td>\n",
       "      <td>NaN</td>\n",
       "      <td>NaN</td>\n",
       "      <td>NaN</td>\n",
       "      <td>0.01</td>\n",
       "    </tr>\n",
       "    <tr>\n",
       "      <th>16714</th>\n",
       "      <td>Winning Post 8 2016</td>\n",
       "      <td>PSV</td>\n",
       "      <td>2016</td>\n",
       "      <td>Simulation</td>\n",
       "      <td>0.00</td>\n",
       "      <td>0.00</td>\n",
       "      <td>0.01</td>\n",
       "      <td>0.00</td>\n",
       "      <td>NaN</td>\n",
       "      <td>NaN</td>\n",
       "      <td>NaN</td>\n",
       "      <td>0.01</td>\n",
       "    </tr>\n",
       "  </tbody>\n",
       "</table>\n",
       "<p>16715 rows × 12 columns</p>\n",
       "</div>"
      ],
      "text/plain": [
       "                                name platform  year_of_release         genre  \\\n",
       "0                         Wii Sports      Wii             2006        Sports   \n",
       "1                  Super Mario Bros.      NES             1985      Platform   \n",
       "2                     Mario Kart Wii      Wii             2008        Racing   \n",
       "3                  Wii Sports Resort      Wii             2009        Sports   \n",
       "4           Pokemon Red/Pokemon Blue       GB             1996  Role-Playing   \n",
       "...                              ...      ...              ...           ...   \n",
       "16710  Samurai Warriors: Sanada Maru      PS3             2016        Action   \n",
       "16711               LMA Manager 2007     X360             2006        Sports   \n",
       "16712        Haitaka no Psychedelica      PSV             2016     Adventure   \n",
       "16713               Spirits & Spells      GBA             2003      Platform   \n",
       "16714            Winning Post 8 2016      PSV             2016    Simulation   \n",
       "\n",
       "       na_sales  eu_sales  jp_sales  other_sales  critic_score  user_score  \\\n",
       "0         41.36     28.96      3.77         8.45          76.0         8.0   \n",
       "1         29.08      3.58      6.81         0.77           NaN         NaN   \n",
       "2         15.68     12.76      3.79         3.29          82.0         8.3   \n",
       "3         15.61     10.93      3.28         2.95          80.0         8.0   \n",
       "4         11.27      8.89     10.22         1.00           NaN         NaN   \n",
       "...         ...       ...       ...          ...           ...         ...   \n",
       "16710      0.00      0.00      0.01         0.00           NaN         NaN   \n",
       "16711      0.00      0.01      0.00         0.00           NaN         NaN   \n",
       "16712      0.00      0.00      0.01         0.00           NaN         NaN   \n",
       "16713      0.01      0.00      0.00         0.00           NaN         NaN   \n",
       "16714      0.00      0.00      0.01         0.00           NaN         NaN   \n",
       "\n",
       "      rating  sum_reg  \n",
       "0          E    82.54  \n",
       "1        NaN    40.24  \n",
       "2          E    35.52  \n",
       "3          E    32.77  \n",
       "4        NaN    31.38  \n",
       "...      ...      ...  \n",
       "16710    NaN     0.01  \n",
       "16711    NaN     0.01  \n",
       "16712    NaN     0.01  \n",
       "16713    NaN     0.01  \n",
       "16714    NaN     0.01  \n",
       "\n",
       "[16715 rows x 12 columns]"
      ]
     },
     "execution_count": 101,
     "metadata": {},
     "output_type": "execute_result"
    }
   ],
   "source": [
    "data['sum_reg'] = data['na_sales'] + data['eu_sales'] + data['jp_sales'] + data['other_sales']\n",
    "data\n",
    "#data['sum_reg'] = data[['na_sales','eu_sales','jp_sales', 'other_sales']].sum(axis = 1)"
   ]
  },
  {
   "cell_type": "markdown",
   "metadata": {},
   "source": [
    "<div class=\"alert-warning\"> \n",
    "<b>Комментарий ревьюера 💡</b> \n",
    "\n",
    "Добавлю, что также можно использовать конструкцию, не переписывая 'data' множнство раз:\n",
    "    \n",
    "    data[['na_sales','eu_sales','jp_sales', 'other_sales']].sum(axis = 1),\n",
    "    \n",
    "где указание на ось axis = 1 означает суммирование по строкам."
   ]
  },
  {
   "cell_type": "markdown",
   "metadata": {},
   "source": [
    "<div class=\"alert-success\"> \n",
    "<b>Комментарий Студента 💡</b> \n",
    "    \n",
    "Добавил в комментариях</div>"
   ]
  },
  {
   "cell_type": "code",
   "execution_count": 102,
   "metadata": {
    "scrolled": true
   },
   "outputs": [
    {
     "data": {
      "text/html": [
       "<div>\n",
       "<style scoped>\n",
       "    .dataframe tbody tr th:only-of-type {\n",
       "        vertical-align: middle;\n",
       "    }\n",
       "\n",
       "    .dataframe tbody tr th {\n",
       "        vertical-align: top;\n",
       "    }\n",
       "\n",
       "    .dataframe thead th {\n",
       "        text-align: right;\n",
       "    }\n",
       "</style>\n",
       "<table border=\"1\" class=\"dataframe\">\n",
       "  <thead>\n",
       "    <tr style=\"text-align: right;\">\n",
       "      <th></th>\n",
       "      <th>name</th>\n",
       "      <th>platform</th>\n",
       "      <th>year_of_release</th>\n",
       "      <th>genre</th>\n",
       "      <th>na_sales</th>\n",
       "      <th>eu_sales</th>\n",
       "      <th>jp_sales</th>\n",
       "      <th>other_sales</th>\n",
       "      <th>critic_score</th>\n",
       "      <th>user_score</th>\n",
       "      <th>rating</th>\n",
       "      <th>sum_reg</th>\n",
       "    </tr>\n",
       "  </thead>\n",
       "  <tbody>\n",
       "    <tr>\n",
       "      <th>0</th>\n",
       "      <td>Wii Sports</td>\n",
       "      <td>Wii</td>\n",
       "      <td>2006</td>\n",
       "      <td>Sports</td>\n",
       "      <td>41.36</td>\n",
       "      <td>28.96</td>\n",
       "      <td>3.77</td>\n",
       "      <td>8.45</td>\n",
       "      <td>76.0</td>\n",
       "      <td>8.0</td>\n",
       "      <td>E</td>\n",
       "      <td>82.54</td>\n",
       "    </tr>\n",
       "    <tr>\n",
       "      <th>1</th>\n",
       "      <td>Super Mario Bros.</td>\n",
       "      <td>NES</td>\n",
       "      <td>1985</td>\n",
       "      <td>Platform</td>\n",
       "      <td>29.08</td>\n",
       "      <td>3.58</td>\n",
       "      <td>6.81</td>\n",
       "      <td>0.77</td>\n",
       "      <td>NaN</td>\n",
       "      <td>NaN</td>\n",
       "      <td>EC</td>\n",
       "      <td>40.24</td>\n",
       "    </tr>\n",
       "    <tr>\n",
       "      <th>2</th>\n",
       "      <td>Mario Kart Wii</td>\n",
       "      <td>Wii</td>\n",
       "      <td>2008</td>\n",
       "      <td>Racing</td>\n",
       "      <td>15.68</td>\n",
       "      <td>12.76</td>\n",
       "      <td>3.79</td>\n",
       "      <td>3.29</td>\n",
       "      <td>82.0</td>\n",
       "      <td>8.3</td>\n",
       "      <td>E</td>\n",
       "      <td>35.52</td>\n",
       "    </tr>\n",
       "    <tr>\n",
       "      <th>3</th>\n",
       "      <td>Wii Sports Resort</td>\n",
       "      <td>Wii</td>\n",
       "      <td>2009</td>\n",
       "      <td>Sports</td>\n",
       "      <td>15.61</td>\n",
       "      <td>10.93</td>\n",
       "      <td>3.28</td>\n",
       "      <td>2.95</td>\n",
       "      <td>80.0</td>\n",
       "      <td>8.0</td>\n",
       "      <td>E</td>\n",
       "      <td>32.77</td>\n",
       "    </tr>\n",
       "    <tr>\n",
       "      <th>4</th>\n",
       "      <td>Pokemon Red/Pokemon Blue</td>\n",
       "      <td>GB</td>\n",
       "      <td>1996</td>\n",
       "      <td>Role-Playing</td>\n",
       "      <td>11.27</td>\n",
       "      <td>8.89</td>\n",
       "      <td>10.22</td>\n",
       "      <td>1.00</td>\n",
       "      <td>NaN</td>\n",
       "      <td>NaN</td>\n",
       "      <td>EC</td>\n",
       "      <td>31.38</td>\n",
       "    </tr>\n",
       "    <tr>\n",
       "      <th>5</th>\n",
       "      <td>Tetris</td>\n",
       "      <td>GB</td>\n",
       "      <td>1989</td>\n",
       "      <td>Puzzle</td>\n",
       "      <td>23.20</td>\n",
       "      <td>2.26</td>\n",
       "      <td>4.22</td>\n",
       "      <td>0.58</td>\n",
       "      <td>NaN</td>\n",
       "      <td>NaN</td>\n",
       "      <td>EC</td>\n",
       "      <td>30.26</td>\n",
       "    </tr>\n",
       "    <tr>\n",
       "      <th>6</th>\n",
       "      <td>New Super Mario Bros.</td>\n",
       "      <td>DS</td>\n",
       "      <td>2006</td>\n",
       "      <td>Platform</td>\n",
       "      <td>11.28</td>\n",
       "      <td>9.14</td>\n",
       "      <td>6.50</td>\n",
       "      <td>2.88</td>\n",
       "      <td>89.0</td>\n",
       "      <td>8.5</td>\n",
       "      <td>E</td>\n",
       "      <td>29.80</td>\n",
       "    </tr>\n",
       "    <tr>\n",
       "      <th>7</th>\n",
       "      <td>Wii Play</td>\n",
       "      <td>Wii</td>\n",
       "      <td>2006</td>\n",
       "      <td>Misc</td>\n",
       "      <td>13.96</td>\n",
       "      <td>9.18</td>\n",
       "      <td>2.93</td>\n",
       "      <td>2.84</td>\n",
       "      <td>58.0</td>\n",
       "      <td>6.6</td>\n",
       "      <td>E</td>\n",
       "      <td>28.91</td>\n",
       "    </tr>\n",
       "    <tr>\n",
       "      <th>8</th>\n",
       "      <td>New Super Mario Bros. Wii</td>\n",
       "      <td>Wii</td>\n",
       "      <td>2009</td>\n",
       "      <td>Platform</td>\n",
       "      <td>14.44</td>\n",
       "      <td>6.94</td>\n",
       "      <td>4.70</td>\n",
       "      <td>2.24</td>\n",
       "      <td>87.0</td>\n",
       "      <td>8.4</td>\n",
       "      <td>E</td>\n",
       "      <td>28.32</td>\n",
       "    </tr>\n",
       "    <tr>\n",
       "      <th>9</th>\n",
       "      <td>Duck Hunt</td>\n",
       "      <td>NES</td>\n",
       "      <td>1984</td>\n",
       "      <td>Shooter</td>\n",
       "      <td>26.93</td>\n",
       "      <td>0.63</td>\n",
       "      <td>0.28</td>\n",
       "      <td>0.47</td>\n",
       "      <td>NaN</td>\n",
       "      <td>NaN</td>\n",
       "      <td>EC</td>\n",
       "      <td>28.31</td>\n",
       "    </tr>\n",
       "    <tr>\n",
       "      <th>10</th>\n",
       "      <td>Nintendogs</td>\n",
       "      <td>DS</td>\n",
       "      <td>2005</td>\n",
       "      <td>Simulation</td>\n",
       "      <td>9.05</td>\n",
       "      <td>10.95</td>\n",
       "      <td>1.93</td>\n",
       "      <td>2.74</td>\n",
       "      <td>NaN</td>\n",
       "      <td>NaN</td>\n",
       "      <td>EC</td>\n",
       "      <td>24.67</td>\n",
       "    </tr>\n",
       "    <tr>\n",
       "      <th>11</th>\n",
       "      <td>Mario Kart DS</td>\n",
       "      <td>DS</td>\n",
       "      <td>2005</td>\n",
       "      <td>Racing</td>\n",
       "      <td>9.71</td>\n",
       "      <td>7.47</td>\n",
       "      <td>4.13</td>\n",
       "      <td>1.90</td>\n",
       "      <td>91.0</td>\n",
       "      <td>8.6</td>\n",
       "      <td>E</td>\n",
       "      <td>23.21</td>\n",
       "    </tr>\n",
       "    <tr>\n",
       "      <th>12</th>\n",
       "      <td>Pokemon Gold/Pokemon Silver</td>\n",
       "      <td>GB</td>\n",
       "      <td>1999</td>\n",
       "      <td>Role-Playing</td>\n",
       "      <td>9.00</td>\n",
       "      <td>6.18</td>\n",
       "      <td>7.20</td>\n",
       "      <td>0.71</td>\n",
       "      <td>NaN</td>\n",
       "      <td>NaN</td>\n",
       "      <td>EC</td>\n",
       "      <td>23.09</td>\n",
       "    </tr>\n",
       "    <tr>\n",
       "      <th>13</th>\n",
       "      <td>Wii Fit</td>\n",
       "      <td>Wii</td>\n",
       "      <td>2007</td>\n",
       "      <td>Sports</td>\n",
       "      <td>8.92</td>\n",
       "      <td>8.03</td>\n",
       "      <td>3.60</td>\n",
       "      <td>2.15</td>\n",
       "      <td>80.0</td>\n",
       "      <td>7.7</td>\n",
       "      <td>E</td>\n",
       "      <td>22.70</td>\n",
       "    </tr>\n",
       "    <tr>\n",
       "      <th>14</th>\n",
       "      <td>Kinect Adventures!</td>\n",
       "      <td>X360</td>\n",
       "      <td>2010</td>\n",
       "      <td>Misc</td>\n",
       "      <td>15.00</td>\n",
       "      <td>4.89</td>\n",
       "      <td>0.24</td>\n",
       "      <td>1.69</td>\n",
       "      <td>61.0</td>\n",
       "      <td>6.3</td>\n",
       "      <td>E</td>\n",
       "      <td>21.82</td>\n",
       "    </tr>\n",
       "    <tr>\n",
       "      <th>15</th>\n",
       "      <td>Wii Fit Plus</td>\n",
       "      <td>Wii</td>\n",
       "      <td>2009</td>\n",
       "      <td>Sports</td>\n",
       "      <td>9.01</td>\n",
       "      <td>8.49</td>\n",
       "      <td>2.53</td>\n",
       "      <td>1.77</td>\n",
       "      <td>80.0</td>\n",
       "      <td>7.4</td>\n",
       "      <td>E</td>\n",
       "      <td>21.80</td>\n",
       "    </tr>\n",
       "    <tr>\n",
       "      <th>16</th>\n",
       "      <td>Grand Theft Auto V</td>\n",
       "      <td>PS3</td>\n",
       "      <td>2013</td>\n",
       "      <td>Action</td>\n",
       "      <td>7.02</td>\n",
       "      <td>9.09</td>\n",
       "      <td>0.98</td>\n",
       "      <td>3.96</td>\n",
       "      <td>97.0</td>\n",
       "      <td>8.2</td>\n",
       "      <td>M</td>\n",
       "      <td>21.05</td>\n",
       "    </tr>\n",
       "    <tr>\n",
       "      <th>17</th>\n",
       "      <td>Grand Theft Auto: San Andreas</td>\n",
       "      <td>PS2</td>\n",
       "      <td>2004</td>\n",
       "      <td>Action</td>\n",
       "      <td>9.43</td>\n",
       "      <td>0.40</td>\n",
       "      <td>0.41</td>\n",
       "      <td>10.57</td>\n",
       "      <td>95.0</td>\n",
       "      <td>9.0</td>\n",
       "      <td>M</td>\n",
       "      <td>20.81</td>\n",
       "    </tr>\n",
       "    <tr>\n",
       "      <th>18</th>\n",
       "      <td>Super Mario World</td>\n",
       "      <td>SNES</td>\n",
       "      <td>1990</td>\n",
       "      <td>Platform</td>\n",
       "      <td>12.78</td>\n",
       "      <td>3.75</td>\n",
       "      <td>3.54</td>\n",
       "      <td>0.55</td>\n",
       "      <td>NaN</td>\n",
       "      <td>NaN</td>\n",
       "      <td>EC</td>\n",
       "      <td>20.62</td>\n",
       "    </tr>\n",
       "    <tr>\n",
       "      <th>19</th>\n",
       "      <td>Brain Age: Train Your Brain in Minutes a Day</td>\n",
       "      <td>DS</td>\n",
       "      <td>2005</td>\n",
       "      <td>Misc</td>\n",
       "      <td>4.74</td>\n",
       "      <td>9.20</td>\n",
       "      <td>4.16</td>\n",
       "      <td>2.04</td>\n",
       "      <td>77.0</td>\n",
       "      <td>7.9</td>\n",
       "      <td>E</td>\n",
       "      <td>20.14</td>\n",
       "    </tr>\n",
       "    <tr>\n",
       "      <th>20</th>\n",
       "      <td>Pokemon Diamond/Pokemon Pearl</td>\n",
       "      <td>DS</td>\n",
       "      <td>2006</td>\n",
       "      <td>Role-Playing</td>\n",
       "      <td>6.38</td>\n",
       "      <td>4.46</td>\n",
       "      <td>6.04</td>\n",
       "      <td>1.36</td>\n",
       "      <td>NaN</td>\n",
       "      <td>NaN</td>\n",
       "      <td>EC</td>\n",
       "      <td>18.24</td>\n",
       "    </tr>\n",
       "    <tr>\n",
       "      <th>21</th>\n",
       "      <td>Super Mario Land</td>\n",
       "      <td>GB</td>\n",
       "      <td>1989</td>\n",
       "      <td>Platform</td>\n",
       "      <td>10.83</td>\n",
       "      <td>2.71</td>\n",
       "      <td>4.18</td>\n",
       "      <td>0.42</td>\n",
       "      <td>NaN</td>\n",
       "      <td>NaN</td>\n",
       "      <td>EC</td>\n",
       "      <td>18.14</td>\n",
       "    </tr>\n",
       "    <tr>\n",
       "      <th>22</th>\n",
       "      <td>Super Mario Bros. 3</td>\n",
       "      <td>NES</td>\n",
       "      <td>1988</td>\n",
       "      <td>Platform</td>\n",
       "      <td>9.54</td>\n",
       "      <td>3.44</td>\n",
       "      <td>3.84</td>\n",
       "      <td>0.46</td>\n",
       "      <td>NaN</td>\n",
       "      <td>NaN</td>\n",
       "      <td>EC</td>\n",
       "      <td>17.28</td>\n",
       "    </tr>\n",
       "    <tr>\n",
       "      <th>23</th>\n",
       "      <td>Grand Theft Auto V</td>\n",
       "      <td>X360</td>\n",
       "      <td>2013</td>\n",
       "      <td>Action</td>\n",
       "      <td>9.66</td>\n",
       "      <td>5.14</td>\n",
       "      <td>0.06</td>\n",
       "      <td>1.41</td>\n",
       "      <td>97.0</td>\n",
       "      <td>8.1</td>\n",
       "      <td>M</td>\n",
       "      <td>16.27</td>\n",
       "    </tr>\n",
       "    <tr>\n",
       "      <th>24</th>\n",
       "      <td>Grand Theft Auto: Vice City</td>\n",
       "      <td>PS2</td>\n",
       "      <td>2002</td>\n",
       "      <td>Action</td>\n",
       "      <td>8.41</td>\n",
       "      <td>5.49</td>\n",
       "      <td>0.47</td>\n",
       "      <td>1.78</td>\n",
       "      <td>95.0</td>\n",
       "      <td>8.7</td>\n",
       "      <td>M</td>\n",
       "      <td>16.15</td>\n",
       "    </tr>\n",
       "    <tr>\n",
       "      <th>25</th>\n",
       "      <td>Pokemon Ruby/Pokemon Sapphire</td>\n",
       "      <td>GBA</td>\n",
       "      <td>2002</td>\n",
       "      <td>Role-Playing</td>\n",
       "      <td>6.06</td>\n",
       "      <td>3.90</td>\n",
       "      <td>5.38</td>\n",
       "      <td>0.50</td>\n",
       "      <td>NaN</td>\n",
       "      <td>NaN</td>\n",
       "      <td>EC</td>\n",
       "      <td>15.84</td>\n",
       "    </tr>\n",
       "    <tr>\n",
       "      <th>26</th>\n",
       "      <td>Brain Age 2: More Training in Minutes a Day</td>\n",
       "      <td>DS</td>\n",
       "      <td>2005</td>\n",
       "      <td>Puzzle</td>\n",
       "      <td>3.43</td>\n",
       "      <td>5.35</td>\n",
       "      <td>5.32</td>\n",
       "      <td>1.18</td>\n",
       "      <td>77.0</td>\n",
       "      <td>7.1</td>\n",
       "      <td>E</td>\n",
       "      <td>15.28</td>\n",
       "    </tr>\n",
       "    <tr>\n",
       "      <th>27</th>\n",
       "      <td>Pokemon Black/Pokemon White</td>\n",
       "      <td>DS</td>\n",
       "      <td>2010</td>\n",
       "      <td>Role-Playing</td>\n",
       "      <td>5.51</td>\n",
       "      <td>3.17</td>\n",
       "      <td>5.65</td>\n",
       "      <td>0.80</td>\n",
       "      <td>NaN</td>\n",
       "      <td>NaN</td>\n",
       "      <td>EC</td>\n",
       "      <td>15.13</td>\n",
       "    </tr>\n",
       "    <tr>\n",
       "      <th>28</th>\n",
       "      <td>Gran Turismo 3: A-Spec</td>\n",
       "      <td>PS2</td>\n",
       "      <td>2001</td>\n",
       "      <td>Racing</td>\n",
       "      <td>6.85</td>\n",
       "      <td>5.09</td>\n",
       "      <td>1.87</td>\n",
       "      <td>1.16</td>\n",
       "      <td>95.0</td>\n",
       "      <td>8.4</td>\n",
       "      <td>E</td>\n",
       "      <td>14.97</td>\n",
       "    </tr>\n",
       "    <tr>\n",
       "      <th>29</th>\n",
       "      <td>Call of Duty: Modern Warfare 3</td>\n",
       "      <td>X360</td>\n",
       "      <td>2011</td>\n",
       "      <td>Shooter</td>\n",
       "      <td>9.04</td>\n",
       "      <td>4.24</td>\n",
       "      <td>0.13</td>\n",
       "      <td>1.32</td>\n",
       "      <td>88.0</td>\n",
       "      <td>3.4</td>\n",
       "      <td>M</td>\n",
       "      <td>14.73</td>\n",
       "    </tr>\n",
       "    <tr>\n",
       "      <th>30</th>\n",
       "      <td>Pokémon Yellow: Special Pikachu Edition</td>\n",
       "      <td>GB</td>\n",
       "      <td>1998</td>\n",
       "      <td>Role-Playing</td>\n",
       "      <td>5.89</td>\n",
       "      <td>5.04</td>\n",
       "      <td>3.12</td>\n",
       "      <td>0.59</td>\n",
       "      <td>NaN</td>\n",
       "      <td>NaN</td>\n",
       "      <td>EC</td>\n",
       "      <td>14.64</td>\n",
       "    </tr>\n",
       "    <tr>\n",
       "      <th>31</th>\n",
       "      <td>Call of Duty: Black Ops 3</td>\n",
       "      <td>PS4</td>\n",
       "      <td>2015</td>\n",
       "      <td>Shooter</td>\n",
       "      <td>6.03</td>\n",
       "      <td>5.86</td>\n",
       "      <td>0.36</td>\n",
       "      <td>2.38</td>\n",
       "      <td>NaN</td>\n",
       "      <td>NaN</td>\n",
       "      <td>EC</td>\n",
       "      <td>14.63</td>\n",
       "    </tr>\n",
       "    <tr>\n",
       "      <th>32</th>\n",
       "      <td>Call of Duty: Black Ops</td>\n",
       "      <td>X360</td>\n",
       "      <td>2010</td>\n",
       "      <td>Shooter</td>\n",
       "      <td>9.70</td>\n",
       "      <td>3.68</td>\n",
       "      <td>0.11</td>\n",
       "      <td>1.13</td>\n",
       "      <td>87.0</td>\n",
       "      <td>6.3</td>\n",
       "      <td>M</td>\n",
       "      <td>14.62</td>\n",
       "    </tr>\n",
       "    <tr>\n",
       "      <th>33</th>\n",
       "      <td>Pokemon X/Pokemon Y</td>\n",
       "      <td>3DS</td>\n",
       "      <td>2013</td>\n",
       "      <td>Role-Playing</td>\n",
       "      <td>5.28</td>\n",
       "      <td>4.19</td>\n",
       "      <td>4.35</td>\n",
       "      <td>0.78</td>\n",
       "      <td>NaN</td>\n",
       "      <td>NaN</td>\n",
       "      <td>EC</td>\n",
       "      <td>14.60</td>\n",
       "    </tr>\n",
       "    <tr>\n",
       "      <th>34</th>\n",
       "      <td>Call of Duty: Black Ops II</td>\n",
       "      <td>PS3</td>\n",
       "      <td>2012</td>\n",
       "      <td>Shooter</td>\n",
       "      <td>4.99</td>\n",
       "      <td>5.73</td>\n",
       "      <td>0.65</td>\n",
       "      <td>2.42</td>\n",
       "      <td>83.0</td>\n",
       "      <td>5.3</td>\n",
       "      <td>M</td>\n",
       "      <td>13.79</td>\n",
       "    </tr>\n",
       "    <tr>\n",
       "      <th>35</th>\n",
       "      <td>Call of Duty: Black Ops II</td>\n",
       "      <td>X360</td>\n",
       "      <td>2012</td>\n",
       "      <td>Shooter</td>\n",
       "      <td>8.25</td>\n",
       "      <td>4.24</td>\n",
       "      <td>0.07</td>\n",
       "      <td>1.12</td>\n",
       "      <td>83.0</td>\n",
       "      <td>4.8</td>\n",
       "      <td>M</td>\n",
       "      <td>13.68</td>\n",
       "    </tr>\n",
       "    <tr>\n",
       "      <th>36</th>\n",
       "      <td>Call of Duty: Modern Warfare 2</td>\n",
       "      <td>X360</td>\n",
       "      <td>2009</td>\n",
       "      <td>Shooter</td>\n",
       "      <td>8.52</td>\n",
       "      <td>3.59</td>\n",
       "      <td>0.08</td>\n",
       "      <td>1.28</td>\n",
       "      <td>94.0</td>\n",
       "      <td>6.3</td>\n",
       "      <td>M</td>\n",
       "      <td>13.47</td>\n",
       "    </tr>\n",
       "    <tr>\n",
       "      <th>37</th>\n",
       "      <td>Call of Duty: Modern Warfare 3</td>\n",
       "      <td>PS3</td>\n",
       "      <td>2011</td>\n",
       "      <td>Shooter</td>\n",
       "      <td>5.54</td>\n",
       "      <td>5.73</td>\n",
       "      <td>0.49</td>\n",
       "      <td>1.57</td>\n",
       "      <td>88.0</td>\n",
       "      <td>3.2</td>\n",
       "      <td>M</td>\n",
       "      <td>13.33</td>\n",
       "    </tr>\n",
       "    <tr>\n",
       "      <th>38</th>\n",
       "      <td>Grand Theft Auto III</td>\n",
       "      <td>PS2</td>\n",
       "      <td>2001</td>\n",
       "      <td>Action</td>\n",
       "      <td>6.99</td>\n",
       "      <td>4.51</td>\n",
       "      <td>0.30</td>\n",
       "      <td>1.30</td>\n",
       "      <td>97.0</td>\n",
       "      <td>8.5</td>\n",
       "      <td>M</td>\n",
       "      <td>13.10</td>\n",
       "    </tr>\n",
       "    <tr>\n",
       "      <th>39</th>\n",
       "      <td>Super Smash Bros. Brawl</td>\n",
       "      <td>Wii</td>\n",
       "      <td>2008</td>\n",
       "      <td>Fighting</td>\n",
       "      <td>6.62</td>\n",
       "      <td>2.55</td>\n",
       "      <td>2.66</td>\n",
       "      <td>1.01</td>\n",
       "      <td>93.0</td>\n",
       "      <td>8.9</td>\n",
       "      <td>T</td>\n",
       "      <td>12.84</td>\n",
       "    </tr>\n",
       "  </tbody>\n",
       "</table>\n",
       "</div>"
      ],
      "text/plain": [
       "                                            name platform  year_of_release  \\\n",
       "0                                     Wii Sports      Wii             2006   \n",
       "1                              Super Mario Bros.      NES             1985   \n",
       "2                                 Mario Kart Wii      Wii             2008   \n",
       "3                              Wii Sports Resort      Wii             2009   \n",
       "4                       Pokemon Red/Pokemon Blue       GB             1996   \n",
       "5                                         Tetris       GB             1989   \n",
       "6                          New Super Mario Bros.       DS             2006   \n",
       "7                                       Wii Play      Wii             2006   \n",
       "8                      New Super Mario Bros. Wii      Wii             2009   \n",
       "9                                      Duck Hunt      NES             1984   \n",
       "10                                    Nintendogs       DS             2005   \n",
       "11                                 Mario Kart DS       DS             2005   \n",
       "12                   Pokemon Gold/Pokemon Silver       GB             1999   \n",
       "13                                       Wii Fit      Wii             2007   \n",
       "14                            Kinect Adventures!     X360             2010   \n",
       "15                                  Wii Fit Plus      Wii             2009   \n",
       "16                            Grand Theft Auto V      PS3             2013   \n",
       "17                 Grand Theft Auto: San Andreas      PS2             2004   \n",
       "18                             Super Mario World     SNES             1990   \n",
       "19  Brain Age: Train Your Brain in Minutes a Day       DS             2005   \n",
       "20                 Pokemon Diamond/Pokemon Pearl       DS             2006   \n",
       "21                              Super Mario Land       GB             1989   \n",
       "22                           Super Mario Bros. 3      NES             1988   \n",
       "23                            Grand Theft Auto V     X360             2013   \n",
       "24                   Grand Theft Auto: Vice City      PS2             2002   \n",
       "25                 Pokemon Ruby/Pokemon Sapphire      GBA             2002   \n",
       "26   Brain Age 2: More Training in Minutes a Day       DS             2005   \n",
       "27                   Pokemon Black/Pokemon White       DS             2010   \n",
       "28                        Gran Turismo 3: A-Spec      PS2             2001   \n",
       "29                Call of Duty: Modern Warfare 3     X360             2011   \n",
       "30       Pokémon Yellow: Special Pikachu Edition       GB             1998   \n",
       "31                     Call of Duty: Black Ops 3      PS4             2015   \n",
       "32                       Call of Duty: Black Ops     X360             2010   \n",
       "33                           Pokemon X/Pokemon Y      3DS             2013   \n",
       "34                    Call of Duty: Black Ops II      PS3             2012   \n",
       "35                    Call of Duty: Black Ops II     X360             2012   \n",
       "36                Call of Duty: Modern Warfare 2     X360             2009   \n",
       "37                Call of Duty: Modern Warfare 3      PS3             2011   \n",
       "38                          Grand Theft Auto III      PS2             2001   \n",
       "39                       Super Smash Bros. Brawl      Wii             2008   \n",
       "\n",
       "           genre  na_sales  eu_sales  jp_sales  other_sales  critic_score  \\\n",
       "0         Sports     41.36     28.96      3.77         8.45          76.0   \n",
       "1       Platform     29.08      3.58      6.81         0.77           NaN   \n",
       "2         Racing     15.68     12.76      3.79         3.29          82.0   \n",
       "3         Sports     15.61     10.93      3.28         2.95          80.0   \n",
       "4   Role-Playing     11.27      8.89     10.22         1.00           NaN   \n",
       "5         Puzzle     23.20      2.26      4.22         0.58           NaN   \n",
       "6       Platform     11.28      9.14      6.50         2.88          89.0   \n",
       "7           Misc     13.96      9.18      2.93         2.84          58.0   \n",
       "8       Platform     14.44      6.94      4.70         2.24          87.0   \n",
       "9        Shooter     26.93      0.63      0.28         0.47           NaN   \n",
       "10    Simulation      9.05     10.95      1.93         2.74           NaN   \n",
       "11        Racing      9.71      7.47      4.13         1.90          91.0   \n",
       "12  Role-Playing      9.00      6.18      7.20         0.71           NaN   \n",
       "13        Sports      8.92      8.03      3.60         2.15          80.0   \n",
       "14          Misc     15.00      4.89      0.24         1.69          61.0   \n",
       "15        Sports      9.01      8.49      2.53         1.77          80.0   \n",
       "16        Action      7.02      9.09      0.98         3.96          97.0   \n",
       "17        Action      9.43      0.40      0.41        10.57          95.0   \n",
       "18      Platform     12.78      3.75      3.54         0.55           NaN   \n",
       "19          Misc      4.74      9.20      4.16         2.04          77.0   \n",
       "20  Role-Playing      6.38      4.46      6.04         1.36           NaN   \n",
       "21      Platform     10.83      2.71      4.18         0.42           NaN   \n",
       "22      Platform      9.54      3.44      3.84         0.46           NaN   \n",
       "23        Action      9.66      5.14      0.06         1.41          97.0   \n",
       "24        Action      8.41      5.49      0.47         1.78          95.0   \n",
       "25  Role-Playing      6.06      3.90      5.38         0.50           NaN   \n",
       "26        Puzzle      3.43      5.35      5.32         1.18          77.0   \n",
       "27  Role-Playing      5.51      3.17      5.65         0.80           NaN   \n",
       "28        Racing      6.85      5.09      1.87         1.16          95.0   \n",
       "29       Shooter      9.04      4.24      0.13         1.32          88.0   \n",
       "30  Role-Playing      5.89      5.04      3.12         0.59           NaN   \n",
       "31       Shooter      6.03      5.86      0.36         2.38           NaN   \n",
       "32       Shooter      9.70      3.68      0.11         1.13          87.0   \n",
       "33  Role-Playing      5.28      4.19      4.35         0.78           NaN   \n",
       "34       Shooter      4.99      5.73      0.65         2.42          83.0   \n",
       "35       Shooter      8.25      4.24      0.07         1.12          83.0   \n",
       "36       Shooter      8.52      3.59      0.08         1.28          94.0   \n",
       "37       Shooter      5.54      5.73      0.49         1.57          88.0   \n",
       "38        Action      6.99      4.51      0.30         1.30          97.0   \n",
       "39      Fighting      6.62      2.55      2.66         1.01          93.0   \n",
       "\n",
       "    user_score rating  sum_reg  \n",
       "0          8.0      E    82.54  \n",
       "1          NaN     EC    40.24  \n",
       "2          8.3      E    35.52  \n",
       "3          8.0      E    32.77  \n",
       "4          NaN     EC    31.38  \n",
       "5          NaN     EC    30.26  \n",
       "6          8.5      E    29.80  \n",
       "7          6.6      E    28.91  \n",
       "8          8.4      E    28.32  \n",
       "9          NaN     EC    28.31  \n",
       "10         NaN     EC    24.67  \n",
       "11         8.6      E    23.21  \n",
       "12         NaN     EC    23.09  \n",
       "13         7.7      E    22.70  \n",
       "14         6.3      E    21.82  \n",
       "15         7.4      E    21.80  \n",
       "16         8.2      M    21.05  \n",
       "17         9.0      M    20.81  \n",
       "18         NaN     EC    20.62  \n",
       "19         7.9      E    20.14  \n",
       "20         NaN     EC    18.24  \n",
       "21         NaN     EC    18.14  \n",
       "22         NaN     EC    17.28  \n",
       "23         8.1      M    16.27  \n",
       "24         8.7      M    16.15  \n",
       "25         NaN     EC    15.84  \n",
       "26         7.1      E    15.28  \n",
       "27         NaN     EC    15.13  \n",
       "28         8.4      E    14.97  \n",
       "29         3.4      M    14.73  \n",
       "30         NaN     EC    14.64  \n",
       "31         NaN     EC    14.63  \n",
       "32         6.3      M    14.62  \n",
       "33         NaN     EC    14.60  \n",
       "34         5.3      M    13.79  \n",
       "35         4.8      M    13.68  \n",
       "36         6.3      M    13.47  \n",
       "37         3.2      M    13.33  \n",
       "38         8.5      M    13.10  \n",
       "39         8.9      T    12.84  "
      ]
     },
     "execution_count": 102,
     "metadata": {},
     "output_type": "execute_result"
    }
   ],
   "source": [
    "'''data.info()\n",
    "\n",
    "data_group = data.pivot_table(index='name', values=['user_score','critic_score'],aggfunc='mean')\n",
    "display(data_group)\n",
    "\n",
    "for i,j,z in zip(data_group.index, data_group['user_score'], data_group['critic_score']): \n",
    "\n",
    "    data.loc[data['name'] == i,'user_score'] = data[data['name'] == i]['user_score'].fillna(j)\n",
    "    data.loc[data['name'] == i,'critic_score'] = data[data['name'] == i]['critic_score'].fillna(round(z,0))  \n",
    "'''\n",
    "data['rating'] = data['rating'].fillna('EC')\n",
    "data.head(40)"
   ]
  },
  {
   "cell_type": "markdown",
   "metadata": {},
   "source": [
    "Я считаю, что можно заменить пропуски столбца 'user_score' ранжированными значениями по конкретной игре и платформе(так как механика игр от платформ может отличаться), оно всё равно не повлияет на рейтинг, также можно сделать с 'cristic_score'. После анализа выяснилось,что лучше всё-таки не учитывать платформу. Год выпуска и жанр можно также заменить, но не факт,что количество данных увеличится, с платформами так не получится, как и с именами и продажами(мы сильно увеличим данные по продажам в сумме), так что их лучше оставить как есть, если будем что-то удалять уничтожим большой кусок данных.\n",
    "\n",
    "P.s. Так как в пункте 5 придётся опровергать/подтверждать гипотезу, закоментировал данные, они повлияют на результат.\n",
    "\n",
    "После ревью понял, что лучше заполнить пропуски в данных по ESRB на для всех."
   ]
  },
  {
   "cell_type": "code",
   "execution_count": 103,
   "metadata": {},
   "outputs": [
    {
     "name": "stdout",
     "output_type": "stream",
     "text": [
      "<class 'pandas.core.frame.DataFrame'>\n",
      "RangeIndex: 16715 entries, 0 to 16714\n",
      "Data columns (total 12 columns):\n",
      " #   Column           Non-Null Count  Dtype  \n",
      "---  ------           --------------  -----  \n",
      " 0   name             16713 non-null  object \n",
      " 1   platform         16715 non-null  object \n",
      " 2   year_of_release  16446 non-null  Int64  \n",
      " 3   genre            16713 non-null  object \n",
      " 4   na_sales         16715 non-null  float64\n",
      " 5   eu_sales         16715 non-null  float64\n",
      " 6   jp_sales         16715 non-null  float64\n",
      " 7   other_sales      16715 non-null  float64\n",
      " 8   critic_score     8137 non-null   float64\n",
      " 9   user_score       7590 non-null   float64\n",
      " 10  rating           16715 non-null  object \n",
      " 11  sum_reg          16715 non-null  float64\n",
      "dtypes: Int64(1), float64(7), object(4)\n",
      "memory usage: 1.5+ MB\n",
      "None\n",
      "[76. nan 82. 80. 89. 58. 87. 91. 61. 97. 95. 77. 88. 83. 94. 93. 85. 86.\n",
      " 98. 96. 90. 84. 73. 74. 78. 92. 71. 72. 68. 62. 49. 67. 81. 66. 56. 79.\n",
      " 70. 59. 64. 75. 60. 63. 69. 50. 25. 42. 44. 55. 48. 57. 29. 47. 65. 54.\n",
      " 20. 53. 37. 38. 33. 52. 30. 32. 43. 45. 51. 40. 46. 39. 34. 35. 41. 36.\n",
      " 28. 31. 27. 26. 19. 23. 24. 21. 17. 22. 13.]\n",
      "<class 'pandas.core.frame.DataFrame'>\n",
      "RangeIndex: 16715 entries, 0 to 16714\n",
      "Data columns (total 12 columns):\n",
      " #   Column           Non-Null Count  Dtype  \n",
      "---  ------           --------------  -----  \n",
      " 0   name             16713 non-null  object \n",
      " 1   platform         16715 non-null  object \n",
      " 2   year_of_release  16446 non-null  Int64  \n",
      " 3   genre            16713 non-null  object \n",
      " 4   na_sales         16715 non-null  float64\n",
      " 5   eu_sales         16715 non-null  float64\n",
      " 6   jp_sales         16715 non-null  float64\n",
      " 7   other_sales      16715 non-null  float64\n",
      " 8   critic_score     8137 non-null   Int64  \n",
      " 9   user_score       7590 non-null   float64\n",
      " 10  rating           16715 non-null  object \n",
      " 11  sum_reg          16715 non-null  float64\n",
      "dtypes: Int64(2), float64(6), object(4)\n",
      "memory usage: 1.6+ MB\n"
     ]
    }
   ],
   "source": [
    "print(data.info())\n",
    "print(data['critic_score'].unique())\n",
    "data['critic_score'] = round(data['critic_score'],0).astype('Int64')\n",
    "data.info()\n"
   ]
  },
  {
   "cell_type": "markdown",
   "metadata": {},
   "source": [
    "Поменял столбец оценка критиков, так как после просмотра уникальных значений, увидел, что там всё целочисленное "
   ]
  },
  {
   "cell_type": "markdown",
   "metadata": {},
   "source": [
    "Я поменял тип данных многих столбцов, проработал пропуски, разобрался с аббривиатурой 'tbd', привёл данные к нормальному виду."
   ]
  },
  {
   "cell_type": "markdown",
   "metadata": {},
   "source": [
    "# Шаг 3"
   ]
  },
  {
   "cell_type": "code",
   "execution_count": 104,
   "metadata": {},
   "outputs": [
    {
     "name": "stdout",
     "output_type": "stream",
     "text": [
      "AxesSubplot(0.125,0.125;0.775x0.755)\n",
      "AxesSubplot(0.125,0.125;0.775x0.755)\n"
     ]
    },
    {
     "data": {
      "text/plain": [
       "Text(0.5, 1.0, 'Количество продаж в год')"
      ]
     },
     "execution_count": 104,
     "metadata": {},
     "output_type": "execute_result"
    },
    {
     "data": {
      "image/png": "[encoded data removed]",
      "text/plain": [
       "<Figure size 432x288 with 1 Axes>"
      ]
     },
     "metadata": {
      "needs_background": "light"
     },
     "output_type": "display_data"
    },
    {
     "data": {
      "image/png": "[encoded data removed]",
      "text/plain": [
       "<Figure size 432x288 with 1 Axes>"
      ]
     },
     "metadata": {
      "needs_background": "light"
     },
     "output_type": "display_data"
    }
   ],
   "source": [
    "god = 'year_of_release'\n",
    "print(data[god].hist())\n",
    "plt.title('Количество продаж в год')\n",
    "\n",
    "new_data = data.pivot_table(index=god,values='name',aggfunc='count')\n",
    "print(new_data.plot())\n",
    "plt.title('Количество продаж в год')"
   ]
  },
  {
   "cell_type": "markdown",
   "metadata": {},
   "source": [
    "<div class=\"alert-warning\"> \n",
    "<b>Комментарий ревьюера 💡</b> \n",
    "    \n",
    "Не забывай добавлять названия графикам."
   ]
  },
  {
   "cell_type": "markdown",
   "metadata": {},
   "source": [
    "<div class=\"alert-success\"> \n",
    "<b>Комментарий Студента 💡</b> \n",
    "    \n",
    "Добавил </div>"
   ]
  },
  {
   "cell_type": "markdown",
   "metadata": {},
   "source": [
    "Количество выпускаемых игр увеличивалось каждый год до 2010, затем постепенно начало сокращаться. Я считаю, что данные за период до 2008 не особо важны, так как в это время у многих даже не было компьютера или приставки, и игры были только для элиты. И они не помогут нам проанализировать будущие периоды"
   ]
  },
  {
   "cell_type": "code",
   "execution_count": 105,
   "metadata": {},
   "outputs": [
    {
     "name": "stdout",
     "output_type": "stream",
     "text": [
      "                          sum_reg\n",
      "platform year_of_release         \n",
      "DS       1985                0.02\n",
      "         2004               17.27\n",
      "         2005              130.14\n",
      "         2006              119.81\n",
      "         2007              146.94\n",
      "...                           ...\n",
      "X360     2012               99.74\n",
      "         2013               88.58\n",
      "         2014               34.74\n",
      "         2015               11.96\n",
      "         2016                1.52\n",
      "\n",
      "[117 rows x 1 columns]\n",
      "PS2\n"
     ]
    },
    {
     "data": {
      "image/png": "[encoded data removed]",
      "text/plain": [
       "<Figure size 432x288 with 1 Axes>"
      ]
     },
     "metadata": {
      "needs_background": "light"
     },
     "output_type": "display_data"
    },
    {
     "name": "stdout",
     "output_type": "stream",
     "text": [
      "X360\n"
     ]
    },
    {
     "data": {
      "image/png": "[encoded data removed]",
      "text/plain": [
       "<Figure size 432x288 with 1 Axes>"
      ]
     },
     "metadata": {
      "needs_background": "light"
     },
     "output_type": "display_data"
    },
    {
     "name": "stdout",
     "output_type": "stream",
     "text": [
      "PS3\n"
     ]
    },
    {
     "data": {
      "image/png": "[encoded data removed]",
      "text/plain": [
       "<Figure size 432x288 with 1 Axes>"
      ]
     },
     "metadata": {
      "needs_background": "light"
     },
     "output_type": "display_data"
    },
    {
     "name": "stdout",
     "output_type": "stream",
     "text": [
      "Wii\n"
     ]
    },
    {
     "data": {
      "image/png": "[encoded data removed]",
      "text/plain": [
       "<Figure size 432x288 with 1 Axes>"
      ]
     },
     "metadata": {
      "needs_background": "light"
     },
     "output_type": "display_data"
    },
    {
     "name": "stdout",
     "output_type": "stream",
     "text": [
      "DS\n"
     ]
    },
    {
     "data": {
      "image/png": "[encoded data removed]",
      "text/plain": [
       "<Figure size 432x288 with 1 Axes>"
      ]
     },
     "metadata": {
      "needs_background": "light"
     },
     "output_type": "display_data"
    },
    {
     "name": "stdout",
     "output_type": "stream",
     "text": [
      "PS\n"
     ]
    },
    {
     "data": {
      "image/png": "[encoded data removed]",
      "text/plain": [
       "<Figure size 432x288 with 1 Axes>"
      ]
     },
     "metadata": {
      "needs_background": "light"
     },
     "output_type": "display_data"
    },
    {
     "name": "stdout",
     "output_type": "stream",
     "text": [
      "GBA\n"
     ]
    },
    {
     "data": {
      "image/png": "[encoded data removed]",
      "text/plain": [
       "<Figure size 432x288 with 1 Axes>"
      ]
     },
     "metadata": {
      "needs_background": "light"
     },
     "output_type": "display_data"
    },
    {
     "name": "stdout",
     "output_type": "stream",
     "text": [
      "PS4\n"
     ]
    },
    {
     "data": {
      "image/png": "[encoded data removed]",
      "text/plain": [
       "<Figure size 432x288 with 1 Axes>"
      ]
     },
     "metadata": {
      "needs_background": "light"
     },
     "output_type": "display_data"
    },
    {
     "name": "stdout",
     "output_type": "stream",
     "text": [
      "PSP\n"
     ]
    },
    {
     "data": {
      "image/png": "[encoded data removed]",
      "text/plain": [
       "<Figure size 432x288 with 1 Axes>"
      ]
     },
     "metadata": {
      "needs_background": "light"
     },
     "output_type": "display_data"
    },
    {
     "name": "stdout",
     "output_type": "stream",
     "text": [
      "PC\n"
     ]
    },
    {
     "data": {
      "image/png": "[encoded data removed]",
      "text/plain": [
       "<Figure size 432x288 with 1 Axes>"
      ]
     },
     "metadata": {
      "needs_background": "light"
     },
     "output_type": "display_data"
    }
   ],
   "source": [
    "#data.plot(y='year_of_release', x='platform')\n",
    "\n",
    "data['platform'].unique()\n",
    "new_data = data.pivot_table(index='platform',values='sum_reg', aggfunc='sum')\n",
    "new_data.count() #31\n",
    "new_data = new_data.sort_values(by='sum_reg',ascending=False)[:10]\n",
    "\n",
    "val = new_data.index\n",
    "\n",
    "new_data2 = data.query('platform in @val').pivot_table(index=['platform','year_of_release'],values='sum_reg', aggfunc='sum')\n",
    "\n",
    "print(new_data2)\n",
    "\n",
    "for i in range(len(val)):\n",
    "    print(val[i])\n",
    "    new_data2.loc[val[i]].plot()\n",
    "    #print(data[data['platform'] == i]['year_of_release'].plot(alpha=0.5,x='year_of_release'))\n",
    "    plt.show()\n"
   ]
  },
  {
   "cell_type": "markdown",
   "metadata": {},
   "source": [
    "<div class=\"alert-success\"> \n",
    "<b>Комментарий ревьюера 👍 </b>\n",
    "\n",
    "Хорошо, что ты используешь здесь цикл!"
   ]
  },
  {
   "cell_type": "markdown",
   "metadata": {},
   "source": [
    "Вывел распределение по годам в топ-10 компаний\n",
    "Посчитал важным актуализировать период только с 2011 года. В среднем платформы развиваются в течении 4-6 лет, после происходит затухание, через 10 лет платформа становится практически незаметной. Кроме PC, так как ноутбуки есть практически у каждого, а поиграть иногда охота."
   ]
  },
  {
   "cell_type": "code",
   "execution_count": 106,
   "metadata": {},
   "outputs": [
    {
     "name": "stdout",
     "output_type": "stream",
     "text": [
      "                          sum_reg\n",
      "platform year_of_release         \n",
      "3DS      2011               63.20\n",
      "         2012               51.36\n",
      "         2013               56.57\n",
      "         2014               43.76\n",
      "         2015               27.78\n",
      "         2016               15.14\n",
      "DS       2011               26.18\n",
      "         2012               11.01\n",
      "         2013                1.54\n",
      "PC       2011               35.03\n",
      "         2012               23.22\n",
      "         2013               12.38\n",
      "         2014               13.28\n",
      "         2015                8.52\n",
      "         2016                5.25\n",
      "PS3      2011              156.78\n",
      "         2012              107.36\n",
      "         2013              113.25\n",
      "         2014               47.76\n",
      "         2015               16.82\n",
      "         2016                3.60\n",
      "PS4      2013               25.99\n",
      "         2014              100.00\n",
      "         2015              118.90\n",
      "         2016               69.25\n",
      "PSV      2011                4.63\n",
      "         2012               16.19\n",
      "         2013               10.59\n",
      "         2014               11.90\n",
      "         2015                6.25\n",
      "         2016                4.25\n",
      "Wii      2011               59.65\n",
      "         2012               21.71\n",
      "         2013                8.59\n",
      "         2014                3.75\n",
      "         2015                1.14\n",
      "         2016                0.18\n",
      "WiiU     2012               17.56\n",
      "         2013               21.65\n",
      "         2014               22.03\n",
      "         2015               16.35\n",
      "         2016                4.60\n",
      "X360     2011              143.84\n",
      "         2012               99.74\n",
      "         2013               88.58\n",
      "         2014               34.74\n",
      "         2015               11.96\n",
      "         2016                1.52\n",
      "XOne     2013               18.96\n",
      "         2014               54.07\n",
      "         2015               60.14\n",
      "         2016               26.15\n",
      "PS3\n"
     ]
    },
    {
     "data": {
      "image/png": "[encoded data removed]",
      "text/plain": [
       "<Figure size 432x288 with 1 Axes>"
      ]
     },
     "metadata": {
      "needs_background": "light"
     },
     "output_type": "display_data"
    },
    {
     "name": "stdout",
     "output_type": "stream",
     "text": [
      "X360\n"
     ]
    },
    {
     "data": {
      "image/png": "[encoded data removed]",
      "text/plain": [
       "<Figure size 432x288 with 1 Axes>"
      ]
     },
     "metadata": {
      "needs_background": "light"
     },
     "output_type": "display_data"
    },
    {
     "name": "stdout",
     "output_type": "stream",
     "text": [
      "PS4\n"
     ]
    },
    {
     "data": {
      "image/png": "[encoded data removed]",
      "text/plain": [
       "<Figure size 432x288 with 1 Axes>"
      ]
     },
     "metadata": {
      "needs_background": "light"
     },
     "output_type": "display_data"
    },
    {
     "name": "stdout",
     "output_type": "stream",
     "text": [
      "3DS\n"
     ]
    },
    {
     "data": {
      "image/png": "[encoded data removed]",
      "text/plain": [
       "<Figure size 432x288 with 1 Axes>"
      ]
     },
     "metadata": {
      "needs_background": "light"
     },
     "output_type": "display_data"
    },
    {
     "name": "stdout",
     "output_type": "stream",
     "text": [
      "XOne\n"
     ]
    },
    {
     "data": {
      "image/png": "[encoded data removed]",
      "text/plain": [
       "<Figure size 432x288 with 1 Axes>"
      ]
     },
     "metadata": {
      "needs_background": "light"
     },
     "output_type": "display_data"
    },
    {
     "name": "stdout",
     "output_type": "stream",
     "text": [
      "PC\n"
     ]
    },
    {
     "data": {
      "image/png": "[encoded data removed]",
      "text/plain": [
       "<Figure size 432x288 with 1 Axes>"
      ]
     },
     "metadata": {
      "needs_background": "light"
     },
     "output_type": "display_data"
    },
    {
     "name": "stdout",
     "output_type": "stream",
     "text": [
      "Wii\n"
     ]
    },
    {
     "data": {
      "image/png": "[encoded data removed]",
      "text/plain": [
       "<Figure size 432x288 with 1 Axes>"
      ]
     },
     "metadata": {
      "needs_background": "light"
     },
     "output_type": "display_data"
    },
    {
     "name": "stdout",
     "output_type": "stream",
     "text": [
      "WiiU\n"
     ]
    },
    {
     "data": {
      "image/png": "[encoded data removed]",
      "text/plain": [
       "<Figure size 432x288 with 1 Axes>"
      ]
     },
     "metadata": {
      "needs_background": "light"
     },
     "output_type": "display_data"
    },
    {
     "name": "stdout",
     "output_type": "stream",
     "text": [
      "PSV\n"
     ]
    },
    {
     "data": {
      "image/png": "[encoded data removed]",
      "text/plain": [
       "<Figure size 432x288 with 1 Axes>"
      ]
     },
     "metadata": {
      "needs_background": "light"
     },
     "output_type": "display_data"
    },
    {
     "name": "stdout",
     "output_type": "stream",
     "text": [
      "DS\n"
     ]
    },
    {
     "data": {
      "image/png": "[encoded data removed]",
      "text/plain": [
       "<Figure size 432x288 with 1 Axes>"
      ]
     },
     "metadata": {
      "needs_background": "light"
     },
     "output_type": "display_data"
    }
   ],
   "source": [
    "# Проведём тоже самое с актуальным периодом\n",
    "dat = 2011\n",
    "new_data = data.query('year_of_release >= @dat').pivot_table(index='platform',values='sum_reg', aggfunc='sum')\n",
    "new_data.count() #31\n",
    "new_data = new_data.sort_values(by='sum_reg',ascending=False)[:10]\n",
    "\n",
    "val = new_data.index\n",
    "\n",
    "new_data2 = data.query('platform in @val and year_of_release >= @dat').pivot_table(index=['platform','year_of_release'],values='sum_reg', aggfunc='sum')\n",
    "\n",
    "print(new_data2)\n",
    "\n",
    "for i in range(len(val)):\n",
    "    print(val[i])\n",
    "    new_data2.loc[val[i]].plot()\n",
    "    plt.show()"
   ]
  },
  {
   "cell_type": "markdown",
   "metadata": {},
   "source": [
    "<div class=\"alert-warning\"> \n",
    "<b>Комментарий ревьюера 💡</b> \n",
    "    \n",
    "Для целей прогнозирования продаж на следующий год даже в традиционных моделях бизнеса редко берут данные более чем за 2-3 года. А в такой динамично меняющейся индустрии, как компьютерные игры и вовсе не стоит брать слишком большой временной интервал - иначе обязательно захватишь уже отжившие тренды, которые зависят не только от выхода новой игровой платформы.\n",
    "\n",
    "В данном случае идеальным периодом будет считаться 2014-2016 гг./2015-2016 гг - т.е. период в 2-3 года с сохранением данных за 2016 г.\n",
    "    \n",
    "Но критической ошибкой выбор периода как у тебя года считаться не будет."
   ]
  },
  {
   "cell_type": "markdown",
   "metadata": {},
   "source": [
    "<div class=\"alert-success\"> \n",
    "<b>Комментарий Студента 💡</b> \n",
    "    \n",
    "Побоялся брать меньше, так как слишком мало данных</div>"
   ]
  },
  {
   "cell_type": "markdown",
   "metadata": {},
   "source": [
    "Давайте проверим каждую из 10 платформ отдельно:\n",
    "1) 3DS как видно по диаграмме и таблице, платформа уже пережила лучшие годы и потихоньку начинает затухать\n",
    "\n",
    "2) DS начал затухать и затух окончательно\n",
    "\n",
    "3) PC - с недавнего времени людям перестало нравиться играть на компьютере, но скорее всего они не перестанут на нём играть окончательно\n",
    "\n",
    "4) Тендеция PS3 похожа на 3DS, продолжает затухание, это одно поколение, будет жить ещё несколько лет\n",
    "\n",
    "5) PS4 относительно новая платформа, поэтому она только начинает развиваться, скорее всего, она и будет одним из лидеров\n",
    "\n",
    "6) PSV достигла рассвета и уже затухла.\n",
    "\n",
    "7) Wii практически затухло, движение только вниз\n",
    "\n",
    "8) WiiU похоже на Wii, движение вверх будет врядли\n",
    "\n",
    "9) X360 тоже поколение, что и PS3\n",
    "\n",
    "10) X One вышла как и PS4 недвно, скорее всего эта платформа будет одним из лидеров\n",
    "\n",
    "Я пришёл к выводу: PS4, X one будут лидерами на рынке, но скорее всего результаты будут немного ниже. PC будет ниже, но недалеко, остальное прошлое поколение будет ниже."
   ]
  },
  {
   "cell_type": "code",
   "execution_count": 107,
   "metadata": {},
   "outputs": [
    {
     "name": "stdout",
     "output_type": "stream",
     "text": [
      "PS3\n"
     ]
    },
    {
     "data": {
      "image/png": "[encoded data removed]",
      "text/plain": [
       "<Figure size 432x288 with 1 Axes>"
      ]
     },
     "metadata": {
      "needs_background": "light"
     },
     "output_type": "display_data"
    },
    {
     "name": "stdout",
     "output_type": "stream",
     "text": [
      "X360\n"
     ]
    },
    {
     "data": {
      "image/png": "[encoded data removed]",
      "text/plain": [
       "<Figure size 432x288 with 1 Axes>"
      ]
     },
     "metadata": {
      "needs_background": "light"
     },
     "output_type": "display_data"
    },
    {
     "name": "stdout",
     "output_type": "stream",
     "text": [
      "PS4\n"
     ]
    },
    {
     "data": {
      "image/png": "[encoded data removed]",
      "text/plain": [
       "<Figure size 432x288 with 1 Axes>"
      ]
     },
     "metadata": {
      "needs_background": "light"
     },
     "output_type": "display_data"
    },
    {
     "name": "stdout",
     "output_type": "stream",
     "text": [
      "3DS\n"
     ]
    },
    {
     "data": {
      "image/png": "[encoded data removed]",
      "text/plain": [
       "<Figure size 432x288 with 1 Axes>"
      ]
     },
     "metadata": {
      "needs_background": "light"
     },
     "output_type": "display_data"
    },
    {
     "name": "stdout",
     "output_type": "stream",
     "text": [
      "XOne\n"
     ]
    },
    {
     "data": {
      "image/png": "[encoded data removed]",
      "text/plain": [
       "<Figure size 432x288 with 1 Axes>"
      ]
     },
     "metadata": {
      "needs_background": "light"
     },
     "output_type": "display_data"
    },
    {
     "name": "stdout",
     "output_type": "stream",
     "text": [
      "PC\n"
     ]
    },
    {
     "data": {
      "image/png": "[encoded data removed]",
      "text/plain": [
       "<Figure size 432x288 with 1 Axes>"
      ]
     },
     "metadata": {
      "needs_background": "light"
     },
     "output_type": "display_data"
    },
    {
     "name": "stdout",
     "output_type": "stream",
     "text": [
      "Wii\n"
     ]
    },
    {
     "data": {
      "image/png": "[encoded data removed]",
      "text/plain": [
       "<Figure size 432x288 with 1 Axes>"
      ]
     },
     "metadata": {
      "needs_background": "light"
     },
     "output_type": "display_data"
    },
    {
     "name": "stdout",
     "output_type": "stream",
     "text": [
      "WiiU\n"
     ]
    },
    {
     "data": {
      "image/png": "[encoded data removed]",
      "text/plain": [
       "<Figure size 432x288 with 1 Axes>"
      ]
     },
     "metadata": {
      "needs_background": "light"
     },
     "output_type": "display_data"
    },
    {
     "name": "stdout",
     "output_type": "stream",
     "text": [
      "PSV\n"
     ]
    },
    {
     "data": {
      "image/png": "[encoded data removed]",
      "text/plain": [
       "<Figure size 432x288 with 1 Axes>"
      ]
     },
     "metadata": {
      "needs_background": "light"
     },
     "output_type": "display_data"
    },
    {
     "name": "stdout",
     "output_type": "stream",
     "text": [
      "DS\n"
     ]
    },
    {
     "data": {
      "image/png": "[encoded data removed]",
      "text/plain": [
       "<Figure size 432x288 with 1 Axes>"
      ]
     },
     "metadata": {
      "needs_background": "light"
     },
     "output_type": "display_data"
    }
   ],
   "source": [
    "import seaborn as sns\n",
    "for i in range(len(val)):\n",
    "    print(val[i])\n",
    "    new_data2.loc[val[i]].boxplot()\n",
    "    plt.show()\n",
    "    \n",
    "#sns.boxplot(data=new_data2[new_data2.isin(val)],x='sum_reg', y=data.index)\n"
   ]
  },
  {
   "cell_type": "markdown",
   "metadata": {},
   "source": [
    "<div class=\"alert-warning\"> \n",
    "<b>Комментарий ревьюера 💡</b> \n",
    "\n",
    "Тут стоило бы построить \"ящики\" в одной системе координат - для большей наглядности в сравнении.\n",
    "\n",
    "Также, могу посоветовать использовать библиотеку seaborn в этом случае - так \"ящики с усами\" получаются чуть более репрезентативными, чем со стандартными инструментами matplotlib. "
   ]
  },
  {
   "cell_type": "markdown",
   "metadata": {},
   "source": [
    "Разбивка сумм достаточно широка, при этом похожа у некоторых похожа PS3 = X360, PS4 держится чуть выше, но у прошлых больший разброс, значит есть и года с большими продажами, Xone ещё не успел рассвести. DS похож на Psv. Возможно стоило сделать разбивку также и по производителям."
   ]
  },
  {
   "cell_type": "code",
   "execution_count": 108,
   "metadata": {},
   "outputs": [
    {
     "name": "stdout",
     "output_type": "stream",
     "text": [
      "0.40656790206178095 -> оценка критиков\n"
     ]
    },
    {
     "data": {
      "image/png": "[encoded data removed]",
      "text/plain": [
       "<Figure size 432x288 with 1 Axes>"
      ]
     },
     "metadata": {
      "needs_background": "light"
     },
     "output_type": "display_data"
    },
    {
     "name": "stdout",
     "output_type": "stream",
     "text": [
      "-0.031957110204556376 -> оценка игроков\n"
     ]
    },
    {
     "data": {
      "image/png": "[encoded data removed]",
      "text/plain": [
       "<Figure size 432x288 with 1 Axes>"
      ]
     },
     "metadata": {
      "needs_background": "light"
     },
     "output_type": "display_data"
    }
   ],
   "source": [
    "new_data3 = data.loc[data['platform']=='PS4',['user_score','critic_score','sum_reg']]\n",
    "\n",
    "print(new_data3['critic_score'].astype('float').corr(new_data3['sum_reg']), '->', 'оценка критиков')\n",
    "plt.plot(new_data3['critic_score'].astype('float'), new_data3['sum_reg'], 'ro')\n",
    "plt.show()\n",
    "\n",
    "print(new_data3['user_score'].astype('float').corr(new_data3['sum_reg']), '->', 'оценка игроков')\n",
    "plt.plot(new_data3['user_score'], new_data3['sum_reg'], 'ro')\n",
    "plt.show()"
   ]
  },
  {
   "cell_type": "markdown",
   "metadata": {},
   "source": [
    "Смотря на корреляцию оказалось, что оценка критиков достаточно сильно влияет на продажи, а оценка игроков не так сильно. Но по графикам видно, что, если убрать некоторые значения, то оценки игоков всё же на цену влияют. А оценки критиков влияют очень сильно, особенно на участке 70-100. Переёдём к похожей платформе"
   ]
  },
  {
   "cell_type": "code",
   "execution_count": 109,
   "metadata": {},
   "outputs": [
    {
     "name": "stdout",
     "output_type": "stream",
     "text": [
      "0.4169983280084017 -> оценка критиков\n"
     ]
    },
    {
     "data": {
      "image/png": "[encoded data removed]",
      "text/plain": [
       "<Figure size 432x288 with 1 Axes>"
      ]
     },
     "metadata": {
      "needs_background": "light"
     },
     "output_type": "display_data"
    },
    {
     "name": "stdout",
     "output_type": "stream",
     "text": [
      "-0.06892505328279414 -> оценка игроков\n"
     ]
    },
    {
     "data": {
      "image/png": "[encoded data removed]",
      "text/plain": [
       "<Figure size 432x288 with 1 Axes>"
      ]
     },
     "metadata": {
      "needs_background": "light"
     },
     "output_type": "display_data"
    }
   ],
   "source": [
    "new_data3 = data.loc[data['platform']=='XOne',['user_score','critic_score','sum_reg']]\n",
    "\n",
    "print(new_data3['critic_score'].astype('float').corr(new_data3['sum_reg']), '->', 'оценка критиков')\n",
    "plt.plot(new_data3['critic_score'].astype('float'), new_data3['sum_reg'], 'ro')\n",
    "plt.show()\n",
    "\n",
    "print(new_data3['user_score'].astype('float').corr(new_data3['sum_reg']), '->', 'оценка игроков')\n",
    "plt.plot(new_data3['user_score'], new_data3['sum_reg'], 'ro')\n",
    "plt.show()"
   ]
  },
  {
   "cell_type": "markdown",
   "metadata": {},
   "source": [
    "Снова оценки игроков влияют меньше, а рейтинг сильно. Перейдём к последней."
   ]
  },
  {
   "cell_type": "code",
   "execution_count": 110,
   "metadata": {},
   "outputs": [
    {
     "name": "stdout",
     "output_type": "stream",
     "text": [
      "0.25688673789482114 -> оценка критиков\n"
     ]
    },
    {
     "data": {
      "image/png": "[encoded data removed]",
      "text/plain": [
       "<Figure size 432x288 with 1 Axes>"
      ]
     },
     "metadata": {
      "needs_background": "light"
     },
     "output_type": "display_data"
    },
    {
     "name": "stdout",
     "output_type": "stream",
     "text": [
      "0.01047568462148642 -> оценка игроков\n"
     ]
    },
    {
     "data": {
      "image/png": "[encoded data removed]",
      "text/plain": [
       "<Figure size 432x288 with 1 Axes>"
      ]
     },
     "metadata": {
      "needs_background": "light"
     },
     "output_type": "display_data"
    }
   ],
   "source": [
    "new_data3 = data.loc[data['platform']=='PC',['user_score','critic_score','sum_reg']]\n",
    "\n",
    "print(new_data3['critic_score'].astype('float').corr(new_data3['sum_reg']), '->', 'оценка критиков')\n",
    "plt.plot(new_data3['critic_score'].astype('float'), new_data3['sum_reg'], 'ro')\n",
    "plt.show()\n",
    "\n",
    "print(new_data3['user_score'].astype('float').corr(new_data3['sum_reg']), '->', 'оценка игроков')\n",
    "plt.plot(new_data3['user_score'], new_data3['sum_reg'], 'ro')\n",
    "plt.show()"
   ]
  },
  {
   "cell_type": "markdown",
   "metadata": {},
   "source": [
    "Похожая ситуация, но всё влияет ещё меньше."
   ]
  },
  {
   "cell_type": "markdown",
   "metadata": {},
   "source": [
    "<div class=\"alert-success\"> \n",
    "<b>Комментарий ревьюера 👍 </b>\n",
    "\n",
    "Согласен, результаты везде соответствуют примерно одному выводу."
   ]
  },
  {
   "cell_type": "code",
   "execution_count": 111,
   "metadata": {},
   "outputs": [
    {
     "data": {
      "text/html": [
       "<div>\n",
       "<style scoped>\n",
       "    .dataframe tbody tr th:only-of-type {\n",
       "        vertical-align: middle;\n",
       "    }\n",
       "\n",
       "    .dataframe tbody tr th {\n",
       "        vertical-align: top;\n",
       "    }\n",
       "\n",
       "    .dataframe thead th {\n",
       "        text-align: right;\n",
       "    }\n",
       "</style>\n",
       "<table border=\"1\" class=\"dataframe\">\n",
       "  <thead>\n",
       "    <tr style=\"text-align: right;\">\n",
       "      <th></th>\n",
       "      <th>sum</th>\n",
       "      <th>count</th>\n",
       "      <th>mean</th>\n",
       "      <th>median</th>\n",
       "      <th>kach</th>\n",
       "    </tr>\n",
       "    <tr>\n",
       "      <th>genre</th>\n",
       "      <th></th>\n",
       "      <th></th>\n",
       "      <th></th>\n",
       "      <th></th>\n",
       "      <th></th>\n",
       "    </tr>\n",
       "  </thead>\n",
       "  <tbody>\n",
       "    <tr>\n",
       "      <th>Action</th>\n",
       "      <td>1744.17</td>\n",
       "      <td>3369</td>\n",
       "      <td>0.517711</td>\n",
       "      <td>0.19</td>\n",
       "      <td>0.517711</td>\n",
       "    </tr>\n",
       "    <tr>\n",
       "      <th>Sports</th>\n",
       "      <td>1331.27</td>\n",
       "      <td>2348</td>\n",
       "      <td>0.566980</td>\n",
       "      <td>0.22</td>\n",
       "      <td>0.566980</td>\n",
       "    </tr>\n",
       "    <tr>\n",
       "      <th>Shooter</th>\n",
       "      <td>1052.45</td>\n",
       "      <td>1323</td>\n",
       "      <td>0.795503</td>\n",
       "      <td>0.24</td>\n",
       "      <td>0.795503</td>\n",
       "    </tr>\n",
       "    <tr>\n",
       "      <th>Role-Playing</th>\n",
       "      <td>934.56</td>\n",
       "      <td>1498</td>\n",
       "      <td>0.623872</td>\n",
       "      <td>0.18</td>\n",
       "      <td>0.623872</td>\n",
       "    </tr>\n",
       "    <tr>\n",
       "      <th>Platform</th>\n",
       "      <td>827.77</td>\n",
       "      <td>888</td>\n",
       "      <td>0.932173</td>\n",
       "      <td>0.27</td>\n",
       "      <td>0.932173</td>\n",
       "    </tr>\n",
       "    <tr>\n",
       "      <th>Misc</th>\n",
       "      <td>802.51</td>\n",
       "      <td>1750</td>\n",
       "      <td>0.458577</td>\n",
       "      <td>0.16</td>\n",
       "      <td>0.458577</td>\n",
       "    </tr>\n",
       "    <tr>\n",
       "      <th>Racing</th>\n",
       "      <td>728.67</td>\n",
       "      <td>1249</td>\n",
       "      <td>0.583403</td>\n",
       "      <td>0.19</td>\n",
       "      <td>0.583403</td>\n",
       "    </tr>\n",
       "    <tr>\n",
       "      <th>Fighting</th>\n",
       "      <td>447.53</td>\n",
       "      <td>849</td>\n",
       "      <td>0.527126</td>\n",
       "      <td>0.21</td>\n",
       "      <td>0.527126</td>\n",
       "    </tr>\n",
       "    <tr>\n",
       "      <th>Simulation</th>\n",
       "      <td>389.97</td>\n",
       "      <td>873</td>\n",
       "      <td>0.446701</td>\n",
       "      <td>0.15</td>\n",
       "      <td>0.446701</td>\n",
       "    </tr>\n",
       "    <tr>\n",
       "      <th>Puzzle</th>\n",
       "      <td>242.57</td>\n",
       "      <td>580</td>\n",
       "      <td>0.418224</td>\n",
       "      <td>0.11</td>\n",
       "      <td>0.418224</td>\n",
       "    </tr>\n",
       "    <tr>\n",
       "      <th>Adventure</th>\n",
       "      <td>237.59</td>\n",
       "      <td>1303</td>\n",
       "      <td>0.182341</td>\n",
       "      <td>0.05</td>\n",
       "      <td>0.182341</td>\n",
       "    </tr>\n",
       "    <tr>\n",
       "      <th>Strategy</th>\n",
       "      <td>174.23</td>\n",
       "      <td>683</td>\n",
       "      <td>0.255095</td>\n",
       "      <td>0.10</td>\n",
       "      <td>0.255095</td>\n",
       "    </tr>\n",
       "  </tbody>\n",
       "</table>\n",
       "</div>"
      ],
      "text/plain": [
       "                  sum  count      mean  median      kach\n",
       "genre                                                   \n",
       "Action        1744.17   3369  0.517711    0.19  0.517711\n",
       "Sports        1331.27   2348  0.566980    0.22  0.566980\n",
       "Shooter       1052.45   1323  0.795503    0.24  0.795503\n",
       "Role-Playing   934.56   1498  0.623872    0.18  0.623872\n",
       "Platform       827.77    888  0.932173    0.27  0.932173\n",
       "Misc           802.51   1750  0.458577    0.16  0.458577\n",
       "Racing         728.67   1249  0.583403    0.19  0.583403\n",
       "Fighting       447.53    849  0.527126    0.21  0.527126\n",
       "Simulation     389.97    873  0.446701    0.15  0.446701\n",
       "Puzzle         242.57    580  0.418224    0.11  0.418224\n",
       "Adventure      237.59   1303  0.182341    0.05  0.182341\n",
       "Strategy       174.23    683  0.255095    0.10  0.255095"
      ]
     },
     "execution_count": 111,
     "metadata": {},
     "output_type": "execute_result"
    }
   ],
   "source": [
    "new_data4 = data.pivot_table(index='genre', values='sum_reg',aggfunc=['sum','count','mean','median'])\n",
    "new_data4.columns = ['sum','count','mean','median']\n",
    "new_data4 = new_data4.sort_values(by='sum',ascending=False)\n",
    "new_data4['kach'] = new_data4['sum'] / new_data4['count']\n",
    "new_data4"
   ]
  },
  {
   "cell_type": "markdown",
   "metadata": {},
   "source": [
    "Люди больше всего любят пострелять, спорт(не нравятся качалки) и шутеры. Был добавлен параметр качества, чтобы узнать насколько дороже в основном игры, оказалось приключения очень доступны,но малопродажны, а Plotform очень дорогие. Можно заметить, что чем меньше нужно думать, тем больше популярность:)))"
   ]
  },
  {
   "cell_type": "markdown",
   "metadata": {},
   "source": [
    "<div class=\"alert-success\"> \n",
    "<b>Комментарий ревьюера 👍 </b>\n",
    "\n",
    "Хорошо, что ты выводишь тут медианные значения! Это верный подход при поиске наиболее прибыльного жанра."
   ]
  },
  {
   "cell_type": "markdown",
   "metadata": {},
   "source": [
    "Я провёл большой исследовательский анализ построил множество графиков и узнал немного о распределении плтформ, жанров и игр."
   ]
  },
  {
   "cell_type": "markdown",
   "metadata": {},
   "source": [
    "# Шаг 4"
   ]
  },
  {
   "cell_type": "markdown",
   "metadata": {},
   "source": [
    "#Na"
   ]
  },
  {
   "cell_type": "code",
   "execution_count": 112,
   "metadata": {},
   "outputs": [
    {
     "data": {
      "text/plain": [
       "([<matplotlib.patches.Wedge at 0x7f73222cb1f0>,\n",
       "  <matplotlib.patches.Wedge at 0x7f73222cb6d0>,\n",
       "  <matplotlib.patches.Wedge at 0x7f73222cbb50>,\n",
       "  <matplotlib.patches.Wedge at 0x7f73222cbfd0>,\n",
       "  <matplotlib.patches.Wedge at 0x7f73222b5490>],\n",
       " [Text(0.5487811653512698, 0.953330599821333, 'X360'),\n",
       "  Text(-1.0610848245599183, 0.28999826738904483, 'PS3'),\n",
       "  Text(-0.5815416964835672, -0.9337072642166894, 'PS4'),\n",
       "  Text(0.4040696052614142, -1.0230971381564338, 'XOne'),\n",
       "  Text(1.0206786570352095, -0.41014031632211106, '3DS')])"
      ]
     },
     "execution_count": 112,
     "metadata": {},
     "output_type": "execute_result"
    },
    {
     "data": {
      "image/png": "[encoded data removed]",
      "text/plain": [
       "<Figure size 432x288 with 1 Axes>"
      ]
     },
     "metadata": {},
     "output_type": "display_data"
    }
   ],
   "source": [
    "country = 'na_sales'\n",
    "typ = 'platform'\n",
    "new_data5 = data.query('year_of_release >= 2011').pivot_table(index=typ,values=country,aggfunc='sum')\n",
    "new_data5 = new_data5.sort_values(by=country,ascending=False)[:5]\n",
    "\n",
    "plt.pie(new_data5[country],labels=new_data5.index)"
   ]
  },
  {
   "cell_type": "code",
   "execution_count": 113,
   "metadata": {},
   "outputs": [
    {
     "data": {
      "text/plain": [
       "([<matplotlib.patches.Wedge at 0x7f73265c4fd0>,\n",
       "  <matplotlib.patches.Wedge at 0x7f73265bf4f0>,\n",
       "  <matplotlib.patches.Wedge at 0x7f73265bf970>,\n",
       "  <matplotlib.patches.Wedge at 0x7f73265bfdf0>,\n",
       "  <matplotlib.patches.Wedge at 0x7f73263842b0>],\n",
       " [Text(0.5423793174690493, 0.9569872914421635, 'Action'),\n",
       "  Text(-1.0888042522830057, 0.1565416884106117, 'Shooter'),\n",
       "  Text(-0.3548363526702035, -1.041196985600567, 'Sports'),\n",
       "  Text(0.5759652566110379, -0.9371574164338569, 'Role-Playing'),\n",
       "  Text(1.0446957030066149, -0.344399314923121, 'Misc')])"
      ]
     },
     "execution_count": 113,
     "metadata": {},
     "output_type": "execute_result"
    },
    {
     "data": {
      "image/png": "[encoded data removed]",
      "text/plain": [
       "<Figure size 432x288 with 1 Axes>"
      ]
     },
     "metadata": {},
     "output_type": "display_data"
    }
   ],
   "source": [
    "country = 'na_sales'\n",
    "typ = 'genre'\n",
    "new_data5 = data.query('year_of_release >= 2011').pivot_table(index=typ,values=country,aggfunc='sum')\n",
    "new_data5 = new_data5.sort_values(by=country,ascending=False)[:5]\n",
    "\n",
    "plt.pie(new_data5[country],labels=new_data5.index)"
   ]
  },
  {
   "cell_type": "code",
   "execution_count": 114,
   "metadata": {},
   "outputs": [
    {
     "data": {
      "text/plain": [
       "([<matplotlib.patches.Wedge at 0x7f73222924f0>,\n",
       "  <matplotlib.patches.Wedge at 0x7f7322280310>,\n",
       "  <matplotlib.patches.Wedge at 0x7f7322280790>,\n",
       "  <matplotlib.patches.Wedge at 0x7f7322280c10>,\n",
       "  <matplotlib.patches.Wedge at 0x7f73222770d0>],\n",
       " [Text(0.431356714417447, 1.0118949475745915, 'M'),\n",
       "  Text(-1.0856628493817342, 0.17702027418443972, 'E'),\n",
       "  Text(-0.6375615520120532, -0.8963901312464245, 'EC'),\n",
       "  Text(0.3223013634892864, -1.0517232673536072, 'E10+'),\n",
       "  Text(1.0071314935264728, -0.4423642783353291, 'T')])"
      ]
     },
     "execution_count": 114,
     "metadata": {},
     "output_type": "execute_result"
    },
    {
     "data": {
      "image/png": "[encoded data removed]",
      "text/plain": [
       "<Figure size 432x288 with 1 Axes>"
      ]
     },
     "metadata": {},
     "output_type": "display_data"
    }
   ],
   "source": [
    "country = 'na_sales'\n",
    "typ = 'rating'\n",
    "\n",
    "new_data5 = data.query('year_of_release >= 2011').pivot_table(index=typ,values=country,aggfunc='sum')\n",
    "new_data5 = new_data5.sort_values(by=country,ascending=False)[:5]\n",
    "\n",
    "plt.pie(new_data5[country],labels=new_data5.index)"
   ]
  },
  {
   "cell_type": "markdown",
   "metadata": {},
   "source": [
    "<div class=\"alert-warning\"> \n",
    "<b>Комментарий ревьюера 💡</b> \n",
    "    \n",
    "Верно, но когда нужно построить три графика сразу, в следующий раз могу посоветовать строить диаграмы рядом с помощью subplots (не забывая при этом о \"двухуровневых заголовках\" - и у всех трех графиков вместе, и у каждого из трех по отдельности).\n",
    "\n",
    "Так сравнение будет более наглядным.</div>"
   ]
  },
  {
   "cell_type": "markdown",
   "metadata": {},
   "source": [
    "Америке больше нравится Xbox, скорее всего из-за того, что это их компания. Популярнее всего - игры для взрослых. Также Action и Shooter."
   ]
  },
  {
   "cell_type": "markdown",
   "metadata": {},
   "source": [
    "#Eu"
   ]
  },
  {
   "cell_type": "code",
   "execution_count": 115,
   "metadata": {},
   "outputs": [
    {
     "data": {
      "text/plain": [
       "([<matplotlib.patches.Wedge at 0x7f7326a37b50>,\n",
       "  <matplotlib.patches.Wedge at 0x7f7326a37fd0>,\n",
       "  <matplotlib.patches.Wedge at 0x7f73263c7f40>,\n",
       "  <matplotlib.patches.Wedge at 0x7f73263c7400>,\n",
       "  <matplotlib.patches.Wedge at 0x7f73263c7880>],\n",
       " [Text(0.6396907998494167, 0.894871879426331, 'PS3'),\n",
       "  Text(-1.0047209819415084, 0.4478121798773356, 'PS4'),\n",
       "  Text(-0.5137296555099509, -0.9726673845923011, 'X360'),\n",
       "  Text(0.5779661045178389, -0.9359247737016446, '3DS'),\n",
       "  Text(1.0405325208677005, -0.35678014661232, 'PC')])"
      ]
     },
     "execution_count": 115,
     "metadata": {},
     "output_type": "execute_result"
    },
    {
     "data": {
      "image/png": "[encoded data removed]",
      "text/plain": [
       "<Figure size 432x288 with 1 Axes>"
      ]
     },
     "metadata": {},
     "output_type": "display_data"
    }
   ],
   "source": [
    "country = 'eu_sales'\n",
    "new_data5 = data.query('year_of_release >= 2011').pivot_table(index='platform',values=country,aggfunc='sum')\n",
    "new_data5 = new_data5.sort_values(by=country,ascending=False)[:5]\n",
    "\n",
    "plt.pie(new_data5[country],labels=new_data5.index)"
   ]
  },
  {
   "cell_type": "code",
   "execution_count": 116,
   "metadata": {},
   "outputs": [
    {
     "data": {
      "text/plain": [
       "([<matplotlib.patches.Wedge at 0x7f732230eac0>,\n",
       "  <matplotlib.patches.Wedge at 0x7f732230e250>,\n",
       "  <matplotlib.patches.Wedge at 0x7f7322325370>,\n",
       "  <matplotlib.patches.Wedge at 0x7f73223257f0>,\n",
       "  <matplotlib.patches.Wedge at 0x7f7322325c70>],\n",
       " [Text(0.43759875706060086, 1.009211240434339, 'Action'),\n",
       "  Text(-1.098872956408656, -0.04978178053967887, 'Shooter'),\n",
       "  Text(-0.15980243737391195, -1.088330455794267, 'Sports'),\n",
       "  Text(0.7367111245624395, -0.8168578327628045, 'Role-Playing'),\n",
       "  Text(1.0693178650237627, -0.2579908981747659, 'Racing')])"
      ]
     },
     "execution_count": 116,
     "metadata": {},
     "output_type": "execute_result"
    },
    {
     "data": {
      "image/png": "[encoded data removed]",
      "text/plain": [
       "<Figure size 432x288 with 1 Axes>"
      ]
     },
     "metadata": {},
     "output_type": "display_data"
    }
   ],
   "source": [
    "country = 'eu_sales'\n",
    "typ = 'genre'\n",
    "new_data5 = data.query('year_of_release >= 2011').pivot_table(index=typ,values=country,aggfunc='sum')\n",
    "new_data5 = new_data5.sort_values(by=country,ascending=False)[:5]\n",
    "\n",
    "plt.pie(new_data5[country],labels=new_data5.index)"
   ]
  },
  {
   "cell_type": "code",
   "execution_count": 117,
   "metadata": {},
   "outputs": [
    {
     "data": {
      "text/plain": [
       "([<matplotlib.patches.Wedge at 0x7f73264047f0>,\n",
       "  <matplotlib.patches.Wedge at 0x7f7326404cd0>,\n",
       "  <matplotlib.patches.Wedge at 0x7f732640bd60>,\n",
       "  <matplotlib.patches.Wedge at 0x7f732640b160>,\n",
       "  <matplotlib.patches.Wedge at 0x7f732640b3a0>],\n",
       " [Text(0.4252383175177562, 1.0144813321666732, 'M'),\n",
       "  Text(-1.0908545799660632, 0.1415495862482979, 'E'),\n",
       "  Text(-0.5158043265179748, -0.9715687812735333, 'EC'),\n",
       "  Text(0.4774577978697766, -0.9909763121555146, 'T'),\n",
       "  Text(1.0271945506178501, -0.39353698070320275, 'E10+')])"
      ]
     },
     "execution_count": 117,
     "metadata": {},
     "output_type": "execute_result"
    },
    {
     "data": {
      "image/png": "[encoded data removed]",
      "text/plain": [
       "<Figure size 432x288 with 1 Axes>"
      ]
     },
     "metadata": {},
     "output_type": "display_data"
    }
   ],
   "source": [
    "country = 'eu_sales'\n",
    "typ = 'rating'\n",
    "\n",
    "new_data5 = data.query('year_of_release >= 2011').pivot_table(index=typ,values=country,aggfunc='sum')\n",
    "new_data5 = new_data5.sort_values(by=country,ascending=False)[:5]\n",
    "\n",
    "plt.pie(new_data5[country],labels=new_data5.index)"
   ]
  },
  {
   "cell_type": "markdown",
   "metadata": {},
   "source": [
    "Playstation занял Европу полностью), рейтинг для старших тоже популярен, а жанры практически одинаковы."
   ]
  },
  {
   "cell_type": "markdown",
   "metadata": {},
   "source": [
    "#Jp"
   ]
  },
  {
   "cell_type": "code",
   "execution_count": 118,
   "metadata": {},
   "outputs": [
    {
     "data": {
      "text/plain": [
       "([<matplotlib.patches.Wedge at 0x7f732673e520>,\n",
       "  <matplotlib.patches.Wedge at 0x7f732673ea00>,\n",
       "  <matplotlib.patches.Wedge at 0x7f732673ee80>,\n",
       "  <matplotlib.patches.Wedge at 0x7f732675b340>,\n",
       "  <matplotlib.patches.Wedge at 0x7f732675b7c0>],\n",
       " [Text(0.08644743110236115, 1.0965978486463497, '3DS'),\n",
       "  Text(-0.9230631249327274, -0.5982929611732271, 'PS3'),\n",
       "  Text(0.10237367768838623, -1.095225835212334, 'PSP'),\n",
       "  Text(0.7685640995310823, -0.7869620225347452, 'PSV'),\n",
       "  Text(1.0693348435678485, -0.2579205155309, 'PS4')])"
      ]
     },
     "execution_count": 118,
     "metadata": {},
     "output_type": "execute_result"
    },
    {
     "data": {
      "image/png": "[encoded data removed]",
      "text/plain": [
       "<Figure size 432x288 with 1 Axes>"
      ]
     },
     "metadata": {},
     "output_type": "display_data"
    }
   ],
   "source": [
    "country = 'jp_sales'\n",
    "new_data5 = data.query('year_of_release >= 2011').pivot_table(index='platform',values=country,aggfunc='sum')\n",
    "new_data5 = new_data5.sort_values(by=country,ascending=False)[:5]\n",
    "\n",
    "plt.pie(new_data5[country],labels=new_data5.index)"
   ]
  },
  {
   "cell_type": "code",
   "execution_count": 119,
   "metadata": {},
   "outputs": [
    {
     "data": {
      "text/plain": [
       "([<matplotlib.patches.Wedge at 0x7f73263553a0>,\n",
       "  <matplotlib.patches.Wedge at 0x7f73263558b0>,\n",
       "  <matplotlib.patches.Wedge at 0x7f7326355d30>,\n",
       "  <matplotlib.patches.Wedge at 0x7f73263531f0>,\n",
       "  <matplotlib.patches.Wedge at 0x7f7326353670>],\n",
       " [Text(0.23883090335058557, 1.073759656349941, 'Role-Playing'),\n",
       "  Text(-0.8828625420139479, -0.6561659332125299, 'Action'),\n",
       "  Text(0.4716561841860773, -0.9937506950533567, 'Misc'),\n",
       "  Text(0.8951421078844835, -0.6393126048281264, 'Fighting'),\n",
       "  Text(1.0768950855683714, -0.22426987019813863, 'Platform')])"
      ]
     },
     "execution_count": 119,
     "metadata": {},
     "output_type": "execute_result"
    },
    {
     "data": {
      "image/png": "[encoded data removed]",
      "text/plain": [
       "<Figure size 432x288 with 1 Axes>"
      ]
     },
     "metadata": {},
     "output_type": "display_data"
    }
   ],
   "source": [
    "country = 'jp_sales'\n",
    "typ = 'genre'\n",
    "\n",
    "new_data5 = data.query('year_of_release >= 2011').pivot_table(index=typ,values=country,aggfunc='sum')\n",
    "new_data5 = new_data5.sort_values(by=country,ascending=False)[:5]\n",
    "\n",
    "plt.pie(new_data5[country],labels=new_data5.index)"
   ]
  },
  {
   "cell_type": "code",
   "execution_count": 120,
   "metadata": {},
   "outputs": [
    {
     "data": {
      "text/plain": [
       "([<matplotlib.patches.Wedge at 0x7f73269d11f0>,\n",
       "  <matplotlib.patches.Wedge at 0x7f73269d16d0>,\n",
       "  <matplotlib.patches.Wedge at 0x7f73269d1b50>,\n",
       "  <matplotlib.patches.Wedge at 0x7f73269d1fd0>,\n",
       "  <matplotlib.patches.Wedge at 0x7f7326493490>],\n",
       " [Text(-0.21503913617738896, 1.0787762371836351, 'EC'),\n",
       "  Text(-0.7155020711874762, -0.8354979270629174, 'E'),\n",
       "  Text(0.20551131747010595, -1.080631805191621, 'T'),\n",
       "  Text(0.8942806165231558, -0.6405171183590369, 'M'),\n",
       "  Text(1.0886748798240664, -0.1574388962107356, 'E10+')])"
      ]
     },
     "execution_count": 120,
     "metadata": {},
     "output_type": "execute_result"
    },
    {
     "data": {
      "image/png": "[encoded data removed]",
      "text/plain": [
       "<Figure size 432x288 with 1 Axes>"
      ]
     },
     "metadata": {},
     "output_type": "display_data"
    }
   ],
   "source": [
    "country = 'jp_sales'\n",
    "typ = 'rating'\n",
    "\n",
    "new_data5 = data.query('year_of_release >= 2011').pivot_table(index=typ,values=country,aggfunc='sum')\n",
    "new_data5 = new_data5.sort_values(by=country,ascending=False)[:5]\n",
    "\n",
    "plt.pie(new_data5[country],labels=new_data5.index)"
   ]
  },
  {
   "cell_type": "markdown",
   "metadata": {},
   "source": [
    "<div class=\"alert-danger\"> \n",
    "<b>Комментарий ревьюера ❌</b> \n",
    "    \n",
    "Тут стоит включить в анализ те игры, для которых рейтинг не определен. При твоем способе подсчета игры без рейтинга оказываются полностью исключенными из анализа. Потому что это может указать на ключевое различие в регионах, если, например, игр без рейтинга ESRB где-либо будет продано больше, чем с этим рейтингом.\n",
    "    \n",
    "Так мы сможем ответить на вопрос, в каком регионе ESRB не влияет на продажи."
   ]
  },
  {
   "cell_type": "markdown",
   "metadata": {},
   "source": [
    "<div class=\"alert-success\"> \n",
    "<b>Комментарий студента 👍 </b>\n",
    "\n",
    "Всё поменял, выводы обновил)\n",
    "    "
   ]
  },
  {
   "cell_type": "markdown",
   "metadata": {},
   "source": [
    "А вот Японии своя же консоль не особо нравится, им нинтендо подавай и жанры у них отличаются, и любят они игры для маленьких всё никак у людей!"
   ]
  },
  {
   "cell_type": "markdown",
   "metadata": {},
   "source": [
    "Общий вывод: \n",
    "1) Игр для детей от 3 лет очень мало в продажах, скорее всего, из-за того, что большинству таких игр легче присвоить E - для всех\n",
    "\n",
    "2) Для разных регионов различаются любимые платформы, жанры такие же кроме Японии\n",
    "\n",
    "3) ESRB отличается в Японии"
   ]
  },
  {
   "cell_type": "markdown",
   "metadata": {},
   "source": [
    "# Шаг 5"
   ]
  },
  {
   "cell_type": "code",
   "execution_count": 121,
   "metadata": {},
   "outputs": [
    {
     "name": "stdout",
     "output_type": "stream",
     "text": [
      "Ttest_1sampResult(statistic=9.812799867699955, pvalue=1.702334561123658e-21)\n",
      "Нулевая гипотеза опровергнута 1.702334561123658e-21\n"
     ]
    }
   ],
   "source": [
    "alpha = .01\n",
    "first = 'PC'\n",
    "second = 'XOne'\n",
    "perem = 'user_score'\n",
    "new_data6 = data.query('platform == @first')[perem].dropna()\n",
    "new_data7 = data.query('platform == @second')[perem].mean()\n",
    "\n",
    "result = st.ttest_1samp(new_data6,new_data7)\n",
    "\n",
    "print(result)\n",
    "\n",
    "if result.pvalue > alpha:\n",
    "    print('Нулевая гипотеза потверждена', result.pvalue)\n",
    "else:\n",
    "    print('Нулевая гипотеза опровергнута', result.pvalue)"
   ]
  },
  {
   "cell_type": "markdown",
   "metadata": {},
   "source": [
    "Нулевая гипотеза: отзывы пользователей PC и XOne одинаковы\n",
    "\n",
    "Альтернативная: отзывы пользователей PC и XOne не одинаковы\n",
    "\n",
    "Берем alpha = 0.01 чтобы наверняка. \n",
    "\n",
    "Не получилось сделать эксперимент по 2-м выборкам сразу, так как они не равны по размеру. Возьмём среднюю у одного и выборку у другого. Повторим наоборот ниже."
   ]
  },
  {
   "cell_type": "code",
   "execution_count": 122,
   "metadata": {},
   "outputs": [
    {
     "name": "stdout",
     "output_type": "stream",
     "text": [
      "Ttest_1sampResult(statistic=-5.285538582912207, pvalue=3.578803099048936e-07)\n",
      "Нулевая гипотеза опровергнута 3.578803099048936e-07\n"
     ]
    }
   ],
   "source": [
    "alpha = .01\n",
    "first = 'PC'\n",
    "second = 'XOne'\n",
    "perem = 'user_score'\n",
    "new_data6 = data.query('platform == @first')[perem].mean()\n",
    "new_data7 = data.query('platform == @second')[perem].dropna()\n",
    "\n",
    "result = st.ttest_1samp(new_data7,new_data6)\n",
    "print(result)\n",
    "\n",
    "if result.pvalue > alpha:\n",
    "    print('Нулевая гипотеза потверждена', result.pvalue)\n",
    "else:\n",
    "    print('Нулевая гипотеза опровергнута', result.pvalue)"
   ]
  },
  {
   "cell_type": "markdown",
   "metadata": {},
   "source": [
    "Выводы: отзывы от платформ PC и XOne отличаются с большой вероятностью\n"
   ]
  },
  {
   "cell_type": "code",
   "execution_count": 123,
   "metadata": {},
   "outputs": [
    {
     "name": "stdout",
     "output_type": "stream",
     "text": [
      "Ttest_1sampResult(statistic=2.7864966342566957, pvalue=0.00538312962410774)\n",
      "Нулевая гипотеза опровергнута 0.00538312962410774\n"
     ]
    }
   ],
   "source": [
    "alpha = .01\n",
    "first = 'Action'\n",
    "second = 'Sports'\n",
    "perem = 'user_score'\n",
    "new_data6 = data.query('genre == @first')[perem].dropna()\n",
    "new_data7 = data.query('genre == @second')[perem].mean()\n",
    "\n",
    "result = st.ttest_1samp(new_data6,new_data7)\n",
    "\n",
    "print(result)\n",
    "\n",
    "if result.pvalue > alpha:\n",
    "    print('Нулевая гипотеза потверждена', result.pvalue)\n",
    "else:\n",
    "    print('Нулевая гипотеза опровергнута', result.pvalue)"
   ]
  },
  {
   "cell_type": "markdown",
   "metadata": {},
   "source": [
    "Нулевая: В жанрах Action и Sports отзывы одинаковы\n",
    "\n",
    "Альтернативная: В жанрах Action и Sports отзывы разные"
   ]
  },
  {
   "cell_type": "code",
   "execution_count": 124,
   "metadata": {},
   "outputs": [
    {
     "name": "stdout",
     "output_type": "stream",
     "text": [
      "Ttest_1sampResult(statistic=-1.9136395688888457, pvalue=0.055925075633721975)\n",
      "Нулевая гипотеза потверждена 0.055925075633721975\n"
     ]
    }
   ],
   "source": [
    "alpha = .01\n",
    "first = 'Action'\n",
    "second = 'Sports'\n",
    "perem = 'user_score'\n",
    "new_data6 = data.query('genre == @first')[perem].mean()\n",
    "new_data7 = data.query('genre == @second')[perem].dropna()\n",
    "\n",
    "result = st.ttest_1samp(new_data7,new_data6)\n",
    "\n",
    "print(result)\n",
    "\n",
    "if result.pvalue > alpha:\n",
    "    print('Нулевая гипотеза потверждена', result.pvalue)\n",
    "else:\n",
    "    print('Нулевая гипотеза опровергнута', result.pvalue)"
   ]
  },
  {
   "cell_type": "markdown",
   "metadata": {},
   "source": [
    "В одном из выводов не получилось опровергнуть гипотезу, так что оставим не опровержимой"
   ]
  },
  {
   "cell_type": "markdown",
   "metadata": {},
   "source": [
    "Я проверил 2 гопотезы на 2х выборках с 2-х разных сторон"
   ]
  },
  {
   "cell_type": "markdown",
   "metadata": {},
   "source": [
    "<div class=\"alert-success\"> \n",
    "<b>Комментарий ревьюера 👍 </b>\n",
    "\n",
    "Гипотезы сформулированы верно. С выводами согласен. "
   ]
  },
  {
   "cell_type": "markdown",
   "metadata": {},
   "source": [
    "# Шаг 6"
   ]
  },
  {
   "cell_type": "markdown",
   "metadata": {},
   "source": [
    "Я проделал исследовательский анализ. Главные выводы:\n",
    "1) Жанры Action и Sport имеют похожие отзывы\n",
    "\n",
    "2) В Японии преобладают другие категории платформ, ESRB и жанров, нежели в других странах\n",
    "\n",
    "3) Разные страны любят разные платформы\n",
    "\n",
    "4) Оценка критиков влияет на покупки игр\n",
    "\n",
    "5) Разные платформы сильно отличаются по параметрам\n",
    "\n",
    "6) Средний срок жизни платформы 10 лет, после 4-6 лет она угосает\n",
    "\n",
    "7) Пропусков в данных бывает очень много"
   ]
  },
  {
   "cell_type": "markdown",
   "metadata": {},
   "source": [
    "<div class=\"alert-success\"> \n",
    "<b>Комментарий ревьюера 👍 </b>\n",
    "    \n",
    "Структурировнный вывод! Всё отражено верно."
   ]
  },
  {
   "cell_type": "markdown",
   "metadata": {},
   "source": [
    "<div class=> \n",
    "<b>Общий комментарий ревьюера </b> \n",
    "    \n",
    "Отличный проект, тобою проделана большая работа, ты молодец!\n",
    "\n",
    "Хвалю за наличие хороших промежуточных (и общего) выводов, комментариев и рассуждений - твой проект интересно проверять. Также очень хорошее оформление проекта - в этом плане сделано все именно так, как требуется. По коду вопросов в целом нет.\n",
    "\n",
    "Что обязательно стоит изменить: \n",
    "    \n",
    "1. Включить в анализ влияния рейтинга на продажи игры без рейтинга ESRB\n",
    "\n",
    "\n",
    "Также, я оставил некоторое количество желтых комментариев. Думаю, они будут полезны и ты также что-либо поменяешь, потому что это сделает твой проект лучше.\n",
    "\n",
    "Буду ждать доработок :)\n",
    "    \n",
    "Удачи!"
   ]
  },
  {
   "cell_type": "markdown",
   "metadata": {},
   "source": [
    "<div class=\"alert-success\"> \n",
    "<b>Комментарий ревьюера 👍 Вторая итерация</b>\n",
    "\n",
    "То, что я отмечал, доделано. У тебя получился качественно сделанный проект, а теперь он стал ещё лучше. Принимаю! \n",
    "    \n",
    "Успехов в дальнейшей учебе! "
   ]
  },
  {
   "cell_type": "code",
   "execution_count": null,
   "metadata": {},
   "outputs": [],
   "source": []
  }
 ],
 "metadata": {
  "ExecuteTimeLog": [
   {
    "duration": 815,
    "start_time": "2023-02-22T22:54:21.324Z"
   },
   {
    "duration": 92,
    "start_time": "2023-02-22T23:22:50.313Z"
   },
   {
    "duration": 72,
    "start_time": "2023-02-22T23:22:54.502Z"
   },
   {
    "duration": 77,
    "start_time": "2023-02-22T23:25:33.897Z"
   },
   {
    "duration": 168,
    "start_time": "2023-02-22T23:25:52.614Z"
   },
   {
    "duration": 83,
    "start_time": "2023-02-22T23:26:00.497Z"
   },
   {
    "duration": 3,
    "start_time": "2023-02-22T23:33:22.149Z"
   },
   {
    "duration": 25,
    "start_time": "2023-02-22T23:33:29.277Z"
   },
   {
    "duration": 94,
    "start_time": "2023-02-22T23:42:45.421Z"
   },
   {
    "duration": 105,
    "start_time": "2023-02-22T23:43:03.238Z"
   },
   {
    "duration": 12,
    "start_time": "2023-02-22T23:45:03.848Z"
   },
   {
    "duration": 19,
    "start_time": "2023-02-22T23:45:39.898Z"
   },
   {
    "duration": 1110,
    "start_time": "2023-02-22T23:45:41.729Z"
   },
   {
    "duration": 19,
    "start_time": "2023-02-22T23:46:15.360Z"
   },
   {
    "duration": 15,
    "start_time": "2023-02-22T23:46:29.971Z"
   },
   {
    "duration": 24,
    "start_time": "2023-02-22T23:46:49.641Z"
   },
   {
    "duration": 13,
    "start_time": "2023-02-22T23:47:15.870Z"
   },
   {
    "duration": 14,
    "start_time": "2023-02-22T23:47:28.216Z"
   },
   {
    "duration": 9,
    "start_time": "2023-02-22T23:48:34.737Z"
   },
   {
    "duration": 13,
    "start_time": "2023-02-22T23:49:11.941Z"
   },
   {
    "duration": 13,
    "start_time": "2023-02-22T23:49:18.981Z"
   },
   {
    "duration": 79,
    "start_time": "2023-02-22T23:50:49.779Z"
   },
   {
    "duration": 107,
    "start_time": "2023-02-22T23:50:55.870Z"
   },
   {
    "duration": 1071,
    "start_time": "2023-02-22T23:54:27.952Z"
   },
   {
    "duration": 1098,
    "start_time": "2023-02-22T23:54:47.244Z"
   },
   {
    "duration": 19,
    "start_time": "2023-02-22T23:54:59.325Z"
   },
   {
    "duration": 13,
    "start_time": "2023-02-22T23:55:02.073Z"
   },
   {
    "duration": 5,
    "start_time": "2023-02-22T23:55:10.812Z"
   },
   {
    "duration": 13,
    "start_time": "2023-02-22T23:56:39.666Z"
   },
   {
    "duration": 4,
    "start_time": "2023-02-22T23:57:04.487Z"
   },
   {
    "duration": 17,
    "start_time": "2023-02-22T23:57:13.040Z"
   },
   {
    "duration": 16,
    "start_time": "2023-02-22T23:58:02.587Z"
   },
   {
    "duration": 19,
    "start_time": "2023-02-22T23:59:55.788Z"
   },
   {
    "duration": 20,
    "start_time": "2023-02-23T00:00:02.827Z"
   },
   {
    "duration": 14,
    "start_time": "2023-02-23T00:00:10.662Z"
   },
   {
    "duration": 15,
    "start_time": "2023-02-23T00:00:17.635Z"
   },
   {
    "duration": 21,
    "start_time": "2023-02-23T00:00:25.052Z"
   },
   {
    "duration": 16,
    "start_time": "2023-02-23T00:00:38.875Z"
   },
   {
    "duration": 20,
    "start_time": "2023-02-23T00:00:49.147Z"
   },
   {
    "duration": 21,
    "start_time": "2023-02-23T00:05:36.436Z"
   },
   {
    "duration": 38,
    "start_time": "2023-02-23T00:16:41.304Z"
   },
   {
    "duration": 1100,
    "start_time": "2023-02-23T00:19:11.568Z"
   },
   {
    "duration": 18,
    "start_time": "2023-02-23T00:22:23.766Z"
   },
   {
    "duration": 1096,
    "start_time": "2023-02-23T00:22:40.324Z"
   },
   {
    "duration": 1170,
    "start_time": "2023-02-23T00:22:58.943Z"
   },
   {
    "duration": 19,
    "start_time": "2023-02-23T00:23:16.174Z"
   },
   {
    "duration": 3,
    "start_time": "2023-02-23T00:24:02.478Z"
   },
   {
    "duration": 687,
    "start_time": "2023-02-23T00:24:02.483Z"
   },
   {
    "duration": 20,
    "start_time": "2023-02-23T00:24:03.172Z"
   },
   {
    "duration": 26,
    "start_time": "2023-02-23T00:24:03.194Z"
   },
   {
    "duration": 19,
    "start_time": "2023-02-23T00:24:03.222Z"
   },
   {
    "duration": 0,
    "start_time": "2023-02-23T00:24:03.243Z"
   },
   {
    "duration": 0,
    "start_time": "2023-02-23T00:24:03.244Z"
   },
   {
    "duration": 22,
    "start_time": "2023-02-23T00:24:18.674Z"
   },
   {
    "duration": 116,
    "start_time": "2023-02-23T00:24:20.666Z"
   },
   {
    "duration": 127,
    "start_time": "2023-02-23T00:28:07.639Z"
   },
   {
    "duration": 248,
    "start_time": "2023-02-23T00:28:20.201Z"
   },
   {
    "duration": 397,
    "start_time": "2023-02-23T00:28:37.366Z"
   },
   {
    "duration": 215,
    "start_time": "2023-02-23T00:29:03.190Z"
   },
   {
    "duration": 13,
    "start_time": "2023-02-23T00:29:42.791Z"
   },
   {
    "duration": 225,
    "start_time": "2023-02-23T00:29:53.342Z"
   },
   {
    "duration": 9,
    "start_time": "2023-02-23T00:32:56.357Z"
   },
   {
    "duration": 230,
    "start_time": "2023-02-23T00:33:13.659Z"
   },
   {
    "duration": 217,
    "start_time": "2023-02-23T00:34:14.796Z"
   },
   {
    "duration": 220,
    "start_time": "2023-02-23T00:34:28.543Z"
   },
   {
    "duration": 216,
    "start_time": "2023-02-23T00:34:40.393Z"
   },
   {
    "duration": 355,
    "start_time": "2023-02-23T00:35:17.106Z"
   },
   {
    "duration": 270,
    "start_time": "2023-02-23T00:35:34.193Z"
   },
   {
    "duration": 133,
    "start_time": "2023-02-23T00:35:50.180Z"
   },
   {
    "duration": 247,
    "start_time": "2023-02-23T00:35:57.947Z"
   },
   {
    "duration": 340,
    "start_time": "2023-02-23T00:36:08.924Z"
   },
   {
    "duration": 55,
    "start_time": "2023-02-23T12:37:02.864Z"
   },
   {
    "duration": 896,
    "start_time": "2023-02-23T12:37:08.526Z"
   },
   {
    "duration": 1314,
    "start_time": "2023-02-23T12:37:09.424Z"
   },
   {
    "duration": 23,
    "start_time": "2023-02-23T12:37:10.740Z"
   },
   {
    "duration": 37,
    "start_time": "2023-02-23T12:37:10.765Z"
   },
   {
    "duration": 92,
    "start_time": "2023-02-23T12:37:10.803Z"
   },
   {
    "duration": 0,
    "start_time": "2023-02-23T12:37:10.897Z"
   },
   {
    "duration": 0,
    "start_time": "2023-02-23T12:37:10.898Z"
   },
   {
    "duration": 38,
    "start_time": "2023-02-23T12:37:21.843Z"
   },
   {
    "duration": 291,
    "start_time": "2023-02-23T12:37:25.488Z"
   },
   {
    "duration": 7,
    "start_time": "2023-02-23T13:06:02.299Z"
   },
   {
    "duration": 5,
    "start_time": "2023-02-23T13:06:12.277Z"
   },
   {
    "duration": 10,
    "start_time": "2023-02-23T13:06:35.642Z"
   },
   {
    "duration": 4,
    "start_time": "2023-02-23T13:06:43.832Z"
   },
   {
    "duration": 6,
    "start_time": "2023-02-23T13:06:54.661Z"
   },
   {
    "duration": 5,
    "start_time": "2023-02-23T13:07:03.459Z"
   },
   {
    "duration": 16,
    "start_time": "2023-02-23T13:08:49.170Z"
   },
   {
    "duration": 142,
    "start_time": "2023-02-23T13:09:35.503Z"
   },
   {
    "duration": 2294,
    "start_time": "2023-02-23T13:10:03.017Z"
   },
   {
    "duration": 18,
    "start_time": "2023-02-23T13:10:17.111Z"
   },
   {
    "duration": 12,
    "start_time": "2023-02-23T13:10:55.353Z"
   },
   {
    "duration": 19,
    "start_time": "2023-02-23T13:11:01.679Z"
   },
   {
    "duration": 18,
    "start_time": "2023-02-23T13:11:29.563Z"
   },
   {
    "duration": 16,
    "start_time": "2023-02-23T13:11:41.511Z"
   },
   {
    "duration": 17,
    "start_time": "2023-02-23T13:11:46.776Z"
   },
   {
    "duration": 17,
    "start_time": "2023-02-23T13:11:57.142Z"
   },
   {
    "duration": 17,
    "start_time": "2023-02-23T13:12:05.565Z"
   },
   {
    "duration": 150,
    "start_time": "2023-02-23T13:14:21.331Z"
   },
   {
    "duration": 155,
    "start_time": "2023-02-23T13:15:27.273Z"
   },
   {
    "duration": 21,
    "start_time": "2023-02-23T13:15:40.823Z"
   },
   {
    "duration": 19,
    "start_time": "2023-02-23T13:16:28.195Z"
   },
   {
    "duration": 17,
    "start_time": "2023-02-23T13:16:41.934Z"
   },
   {
    "duration": 22,
    "start_time": "2023-02-23T13:17:17.951Z"
   },
   {
    "duration": 21,
    "start_time": "2023-02-23T13:17:27.942Z"
   },
   {
    "duration": 10,
    "start_time": "2023-02-23T13:17:44.360Z"
   },
   {
    "duration": 11,
    "start_time": "2023-02-23T13:17:53.434Z"
   },
   {
    "duration": 838,
    "start_time": "2023-02-23T13:18:01.140Z"
   },
   {
    "duration": 716,
    "start_time": "2023-02-23T13:18:12.390Z"
   },
   {
    "duration": 13,
    "start_time": "2023-02-23T13:18:31.382Z"
   },
   {
    "duration": 11,
    "start_time": "2023-02-23T13:18:39.388Z"
   },
   {
    "duration": 11,
    "start_time": "2023-02-23T13:18:48.617Z"
   },
   {
    "duration": 30,
    "start_time": "2023-02-23T13:19:29.056Z"
   },
   {
    "duration": 114,
    "start_time": "2023-02-23T13:19:45.005Z"
   },
   {
    "duration": 27,
    "start_time": "2023-02-23T13:19:50.490Z"
   },
   {
    "duration": 26,
    "start_time": "2023-02-23T13:20:02.521Z"
   },
   {
    "duration": 7,
    "start_time": "2023-02-23T13:21:53.592Z"
   },
   {
    "duration": 24,
    "start_time": "2023-02-23T13:21:58.068Z"
   },
   {
    "duration": 186,
    "start_time": "2023-02-23T13:22:24.565Z"
   },
   {
    "duration": 23,
    "start_time": "2023-02-23T13:22:36.352Z"
   },
   {
    "duration": 18,
    "start_time": "2023-02-23T13:23:10.742Z"
   },
   {
    "duration": 22,
    "start_time": "2023-02-23T13:24:18.204Z"
   },
   {
    "duration": 19,
    "start_time": "2023-02-23T13:26:03.641Z"
   },
   {
    "duration": 11,
    "start_time": "2023-02-23T13:28:58.865Z"
   },
   {
    "duration": 9,
    "start_time": "2023-02-23T13:29:11.733Z"
   },
   {
    "duration": 11,
    "start_time": "2023-02-23T13:29:16.895Z"
   },
   {
    "duration": 10,
    "start_time": "2023-02-23T13:29:29.668Z"
   },
   {
    "duration": 54,
    "start_time": "2023-02-23T13:29:42.439Z"
   },
   {
    "duration": 37,
    "start_time": "2023-02-23T13:30:08.308Z"
   },
   {
    "duration": 24,
    "start_time": "2023-02-23T13:30:19.809Z"
   },
   {
    "duration": 24,
    "start_time": "2023-02-23T13:33:02.794Z"
   },
   {
    "duration": 20,
    "start_time": "2023-02-23T13:33:18.748Z"
   },
   {
    "duration": 793,
    "start_time": "2023-02-24T00:38:24.996Z"
   },
   {
    "duration": 1283,
    "start_time": "2023-02-24T00:38:25.790Z"
   },
   {
    "duration": 21,
    "start_time": "2023-02-24T00:38:27.075Z"
   },
   {
    "duration": 20,
    "start_time": "2023-02-24T00:38:27.097Z"
   },
   {
    "duration": 43,
    "start_time": "2023-02-24T00:38:27.118Z"
   },
   {
    "duration": 20,
    "start_time": "2023-02-24T00:38:27.163Z"
   },
   {
    "duration": 21,
    "start_time": "2023-02-24T00:38:27.184Z"
   },
   {
    "duration": 306,
    "start_time": "2023-02-24T00:38:27.206Z"
   },
   {
    "duration": 17,
    "start_time": "2023-02-24T00:38:27.514Z"
   },
   {
    "duration": 45,
    "start_time": "2023-02-24T13:08:16.785Z"
   },
   {
    "duration": 869,
    "start_time": "2023-02-24T13:08:29.261Z"
   },
   {
    "duration": 1232,
    "start_time": "2023-02-24T13:08:30.132Z"
   },
   {
    "duration": 29,
    "start_time": "2023-02-24T13:08:31.366Z"
   },
   {
    "duration": 43,
    "start_time": "2023-02-24T13:08:31.398Z"
   },
   {
    "duration": 49,
    "start_time": "2023-02-24T13:08:31.443Z"
   },
   {
    "duration": 26,
    "start_time": "2023-02-24T13:08:31.494Z"
   },
   {
    "duration": 24,
    "start_time": "2023-02-24T13:08:31.522Z"
   },
   {
    "duration": 297,
    "start_time": "2023-02-24T13:08:31.548Z"
   },
   {
    "duration": 18,
    "start_time": "2023-02-24T13:08:31.846Z"
   },
   {
    "duration": 31,
    "start_time": "2023-02-24T13:43:32.188Z"
   },
   {
    "duration": 55,
    "start_time": "2023-02-24T13:47:45.073Z"
   },
   {
    "duration": 91,
    "start_time": "2023-02-24T13:51:01.339Z"
   },
   {
    "duration": 17,
    "start_time": "2023-02-24T13:52:23.812Z"
   },
   {
    "duration": 31,
    "start_time": "2023-02-24T13:52:29.030Z"
   },
   {
    "duration": 21,
    "start_time": "2023-02-24T13:53:29.916Z"
   },
   {
    "duration": 26,
    "start_time": "2023-02-24T13:53:36.630Z"
   },
   {
    "duration": 33,
    "start_time": "2023-02-24T13:55:09.305Z"
   },
   {
    "duration": 31,
    "start_time": "2023-02-24T13:55:23.480Z"
   },
   {
    "duration": 11,
    "start_time": "2023-02-24T13:55:30.815Z"
   },
   {
    "duration": 8,
    "start_time": "2023-02-24T13:55:44.685Z"
   },
   {
    "duration": 10,
    "start_time": "2023-02-24T13:56:02.824Z"
   },
   {
    "duration": 42,
    "start_time": "2023-02-24T13:56:27.706Z"
   },
   {
    "duration": 18,
    "start_time": "2023-02-24T13:56:39.580Z"
   },
   {
    "duration": 30,
    "start_time": "2023-02-24T13:56:44.214Z"
   },
   {
    "duration": 34,
    "start_time": "2023-02-24T13:56:54.936Z"
   },
   {
    "duration": 9,
    "start_time": "2023-02-24T13:57:07.837Z"
   },
   {
    "duration": 10,
    "start_time": "2023-02-24T13:57:37.782Z"
   },
   {
    "duration": 8,
    "start_time": "2023-02-24T13:57:42.777Z"
   },
   {
    "duration": 13,
    "start_time": "2023-02-24T13:57:48.853Z"
   },
   {
    "duration": 38,
    "start_time": "2023-02-24T13:58:33.513Z"
   },
   {
    "duration": 18,
    "start_time": "2023-02-24T13:59:25.842Z"
   },
   {
    "duration": 17,
    "start_time": "2023-02-24T14:14:05.307Z"
   },
   {
    "duration": 22,
    "start_time": "2023-02-24T14:21:56.380Z"
   },
   {
    "duration": 226,
    "start_time": "2023-02-24T14:22:12.129Z"
   },
   {
    "duration": 93,
    "start_time": "2023-02-24T14:23:56.588Z"
   },
   {
    "duration": 266,
    "start_time": "2023-02-24T14:24:01.972Z"
   },
   {
    "duration": 72,
    "start_time": "2023-02-24T14:24:59.509Z"
   },
   {
    "duration": 10,
    "start_time": "2023-02-24T14:25:46.624Z"
   },
   {
    "duration": 96,
    "start_time": "2023-02-24T14:26:26.336Z"
   },
   {
    "duration": 226,
    "start_time": "2023-02-24T14:26:33.236Z"
   },
   {
    "duration": 75,
    "start_time": "2023-02-24T14:26:57.411Z"
   },
   {
    "duration": 323,
    "start_time": "2023-02-24T14:27:05.203Z"
   },
   {
    "duration": 9,
    "start_time": "2023-02-24T14:27:33.161Z"
   },
   {
    "duration": 14,
    "start_time": "2023-02-24T14:27:47.041Z"
   },
   {
    "duration": 4,
    "start_time": "2023-02-24T14:27:55.113Z"
   },
   {
    "duration": 3,
    "start_time": "2023-02-24T14:28:14.475Z"
   },
   {
    "duration": 267,
    "start_time": "2023-02-24T14:28:22.910Z"
   },
   {
    "duration": 88,
    "start_time": "2023-02-24T14:28:29.757Z"
   },
   {
    "duration": 164,
    "start_time": "2023-02-24T14:28:51.851Z"
   },
   {
    "duration": 11,
    "start_time": "2023-02-24T14:29:02.615Z"
   },
   {
    "duration": 9,
    "start_time": "2023-02-24T14:29:12.853Z"
   },
   {
    "duration": 22,
    "start_time": "2023-02-24T14:29:16.306Z"
   },
   {
    "duration": 278,
    "start_time": "2023-02-24T14:29:32.636Z"
   },
   {
    "duration": 245,
    "start_time": "2023-02-24T14:29:49.864Z"
   },
   {
    "duration": 282,
    "start_time": "2023-02-24T14:29:53.970Z"
   },
   {
    "duration": 239,
    "start_time": "2023-02-24T14:30:01.510Z"
   },
   {
    "duration": 263,
    "start_time": "2023-02-24T14:30:27.873Z"
   },
   {
    "duration": 234,
    "start_time": "2023-02-24T14:30:38.643Z"
   },
   {
    "duration": 120,
    "start_time": "2023-02-24T14:31:27.858Z"
   },
   {
    "duration": 20,
    "start_time": "2023-02-24T14:31:33.371Z"
   },
   {
    "duration": 157,
    "start_time": "2023-02-24T14:31:52.672Z"
   },
   {
    "duration": 126,
    "start_time": "2023-02-24T14:32:04.211Z"
   },
   {
    "duration": 134,
    "start_time": "2023-02-24T14:32:11.206Z"
   },
   {
    "duration": 145,
    "start_time": "2023-02-24T14:32:20.924Z"
   },
   {
    "duration": 238,
    "start_time": "2023-02-24T14:32:37.785Z"
   },
   {
    "duration": 222,
    "start_time": "2023-02-24T14:33:13.456Z"
   },
   {
    "duration": 235,
    "start_time": "2023-02-24T14:33:23.212Z"
   },
   {
    "duration": 96,
    "start_time": "2023-02-24T14:33:26.978Z"
   },
   {
    "duration": 287,
    "start_time": "2023-02-24T14:33:38.567Z"
   },
   {
    "duration": 246,
    "start_time": "2023-02-24T14:33:43.428Z"
   },
   {
    "duration": 24,
    "start_time": "2023-02-24T14:39:53.019Z"
   },
   {
    "duration": 15,
    "start_time": "2023-02-24T14:40:04.741Z"
   },
   {
    "duration": 17,
    "start_time": "2023-02-24T14:41:13.406Z"
   },
   {
    "duration": 20,
    "start_time": "2023-02-24T14:41:40.012Z"
   },
   {
    "duration": 1459,
    "start_time": "2023-02-24T14:42:00.757Z"
   },
   {
    "duration": 1466,
    "start_time": "2023-02-24T14:42:14.772Z"
   },
   {
    "duration": 1463,
    "start_time": "2023-02-24T14:42:31.314Z"
   },
   {
    "duration": 20,
    "start_time": "2023-02-24T14:42:39.151Z"
   },
   {
    "duration": 15,
    "start_time": "2023-02-24T14:42:46.232Z"
   },
   {
    "duration": 19,
    "start_time": "2023-02-24T14:42:55.416Z"
   },
   {
    "duration": 13,
    "start_time": "2023-02-24T14:43:03.640Z"
   },
   {
    "duration": 24,
    "start_time": "2023-02-24T14:43:07.914Z"
   },
   {
    "duration": 16,
    "start_time": "2023-02-24T14:43:11.611Z"
   },
   {
    "duration": 27,
    "start_time": "2023-02-24T14:43:17.377Z"
   },
   {
    "duration": 123,
    "start_time": "2023-02-24T14:43:33.018Z"
   },
   {
    "duration": 128,
    "start_time": "2023-02-24T14:44:54.110Z"
   },
   {
    "duration": 31,
    "start_time": "2023-02-24T14:45:22.415Z"
   },
   {
    "duration": 29,
    "start_time": "2023-02-24T14:45:35.564Z"
   },
   {
    "duration": 25,
    "start_time": "2023-02-24T14:45:53.405Z"
   },
   {
    "duration": 103,
    "start_time": "2023-02-24T14:46:03.503Z"
   },
   {
    "duration": 116,
    "start_time": "2023-02-24T14:46:28.839Z"
   },
   {
    "duration": 80,
    "start_time": "2023-02-24T14:46:32.608Z"
   },
   {
    "duration": 21,
    "start_time": "2023-02-24T14:47:14.356Z"
   },
   {
    "duration": 19,
    "start_time": "2023-02-24T14:47:19.665Z"
   },
   {
    "duration": 112,
    "start_time": "2023-02-24T14:47:44.150Z"
   },
   {
    "duration": 17,
    "start_time": "2023-02-24T14:48:07.139Z"
   },
   {
    "duration": 30,
    "start_time": "2023-02-24T14:48:19.973Z"
   },
   {
    "duration": 168,
    "start_time": "2023-02-24T14:49:02.891Z"
   },
   {
    "duration": 659,
    "start_time": "2023-02-24T14:49:42.662Z"
   },
   {
    "duration": 18,
    "start_time": "2023-02-24T14:50:21.259Z"
   },
   {
    "duration": 788,
    "start_time": "2023-02-24T14:50:35.255Z"
   },
   {
    "duration": 148,
    "start_time": "2023-02-24T14:51:09.972Z"
   },
   {
    "duration": 170,
    "start_time": "2023-02-24T14:51:52.236Z"
   },
   {
    "duration": 146,
    "start_time": "2023-02-24T14:52:00.099Z"
   },
   {
    "duration": 160,
    "start_time": "2023-02-24T14:52:16.969Z"
   },
   {
    "duration": 195,
    "start_time": "2023-02-24T14:52:34.249Z"
   },
   {
    "duration": 185,
    "start_time": "2023-02-24T14:52:40.533Z"
   },
   {
    "duration": 291,
    "start_time": "2023-02-24T14:53:55.540Z"
   },
   {
    "duration": 187,
    "start_time": "2023-02-24T14:54:01.769Z"
   },
   {
    "duration": 458,
    "start_time": "2023-02-24T14:55:29.420Z"
   },
   {
    "duration": 332,
    "start_time": "2023-02-24T14:55:53.444Z"
   },
   {
    "duration": 1694,
    "start_time": "2023-02-24T14:56:14.246Z"
   },
   {
    "duration": 1446,
    "start_time": "2023-02-24T14:57:36.506Z"
   },
   {
    "duration": 26,
    "start_time": "2023-02-24T14:59:36.742Z"
   },
   {
    "duration": 52,
    "start_time": "2023-02-24T15:00:46.514Z"
   },
   {
    "duration": 24,
    "start_time": "2023-02-24T15:01:07.237Z"
   },
   {
    "duration": 24,
    "start_time": "2023-02-24T15:01:19.242Z"
   },
   {
    "duration": 42,
    "start_time": "2023-02-24T15:02:16.853Z"
   },
   {
    "duration": 28,
    "start_time": "2023-02-24T15:04:40.335Z"
   },
   {
    "duration": 31,
    "start_time": "2023-02-24T15:04:43.825Z"
   },
   {
    "duration": 18,
    "start_time": "2023-02-24T15:04:59.862Z"
   },
   {
    "duration": 25,
    "start_time": "2023-02-24T15:05:04.634Z"
   },
   {
    "duration": 1643,
    "start_time": "2023-02-24T15:06:30.333Z"
   },
   {
    "duration": 1779,
    "start_time": "2023-02-24T15:06:47.159Z"
   },
   {
    "duration": 1753,
    "start_time": "2023-02-24T15:06:53.518Z"
   },
   {
    "duration": 193,
    "start_time": "2023-02-24T15:09:00.237Z"
   },
   {
    "duration": 166,
    "start_time": "2023-02-24T15:09:35.077Z"
   },
   {
    "duration": 143,
    "start_time": "2023-02-24T15:09:47.455Z"
   },
   {
    "duration": 1361,
    "start_time": "2023-02-24T15:10:28.357Z"
   },
   {
    "duration": 14,
    "start_time": "2023-02-24T15:11:04.710Z"
   },
   {
    "duration": 1585,
    "start_time": "2023-02-24T15:11:10.008Z"
   },
   {
    "duration": 1414,
    "start_time": "2023-02-24T15:11:22.885Z"
   },
   {
    "duration": 1564,
    "start_time": "2023-02-24T15:14:31.902Z"
   },
   {
    "duration": 1520,
    "start_time": "2023-02-24T15:15:52.908Z"
   },
   {
    "duration": 137,
    "start_time": "2023-02-24T15:19:01.450Z"
   },
   {
    "duration": 159,
    "start_time": "2023-02-24T15:19:19.781Z"
   },
   {
    "duration": 143,
    "start_time": "2023-02-24T15:19:32.678Z"
   },
   {
    "duration": 150,
    "start_time": "2023-02-24T15:19:52.532Z"
   },
   {
    "duration": 145,
    "start_time": "2023-02-24T15:19:56.316Z"
   },
   {
    "duration": 151,
    "start_time": "2023-02-24T15:20:00.609Z"
   },
   {
    "duration": 98,
    "start_time": "2023-02-24T15:20:05.475Z"
   },
   {
    "duration": 148,
    "start_time": "2023-02-24T15:21:24.775Z"
   },
   {
    "duration": 96,
    "start_time": "2023-02-24T15:21:29.419Z"
   },
   {
    "duration": 140,
    "start_time": "2023-02-24T15:21:32.673Z"
   },
   {
    "duration": 331,
    "start_time": "2023-02-24T15:22:38.953Z"
   },
   {
    "duration": 147,
    "start_time": "2023-02-24T15:22:53.273Z"
   },
   {
    "duration": 121,
    "start_time": "2023-02-24T15:23:04.316Z"
   },
   {
    "duration": 125,
    "start_time": "2023-02-24T15:23:14.904Z"
   },
   {
    "duration": 125,
    "start_time": "2023-02-24T15:24:48.568Z"
   },
   {
    "duration": 114,
    "start_time": "2023-02-24T15:24:59.206Z"
   },
   {
    "duration": 115,
    "start_time": "2023-02-24T15:25:07.447Z"
   },
   {
    "duration": 124,
    "start_time": "2023-02-24T15:25:16.620Z"
   },
   {
    "duration": 1505,
    "start_time": "2023-02-24T15:41:35.740Z"
   },
   {
    "duration": 1389,
    "start_time": "2023-02-24T15:41:46.234Z"
   },
   {
    "duration": 145,
    "start_time": "2023-02-24T15:41:57.219Z"
   },
   {
    "duration": 134,
    "start_time": "2023-02-24T15:42:35.497Z"
   },
   {
    "duration": 75,
    "start_time": "2023-02-24T15:43:16.985Z"
   },
   {
    "duration": 16829,
    "start_time": "2023-02-24T15:43:26.516Z"
   },
   {
    "duration": 19,
    "start_time": "2023-02-24T15:43:48.569Z"
   },
   {
    "duration": 146,
    "start_time": "2023-02-24T15:44:06.467Z"
   },
   {
    "duration": 15,
    "start_time": "2023-02-24T15:44:41.679Z"
   },
   {
    "duration": 17,
    "start_time": "2023-02-24T15:44:48.403Z"
   },
   {
    "duration": 146,
    "start_time": "2023-02-24T15:44:53.813Z"
   },
   {
    "duration": 112,
    "start_time": "2023-02-24T15:49:14.242Z"
   },
   {
    "duration": 37,
    "start_time": "2023-02-24T15:54:45.900Z"
   },
   {
    "duration": 1281,
    "start_time": "2023-02-24T15:56:27.468Z"
   },
   {
    "duration": 1322,
    "start_time": "2023-02-24T15:57:22.546Z"
   },
   {
    "duration": 1244,
    "start_time": "2023-02-24T15:57:41.721Z"
   },
   {
    "duration": 37,
    "start_time": "2023-02-24T15:57:59.419Z"
   },
   {
    "duration": 42,
    "start_time": "2023-02-24T15:58:08.133Z"
   },
   {
    "duration": 31,
    "start_time": "2023-02-24T15:58:14.418Z"
   },
   {
    "duration": 36,
    "start_time": "2023-02-24T15:58:26.850Z"
   },
   {
    "duration": 36,
    "start_time": "2023-02-24T15:58:46.074Z"
   },
   {
    "duration": 41,
    "start_time": "2023-02-24T15:58:57.383Z"
   },
   {
    "duration": 33,
    "start_time": "2023-02-24T15:59:16.811Z"
   },
   {
    "duration": 1562,
    "start_time": "2023-02-24T15:59:29.127Z"
   },
   {
    "duration": 1481,
    "start_time": "2023-02-24T15:59:35.656Z"
   },
   {
    "duration": 1520,
    "start_time": "2023-02-24T15:59:50.920Z"
   },
   {
    "duration": 57,
    "start_time": "2023-02-24T16:00:51.151Z"
   },
   {
    "duration": 737,
    "start_time": "2023-02-24T16:01:02.301Z"
   },
   {
    "duration": 1506,
    "start_time": "2023-02-24T16:01:19.652Z"
   },
   {
    "duration": 46,
    "start_time": "2023-02-24T16:01:43.582Z"
   },
   {
    "duration": 1219,
    "start_time": "2023-02-24T16:01:52.305Z"
   },
   {
    "duration": 1104,
    "start_time": "2023-02-24T16:02:06.110Z"
   },
   {
    "duration": 41,
    "start_time": "2023-02-24T16:03:11.427Z"
   },
   {
    "duration": 1216,
    "start_time": "2023-02-24T16:03:16.533Z"
   },
   {
    "duration": 1798,
    "start_time": "2023-02-24T16:03:32.765Z"
   },
   {
    "duration": 50,
    "start_time": "2023-02-24T16:03:44.364Z"
   },
   {
    "duration": 84,
    "start_time": "2023-02-24T16:05:32.904Z"
   },
   {
    "duration": 2176,
    "start_time": "2023-02-24T16:05:53.532Z"
   },
   {
    "duration": 97,
    "start_time": "2023-02-24T16:10:37.509Z"
   },
   {
    "duration": 24859,
    "start_time": "2023-02-24T16:10:40.717Z"
   },
   {
    "duration": 24964,
    "start_time": "2023-02-24T16:11:32.261Z"
   },
   {
    "duration": 0,
    "start_time": "2023-02-24T16:12:49.973Z"
   },
   {
    "duration": 5,
    "start_time": "2023-02-24T16:12:59.741Z"
   },
   {
    "duration": 93,
    "start_time": "2023-02-24T16:13:02.718Z"
   },
   {
    "duration": 5,
    "start_time": "2023-02-24T16:13:05.567Z"
   },
   {
    "duration": 44669,
    "start_time": "2023-02-24T16:14:08.524Z"
   },
   {
    "duration": 18815,
    "start_time": "2023-02-24T16:16:25.654Z"
   },
   {
    "duration": 7003,
    "start_time": "2023-02-24T16:18:22.447Z"
   },
   {
    "duration": 6780,
    "start_time": "2023-02-24T16:18:50.300Z"
   },
   {
    "duration": 6866,
    "start_time": "2023-02-24T16:19:13.479Z"
   },
   {
    "duration": 13493,
    "start_time": "2023-02-24T16:20:02.334Z"
   },
   {
    "duration": 13864,
    "start_time": "2023-02-24T16:20:20.912Z"
   },
   {
    "duration": 13442,
    "start_time": "2023-02-24T16:21:03.559Z"
   },
   {
    "duration": 13756,
    "start_time": "2023-02-24T16:21:23.842Z"
   },
   {
    "duration": 10878,
    "start_time": "2023-02-24T16:22:12.765Z"
   },
   {
    "duration": 10644,
    "start_time": "2023-02-24T16:22:32.896Z"
   },
   {
    "duration": 35,
    "start_time": "2023-02-24T16:23:20.161Z"
   },
   {
    "duration": 38,
    "start_time": "2023-02-24T16:23:30.625Z"
   },
   {
    "duration": 10961,
    "start_time": "2023-02-24T16:23:36.239Z"
   },
   {
    "duration": 22239,
    "start_time": "2023-02-24T16:24:05.815Z"
   },
   {
    "duration": 21967,
    "start_time": "2023-02-24T16:24:29.880Z"
   },
   {
    "duration": 2,
    "start_time": "2023-02-24T16:25:07.148Z"
   },
   {
    "duration": 704,
    "start_time": "2023-02-24T16:25:07.152Z"
   },
   {
    "duration": 19,
    "start_time": "2023-02-24T16:25:07.857Z"
   },
   {
    "duration": 30,
    "start_time": "2023-02-24T16:25:07.888Z"
   },
   {
    "duration": 26,
    "start_time": "2023-02-24T16:25:07.919Z"
   },
   {
    "duration": 13,
    "start_time": "2023-02-24T16:25:07.947Z"
   },
   {
    "duration": 11,
    "start_time": "2023-02-24T16:25:07.961Z"
   },
   {
    "duration": 36,
    "start_time": "2023-02-24T16:25:07.974Z"
   },
   {
    "duration": 23201,
    "start_time": "2023-02-24T16:25:08.013Z"
   },
   {
    "duration": 14050,
    "start_time": "2023-02-24T16:26:18.301Z"
   },
   {
    "duration": 4,
    "start_time": "2023-02-24T16:26:50.335Z"
   },
   {
    "duration": 8,
    "start_time": "2023-02-24T16:26:56.620Z"
   },
   {
    "duration": 7,
    "start_time": "2023-02-24T16:27:13.861Z"
   },
   {
    "duration": 13,
    "start_time": "2023-02-24T16:27:23.058Z"
   },
   {
    "duration": 8,
    "start_time": "2023-02-24T16:27:36.160Z"
   },
   {
    "duration": 5,
    "start_time": "2023-02-24T16:27:44.926Z"
   },
   {
    "duration": 8,
    "start_time": "2023-02-24T16:28:19.217Z"
   },
   {
    "duration": 11,
    "start_time": "2023-02-24T16:28:22.054Z"
   },
   {
    "duration": 8,
    "start_time": "2023-02-24T16:28:23.855Z"
   },
   {
    "duration": 6,
    "start_time": "2023-02-24T16:28:29.356Z"
   },
   {
    "duration": 6,
    "start_time": "2023-02-24T16:28:36.417Z"
   },
   {
    "duration": 9,
    "start_time": "2023-02-24T16:28:40.755Z"
   },
   {
    "duration": 10,
    "start_time": "2023-02-24T16:28:44.883Z"
   },
   {
    "duration": 6,
    "start_time": "2023-02-24T16:28:46.954Z"
   },
   {
    "duration": 1345,
    "start_time": "2023-02-24T16:29:41.634Z"
   },
   {
    "duration": 4,
    "start_time": "2023-02-24T16:31:12.520Z"
   },
   {
    "duration": 811,
    "start_time": "2023-02-24T16:31:12.526Z"
   },
   {
    "duration": 22,
    "start_time": "2023-02-24T16:31:13.339Z"
   },
   {
    "duration": 48,
    "start_time": "2023-02-24T16:31:13.363Z"
   },
   {
    "duration": 18,
    "start_time": "2023-02-24T16:31:13.412Z"
   },
   {
    "duration": 14,
    "start_time": "2023-02-24T16:31:13.432Z"
   },
   {
    "duration": 12,
    "start_time": "2023-02-24T16:31:13.448Z"
   },
   {
    "duration": 46,
    "start_time": "2023-02-24T16:31:13.461Z"
   },
   {
    "duration": 1214,
    "start_time": "2023-02-24T16:31:53.664Z"
   },
   {
    "duration": 1290,
    "start_time": "2023-02-24T16:32:22.409Z"
   },
   {
    "duration": 1289,
    "start_time": "2023-02-24T16:32:38.087Z"
   },
   {
    "duration": 3,
    "start_time": "2023-02-24T16:32:42.942Z"
   },
   {
    "duration": 792,
    "start_time": "2023-02-24T16:32:42.947Z"
   },
   {
    "duration": 21,
    "start_time": "2023-02-24T16:32:43.741Z"
   },
   {
    "duration": 61,
    "start_time": "2023-02-24T16:32:43.763Z"
   },
   {
    "duration": 21,
    "start_time": "2023-02-24T16:32:43.826Z"
   },
   {
    "duration": 24,
    "start_time": "2023-02-24T16:32:43.849Z"
   },
   {
    "duration": 31,
    "start_time": "2023-02-24T16:32:43.875Z"
   },
   {
    "duration": 42,
    "start_time": "2023-02-24T16:32:43.908Z"
   },
   {
    "duration": 1396,
    "start_time": "2023-02-24T16:33:03.735Z"
   },
   {
    "duration": 3,
    "start_time": "2023-02-24T16:33:11.151Z"
   },
   {
    "duration": 755,
    "start_time": "2023-02-24T16:33:11.172Z"
   },
   {
    "duration": 26,
    "start_time": "2023-02-24T16:33:11.929Z"
   },
   {
    "duration": 52,
    "start_time": "2023-02-24T16:33:11.957Z"
   },
   {
    "duration": 25,
    "start_time": "2023-02-24T16:33:12.015Z"
   },
   {
    "duration": 15,
    "start_time": "2023-02-24T16:33:12.042Z"
   },
   {
    "duration": 18,
    "start_time": "2023-02-24T16:33:12.059Z"
   },
   {
    "duration": 39,
    "start_time": "2023-02-24T16:33:12.078Z"
   },
   {
    "duration": 24,
    "start_time": "2023-02-24T16:33:17.911Z"
   },
   {
    "duration": 9181,
    "start_time": "2023-02-24T16:33:24.711Z"
   },
   {
    "duration": 8582,
    "start_time": "2023-02-24T16:34:32.043Z"
   },
   {
    "duration": 10562,
    "start_time": "2023-02-24T16:35:02.194Z"
   },
   {
    "duration": 20745,
    "start_time": "2023-02-24T16:35:41.404Z"
   },
   {
    "duration": 1560,
    "start_time": "2023-02-24T16:36:06.717Z"
   },
   {
    "duration": 1185,
    "start_time": "2023-02-24T16:36:20.043Z"
   },
   {
    "duration": 1295,
    "start_time": "2023-02-24T16:36:46.378Z"
   },
   {
    "duration": 3,
    "start_time": "2023-02-24T16:36:57.251Z"
   },
   {
    "duration": 862,
    "start_time": "2023-02-24T16:36:57.256Z"
   },
   {
    "duration": 21,
    "start_time": "2023-02-24T16:36:58.120Z"
   },
   {
    "duration": 33,
    "start_time": "2023-02-24T16:36:58.143Z"
   },
   {
    "duration": 23,
    "start_time": "2023-02-24T16:36:58.188Z"
   },
   {
    "duration": 15,
    "start_time": "2023-02-24T16:36:58.213Z"
   },
   {
    "duration": 12,
    "start_time": "2023-02-24T16:36:58.230Z"
   },
   {
    "duration": 59,
    "start_time": "2023-02-24T16:36:58.244Z"
   },
   {
    "duration": 26020,
    "start_time": "2023-02-24T16:37:18.540Z"
   },
   {
    "duration": 26685,
    "start_time": "2023-02-24T16:39:06.867Z"
   },
   {
    "duration": 27261,
    "start_time": "2023-02-24T16:40:54.548Z"
   },
   {
    "duration": 9,
    "start_time": "2023-02-24T16:42:18.503Z"
   },
   {
    "duration": 7,
    "start_time": "2023-02-24T16:42:25.009Z"
   },
   {
    "duration": 9,
    "start_time": "2023-02-24T16:42:29.999Z"
   },
   {
    "duration": 10,
    "start_time": "2023-02-24T16:42:34.899Z"
   },
   {
    "duration": 4,
    "start_time": "2023-02-24T16:44:38.283Z"
   },
   {
    "duration": 881,
    "start_time": "2023-02-24T16:44:54.028Z"
   },
   {
    "duration": 10,
    "start_time": "2023-02-24T16:45:06.980Z"
   },
   {
    "duration": 4,
    "start_time": "2023-02-24T16:45:20.641Z"
   },
   {
    "duration": 3,
    "start_time": "2023-02-24T16:45:52.050Z"
   },
   {
    "duration": 694,
    "start_time": "2023-02-24T16:45:52.055Z"
   },
   {
    "duration": 20,
    "start_time": "2023-02-24T16:45:52.752Z"
   },
   {
    "duration": 52,
    "start_time": "2023-02-24T16:45:52.774Z"
   },
   {
    "duration": 29,
    "start_time": "2023-02-24T16:45:52.828Z"
   },
   {
    "duration": 14,
    "start_time": "2023-02-24T16:45:52.858Z"
   },
   {
    "duration": 16,
    "start_time": "2023-02-24T16:45:52.874Z"
   },
   {
    "duration": 45,
    "start_time": "2023-02-24T16:45:52.892Z"
   },
   {
    "duration": 26545,
    "start_time": "2023-02-24T16:46:23.354Z"
   },
   {
    "duration": 26360,
    "start_time": "2023-02-24T16:48:14.432Z"
   },
   {
    "duration": 26128,
    "start_time": "2023-02-24T16:49:05.035Z"
   },
   {
    "duration": 5,
    "start_time": "2023-02-24T16:49:48.295Z"
   },
   {
    "duration": 21252,
    "start_time": "2023-02-24T16:50:12.850Z"
   },
   {
    "duration": 54,
    "start_time": "2023-02-24T16:50:41.633Z"
   },
   {
    "duration": 72,
    "start_time": "2023-02-24T16:50:48.738Z"
   },
   {
    "duration": 50,
    "start_time": "2023-02-24T16:52:19.574Z"
   },
   {
    "duration": 2,
    "start_time": "2023-02-24T16:52:40.084Z"
   },
   {
    "duration": 660,
    "start_time": "2023-02-24T16:52:40.091Z"
   },
   {
    "duration": 20,
    "start_time": "2023-02-24T16:52:40.753Z"
   },
   {
    "duration": 29,
    "start_time": "2023-02-24T16:52:40.774Z"
   },
   {
    "duration": 18,
    "start_time": "2023-02-24T16:52:40.805Z"
   },
   {
    "duration": 15,
    "start_time": "2023-02-24T16:52:40.824Z"
   },
   {
    "duration": 15,
    "start_time": "2023-02-24T16:52:40.840Z"
   },
   {
    "duration": 48,
    "start_time": "2023-02-24T16:52:40.857Z"
   },
   {
    "duration": 27281,
    "start_time": "2023-02-24T16:52:40.907Z"
   },
   {
    "duration": 30381,
    "start_time": "2023-02-24T18:04:23.940Z"
   },
   {
    "duration": 31688,
    "start_time": "2023-02-24T18:04:57.942Z"
   },
   {
    "duration": 3,
    "start_time": "2023-02-24T18:05:29.633Z"
   },
   {
    "duration": 806,
    "start_time": "2023-02-24T18:05:29.639Z"
   },
   {
    "duration": 22,
    "start_time": "2023-02-24T18:05:30.448Z"
   },
   {
    "duration": 196,
    "start_time": "2023-02-24T18:05:30.471Z"
   },
   {
    "duration": 37,
    "start_time": "2023-02-24T18:05:30.669Z"
   },
   {
    "duration": 19,
    "start_time": "2023-02-24T18:05:30.710Z"
   },
   {
    "duration": 19,
    "start_time": "2023-02-24T18:05:30.731Z"
   },
   {
    "duration": 48,
    "start_time": "2023-02-24T18:05:30.752Z"
   },
   {
    "duration": 4,
    "start_time": "2023-02-24T18:05:44.909Z"
   },
   {
    "duration": 721,
    "start_time": "2023-02-24T18:05:46.814Z"
   },
   {
    "duration": 20,
    "start_time": "2023-02-24T18:05:54.135Z"
   },
   {
    "duration": 22,
    "start_time": "2023-02-24T18:05:56.908Z"
   },
   {
    "duration": 26,
    "start_time": "2023-02-24T18:06:03.000Z"
   },
   {
    "duration": 16,
    "start_time": "2023-02-24T18:06:08.535Z"
   },
   {
    "duration": 14,
    "start_time": "2023-02-24T18:07:45.554Z"
   },
   {
    "duration": 23,
    "start_time": "2023-02-24T18:07:48.960Z"
   },
   {
    "duration": 17,
    "start_time": "2023-02-24T18:08:08.184Z"
   },
   {
    "duration": 24,
    "start_time": "2023-02-24T18:08:26.840Z"
   },
   {
    "duration": 732,
    "start_time": "2023-02-24T18:08:31.396Z"
   },
   {
    "duration": 3,
    "start_time": "2023-02-24T18:09:43.976Z"
   },
   {
    "duration": 710,
    "start_time": "2023-02-24T18:09:45.805Z"
   },
   {
    "duration": 25,
    "start_time": "2023-02-24T18:09:55.240Z"
   },
   {
    "duration": 26,
    "start_time": "2023-02-24T18:09:55.986Z"
   },
   {
    "duration": 19,
    "start_time": "2023-02-24T18:09:57.465Z"
   },
   {
    "duration": 16,
    "start_time": "2023-02-24T18:09:58.560Z"
   },
   {
    "duration": 14,
    "start_time": "2023-02-24T18:10:00.483Z"
   },
   {
    "duration": 22,
    "start_time": "2023-02-24T18:10:04.040Z"
   },
   {
    "duration": 30514,
    "start_time": "2023-02-24T18:10:08.516Z"
   },
   {
    "duration": 29019,
    "start_time": "2023-02-24T18:10:45.195Z"
   },
   {
    "duration": 28622,
    "start_time": "2023-02-24T18:11:20.283Z"
   },
   {
    "duration": 304,
    "start_time": "2023-02-24T18:11:56.102Z"
   },
   {
    "duration": 1600,
    "start_time": "2023-02-24T18:11:57.833Z"
   },
   {
    "duration": 23,
    "start_time": "2023-02-24T18:11:59.435Z"
   },
   {
    "duration": 1348,
    "start_time": "2023-02-24T18:11:59.460Z"
   },
   {
    "duration": 114,
    "start_time": "2023-02-24T18:12:08.096Z"
   },
   {
    "duration": 116,
    "start_time": "2023-02-24T18:12:13.516Z"
   },
   {
    "duration": 109,
    "start_time": "2023-02-24T18:14:43.401Z"
   },
   {
    "duration": 64,
    "start_time": "2023-02-24T18:16:02.746Z"
   },
   {
    "duration": 133,
    "start_time": "2023-02-24T18:16:12.206Z"
   },
   {
    "duration": 122,
    "start_time": "2023-02-24T18:16:23.427Z"
   },
   {
    "duration": 133,
    "start_time": "2023-02-24T18:16:36.486Z"
   },
   {
    "duration": 126,
    "start_time": "2023-02-24T18:16:54.043Z"
   },
   {
    "duration": 137,
    "start_time": "2023-02-24T18:17:31.017Z"
   },
   {
    "duration": 1191,
    "start_time": "2023-02-24T18:17:35.966Z"
   },
   {
    "duration": 130,
    "start_time": "2023-02-24T18:19:27.307Z"
   },
   {
    "duration": 17,
    "start_time": "2023-02-24T18:20:12.613Z"
   },
   {
    "duration": 44,
    "start_time": "2023-02-24T18:20:29.472Z"
   },
   {
    "duration": 27,
    "start_time": "2023-02-24T18:20:38.824Z"
   },
   {
    "duration": 1210,
    "start_time": "2023-02-24T18:20:59.912Z"
   },
   {
    "duration": 15,
    "start_time": "2023-02-24T18:21:17.429Z"
   },
   {
    "duration": 16,
    "start_time": "2023-02-24T18:21:47.317Z"
   },
   {
    "duration": 27511,
    "start_time": "2023-02-24T18:35:36.761Z"
   },
   {
    "duration": 27729,
    "start_time": "2023-02-24T18:37:06.213Z"
   },
   {
    "duration": 27531,
    "start_time": "2023-02-24T18:42:22.110Z"
   },
   {
    "duration": 46,
    "start_time": "2023-02-24T18:44:51.273Z"
   },
   {
    "duration": 42,
    "start_time": "2023-02-24T18:45:27.930Z"
   },
   {
    "duration": 27564,
    "start_time": "2023-02-24T18:45:59.947Z"
   },
   {
    "duration": 42,
    "start_time": "2023-02-24T18:46:54.691Z"
   },
   {
    "duration": 6173,
    "start_time": "2023-02-24T18:58:16.112Z"
   },
   {
    "duration": 6130,
    "start_time": "2023-02-24T18:58:47.089Z"
   },
   {
    "duration": 6032,
    "start_time": "2023-02-24T18:59:38.593Z"
   },
   {
    "duration": 6634,
    "start_time": "2023-02-24T19:12:07.109Z"
   },
   {
    "duration": 6715,
    "start_time": "2023-02-24T19:12:25.792Z"
   },
   {
    "duration": 6448,
    "start_time": "2023-02-24T19:13:15.688Z"
   },
   {
    "duration": 6435,
    "start_time": "2023-02-24T19:13:29.414Z"
   },
   {
    "duration": 1177,
    "start_time": "2023-02-25T21:15:39.175Z"
   },
   {
    "duration": 935,
    "start_time": "2023-02-25T21:15:41.204Z"
   },
   {
    "duration": 24,
    "start_time": "2023-02-25T21:15:42.929Z"
   },
   {
    "duration": 21,
    "start_time": "2023-02-25T21:15:43.699Z"
   },
   {
    "duration": 25,
    "start_time": "2023-02-25T21:15:45.174Z"
   },
   {
    "duration": 25,
    "start_time": "2023-02-25T21:15:46.657Z"
   },
   {
    "duration": 13,
    "start_time": "2023-02-25T21:15:49.103Z"
   },
   {
    "duration": 25,
    "start_time": "2023-02-25T21:15:50.500Z"
   },
   {
    "duration": 7604,
    "start_time": "2023-02-25T21:15:51.269Z"
   },
   {
    "duration": 283,
    "start_time": "2023-02-25T21:16:07.244Z"
   },
   {
    "duration": 1439,
    "start_time": "2023-02-25T21:16:08.507Z"
   },
   {
    "duration": 28,
    "start_time": "2023-02-25T21:16:09.954Z"
   },
   {
    "duration": 1227,
    "start_time": "2023-02-25T21:16:09.983Z"
   },
   {
    "duration": 113,
    "start_time": "2023-02-25T21:16:11.212Z"
   },
   {
    "duration": 38,
    "start_time": "2023-02-25T21:16:13.749Z"
   },
   {
    "duration": 6,
    "start_time": "2023-02-25T21:16:14.630Z"
   },
   {
    "duration": 1331,
    "start_time": "2023-02-26T14:20:20.165Z"
   },
   {
    "duration": 1035,
    "start_time": "2023-02-26T14:20:22.600Z"
   },
   {
    "duration": 29,
    "start_time": "2023-02-26T14:22:21.026Z"
   },
   {
    "duration": 28,
    "start_time": "2023-02-26T14:22:22.498Z"
   },
   {
    "duration": 23,
    "start_time": "2023-02-26T14:22:28.060Z"
   },
   {
    "duration": 17,
    "start_time": "2023-02-26T14:22:30.338Z"
   },
   {
    "duration": 19,
    "start_time": "2023-02-26T14:22:36.634Z"
   },
   {
    "duration": 31,
    "start_time": "2023-02-26T14:22:46.754Z"
   },
   {
    "duration": 7437,
    "start_time": "2023-02-26T14:23:01.324Z"
   },
   {
    "duration": 7324,
    "start_time": "2023-02-26T14:24:10.287Z"
   },
   {
    "duration": 6936,
    "start_time": "2023-02-26T14:39:05.413Z"
   },
   {
    "duration": 6885,
    "start_time": "2023-02-26T14:39:26.082Z"
   },
   {
    "duration": 6791,
    "start_time": "2023-02-26T14:40:32.858Z"
   },
   {
    "duration": 166,
    "start_time": "2023-02-26T14:41:01.709Z"
   },
   {
    "duration": 50,
    "start_time": "2023-02-26T14:41:20.369Z"
   },
   {
    "duration": 46,
    "start_time": "2023-02-26T14:41:22.308Z"
   },
   {
    "duration": 46,
    "start_time": "2023-02-26T14:41:45.559Z"
   },
   {
    "duration": 7766,
    "start_time": "2023-02-26T14:43:52.123Z"
   },
   {
    "duration": 7740,
    "start_time": "2023-02-26T14:44:20.335Z"
   },
   {
    "duration": 7582,
    "start_time": "2023-02-26T14:44:34.112Z"
   },
   {
    "duration": 7446,
    "start_time": "2023-02-26T14:44:53.717Z"
   },
   {
    "duration": 7589,
    "start_time": "2023-02-26T14:45:05.171Z"
   },
   {
    "duration": 7019,
    "start_time": "2023-02-26T14:45:39.679Z"
   },
   {
    "duration": 10211,
    "start_time": "2023-02-26T14:46:11.256Z"
   },
   {
    "duration": 58,
    "start_time": "2023-02-26T14:47:42.460Z"
   },
   {
    "duration": 20302,
    "start_time": "2023-02-26T14:48:14.626Z"
   },
   {
    "duration": 20766,
    "start_time": "2023-02-26T14:50:18.350Z"
   },
   {
    "duration": 48,
    "start_time": "2023-02-26T14:51:06.340Z"
   },
   {
    "duration": 48,
    "start_time": "2023-02-26T14:51:09.896Z"
   },
   {
    "duration": 66,
    "start_time": "2023-02-26T14:51:45.011Z"
   },
   {
    "duration": 72,
    "start_time": "2023-02-26T14:52:00.665Z"
   },
   {
    "duration": 21775,
    "start_time": "2023-02-26T14:52:19.337Z"
   },
   {
    "duration": 32178,
    "start_time": "2023-02-26T14:55:32.338Z"
   },
   {
    "duration": 10324,
    "start_time": "2023-02-26T14:56:36.682Z"
   },
   {
    "duration": 12488,
    "start_time": "2023-02-26T14:56:50.438Z"
   },
   {
    "duration": 13114,
    "start_time": "2023-02-26T14:57:57.834Z"
   },
   {
    "duration": 15076,
    "start_time": "2023-02-26T14:58:51.371Z"
   },
   {
    "duration": 15729,
    "start_time": "2023-02-26T14:59:36.200Z"
   },
   {
    "duration": 15678,
    "start_time": "2023-02-26T15:01:46.524Z"
   },
   {
    "duration": 16292,
    "start_time": "2023-02-26T15:02:43.253Z"
   },
   {
    "duration": 18356,
    "start_time": "2023-02-26T15:04:02.225Z"
   },
   {
    "duration": 17488,
    "start_time": "2023-02-26T15:04:44.604Z"
   },
   {
    "duration": 19644,
    "start_time": "2023-02-26T15:05:29.498Z"
   },
   {
    "duration": 837,
    "start_time": "2023-02-26T15:06:08.810Z"
   },
   {
    "duration": 1114,
    "start_time": "2023-02-26T15:07:31.673Z"
   },
   {
    "duration": 18339,
    "start_time": "2023-02-26T15:07:41.882Z"
   },
   {
    "duration": 147,
    "start_time": "2023-02-26T15:08:51.562Z"
   },
   {
    "duration": 125,
    "start_time": "2023-02-26T15:09:41.227Z"
   },
   {
    "duration": 56,
    "start_time": "2023-02-26T15:10:11.804Z"
   },
   {
    "duration": 107,
    "start_time": "2023-02-26T15:10:19.604Z"
   },
   {
    "duration": 119,
    "start_time": "2023-02-26T15:10:28.594Z"
   },
   {
    "duration": 78,
    "start_time": "2023-02-26T15:10:51.149Z"
   },
   {
    "duration": 4,
    "start_time": "2023-02-26T15:13:20.781Z"
   },
   {
    "duration": 917,
    "start_time": "2023-02-26T15:13:20.787Z"
   },
   {
    "duration": 49,
    "start_time": "2023-02-26T15:13:21.709Z"
   },
   {
    "duration": 39,
    "start_time": "2023-02-26T15:13:21.764Z"
   },
   {
    "duration": 34,
    "start_time": "2023-02-26T15:13:21.806Z"
   },
   {
    "duration": 19,
    "start_time": "2023-02-26T15:13:21.847Z"
   },
   {
    "duration": 34,
    "start_time": "2023-02-26T15:13:21.869Z"
   },
   {
    "duration": 38369,
    "start_time": "2023-02-26T15:13:21.905Z"
   },
   {
    "duration": 28,
    "start_time": "2023-02-26T15:14:00.276Z"
   },
   {
    "duration": 36699,
    "start_time": "2023-02-26T15:14:34.584Z"
   },
   {
    "duration": 19,
    "start_time": "2023-02-26T15:15:11.285Z"
   },
   {
    "duration": 36671,
    "start_time": "2023-02-26T15:15:38.006Z"
   },
   {
    "duration": 19,
    "start_time": "2023-02-26T15:16:14.679Z"
   },
   {
    "duration": 15,
    "start_time": "2023-02-26T15:16:25.372Z"
   },
   {
    "duration": 24,
    "start_time": "2023-02-26T15:16:48.499Z"
   },
   {
    "duration": 28,
    "start_time": "2023-02-26T15:17:50.232Z"
   },
   {
    "duration": 292,
    "start_time": "2023-02-26T15:17:52.976Z"
   },
   {
    "duration": 14,
    "start_time": "2023-02-26T15:23:26.441Z"
   },
   {
    "duration": 984,
    "start_time": "2023-02-26T15:24:44.649Z"
   },
   {
    "duration": 1177,
    "start_time": "2023-02-26T15:24:50.038Z"
   },
   {
    "duration": 857,
    "start_time": "2023-02-26T15:25:32.377Z"
   },
   {
    "duration": 871,
    "start_time": "2023-02-26T15:25:57.726Z"
   },
   {
    "duration": 1383,
    "start_time": "2023-02-26T15:27:43.768Z"
   },
   {
    "duration": 1189,
    "start_time": "2023-02-26T15:28:26.687Z"
   },
   {
    "duration": 766,
    "start_time": "2023-02-26T15:29:00.665Z"
   },
   {
    "duration": 691,
    "start_time": "2023-02-26T15:29:16.822Z"
   },
   {
    "duration": 758,
    "start_time": "2023-02-26T15:29:37.018Z"
   },
   {
    "duration": 921,
    "start_time": "2023-02-26T15:29:51.915Z"
   },
   {
    "duration": 986,
    "start_time": "2023-02-26T15:30:22.784Z"
   },
   {
    "duration": 905,
    "start_time": "2023-02-26T15:30:47.651Z"
   },
   {
    "duration": 1041,
    "start_time": "2023-02-26T15:31:26.581Z"
   },
   {
    "duration": 39,
    "start_time": "2023-02-26T15:32:33.854Z"
   },
   {
    "duration": 939,
    "start_time": "2023-02-26T15:32:58.292Z"
   },
   {
    "duration": 995,
    "start_time": "2023-02-26T15:33:27.614Z"
   },
   {
    "duration": 1142,
    "start_time": "2023-02-26T15:33:51.199Z"
   },
   {
    "duration": 1051,
    "start_time": "2023-02-26T15:34:07.201Z"
   },
   {
    "duration": 977,
    "start_time": "2023-02-26T15:36:33.916Z"
   },
   {
    "duration": 22,
    "start_time": "2023-02-26T15:38:05.531Z"
   },
   {
    "duration": 20,
    "start_time": "2023-02-26T15:39:07.239Z"
   },
   {
    "duration": 896,
    "start_time": "2023-02-26T15:40:56.784Z"
   },
   {
    "duration": 911,
    "start_time": "2023-02-26T15:41:05.056Z"
   },
   {
    "duration": 1273,
    "start_time": "2023-02-26T15:45:20.671Z"
   },
   {
    "duration": 128,
    "start_time": "2023-02-26T15:51:31.907Z"
   },
   {
    "duration": 17,
    "start_time": "2023-02-26T15:53:46.966Z"
   },
   {
    "duration": 969,
    "start_time": "2023-02-26T15:55:00.161Z"
   },
   {
    "duration": 12,
    "start_time": "2023-02-26T15:55:09.469Z"
   },
   {
    "duration": 1251,
    "start_time": "2023-02-26T15:55:19.833Z"
   },
   {
    "duration": 20,
    "start_time": "2023-02-26T15:55:45.982Z"
   },
   {
    "duration": 24,
    "start_time": "2023-02-26T15:55:54.320Z"
   },
   {
    "duration": 31,
    "start_time": "2023-02-26T15:55:59.752Z"
   },
   {
    "duration": 1023,
    "start_time": "2023-02-26T15:56:24.661Z"
   },
   {
    "duration": 27,
    "start_time": "2023-02-26T15:56:37.011Z"
   },
   {
    "duration": 16,
    "start_time": "2023-02-26T15:57:28.685Z"
   },
   {
    "duration": 1400,
    "start_time": "2023-02-26T15:58:20.624Z"
   },
   {
    "duration": 1842,
    "start_time": "2023-02-26T15:59:10.999Z"
   },
   {
    "duration": 1581,
    "start_time": "2023-02-26T16:06:47.711Z"
   },
   {
    "duration": 1935,
    "start_time": "2023-02-26T16:07:22.531Z"
   },
   {
    "duration": 1944,
    "start_time": "2023-02-26T16:08:24.292Z"
   },
   {
    "duration": 1681,
    "start_time": "2023-02-26T16:18:14.435Z"
   },
   {
    "duration": 1245,
    "start_time": "2023-02-26T16:46:15.067Z"
   },
   {
    "duration": 129,
    "start_time": "2023-02-26T16:58:48.969Z"
   },
   {
    "duration": 4,
    "start_time": "2023-02-26T16:59:04.018Z"
   },
   {
    "duration": 4,
    "start_time": "2023-02-26T16:59:29.070Z"
   },
   {
    "duration": 748,
    "start_time": "2023-02-26T16:59:29.075Z"
   },
   {
    "duration": 25,
    "start_time": "2023-02-26T16:59:29.825Z"
   },
   {
    "duration": 38,
    "start_time": "2023-02-26T16:59:29.852Z"
   },
   {
    "duration": 21,
    "start_time": "2023-02-26T16:59:29.894Z"
   },
   {
    "duration": 32,
    "start_time": "2023-02-26T16:59:29.917Z"
   },
   {
    "duration": 31,
    "start_time": "2023-02-26T16:59:29.952Z"
   },
   {
    "duration": 4,
    "start_time": "2023-02-26T16:59:29.986Z"
   },
   {
    "duration": 52,
    "start_time": "2023-02-26T16:59:29.993Z"
   },
   {
    "duration": 417,
    "start_time": "2023-02-26T16:59:30.047Z"
   },
   {
    "duration": 1500,
    "start_time": "2023-02-26T16:59:30.466Z"
   },
   {
    "duration": 1636,
    "start_time": "2023-02-26T16:59:31.968Z"
   },
   {
    "duration": 1000,
    "start_time": "2023-02-26T16:59:33.605Z"
   },
   {
    "duration": 18,
    "start_time": "2023-02-26T17:03:17.341Z"
   },
   {
    "duration": 10,
    "start_time": "2023-02-26T17:04:59.474Z"
   },
   {
    "duration": 179,
    "start_time": "2023-02-26T17:05:13.396Z"
   },
   {
    "duration": 25,
    "start_time": "2023-02-26T17:06:16.430Z"
   },
   {
    "duration": 27,
    "start_time": "2023-02-26T17:06:24.718Z"
   },
   {
    "duration": 231,
    "start_time": "2023-02-26T17:06:32.039Z"
   },
   {
    "duration": 18,
    "start_time": "2023-02-26T17:07:16.877Z"
   },
   {
    "duration": 28,
    "start_time": "2023-02-26T17:08:10.829Z"
   },
   {
    "duration": 17,
    "start_time": "2023-02-26T17:08:27.293Z"
   },
   {
    "duration": 26,
    "start_time": "2023-02-26T17:08:44.497Z"
   },
   {
    "duration": 36,
    "start_time": "2023-02-26T17:09:01.150Z"
   },
   {
    "duration": 17,
    "start_time": "2023-02-26T17:09:31.192Z"
   },
   {
    "duration": 378,
    "start_time": "2023-02-26T17:09:57.240Z"
   },
   {
    "duration": 225,
    "start_time": "2023-02-26T17:10:16.998Z"
   },
   {
    "duration": 9,
    "start_time": "2023-02-26T17:10:27.167Z"
   },
   {
    "duration": 13,
    "start_time": "2023-02-26T17:10:52.035Z"
   },
   {
    "duration": 13,
    "start_time": "2023-02-26T17:11:04.440Z"
   },
   {
    "duration": 8,
    "start_time": "2023-02-26T17:11:24.767Z"
   },
   {
    "duration": 9,
    "start_time": "2023-02-26T17:12:37.321Z"
   },
   {
    "duration": 13,
    "start_time": "2023-02-26T17:12:58.074Z"
   },
   {
    "duration": 14,
    "start_time": "2023-02-26T17:13:12.533Z"
   },
   {
    "duration": 132,
    "start_time": "2023-02-26T17:16:37.048Z"
   },
   {
    "duration": 130,
    "start_time": "2023-02-26T17:16:54.321Z"
   },
   {
    "duration": 130,
    "start_time": "2023-02-26T17:17:26.878Z"
   },
   {
    "duration": 363,
    "start_time": "2023-02-26T17:17:36.603Z"
   },
   {
    "duration": 311,
    "start_time": "2023-02-26T17:18:02.539Z"
   },
   {
    "duration": 269,
    "start_time": "2023-02-26T17:18:53.847Z"
   },
   {
    "duration": 251,
    "start_time": "2023-02-26T17:19:19.846Z"
   },
   {
    "duration": 276,
    "start_time": "2023-02-26T17:33:51.069Z"
   },
   {
    "duration": 247,
    "start_time": "2023-02-26T17:34:03.706Z"
   },
   {
    "duration": 281,
    "start_time": "2023-02-26T17:36:09.594Z"
   },
   {
    "duration": 246,
    "start_time": "2023-02-26T17:41:59.964Z"
   },
   {
    "duration": 272,
    "start_time": "2023-02-26T17:42:06.627Z"
   },
   {
    "duration": 251,
    "start_time": "2023-02-26T17:42:13.175Z"
   },
   {
    "duration": 150,
    "start_time": "2023-02-26T17:44:33.302Z"
   },
   {
    "duration": 311,
    "start_time": "2023-02-26T17:44:42.734Z"
   },
   {
    "duration": 280,
    "start_time": "2023-02-26T17:45:02.462Z"
   },
   {
    "duration": 16,
    "start_time": "2023-02-26T17:45:18.304Z"
   },
   {
    "duration": 247,
    "start_time": "2023-02-26T17:45:22.582Z"
   },
   {
    "duration": 268,
    "start_time": "2023-02-26T17:45:37.020Z"
   },
   {
    "duration": 244,
    "start_time": "2023-02-26T17:46:25.595Z"
   },
   {
    "duration": 216,
    "start_time": "2023-02-26T17:46:30.875Z"
   },
   {
    "duration": 370,
    "start_time": "2023-02-26T17:46:35.848Z"
   },
   {
    "duration": 264,
    "start_time": "2023-02-26T17:47:56.018Z"
   },
   {
    "duration": 11,
    "start_time": "2023-02-26T17:51:26.922Z"
   },
   {
    "duration": 15,
    "start_time": "2023-02-26T17:51:32.294Z"
   },
   {
    "duration": 157,
    "start_time": "2023-02-26T17:51:53.904Z"
   },
   {
    "duration": 161,
    "start_time": "2023-02-26T17:52:05.039Z"
   },
   {
    "duration": 15,
    "start_time": "2023-02-26T17:52:45.211Z"
   },
   {
    "duration": 34,
    "start_time": "2023-02-26T17:53:22.841Z"
   },
   {
    "duration": 30,
    "start_time": "2023-02-26T17:54:03.028Z"
   },
   {
    "duration": 35,
    "start_time": "2023-02-26T17:54:26.980Z"
   },
   {
    "duration": 38,
    "start_time": "2023-02-26T17:56:05.723Z"
   },
   {
    "duration": 38,
    "start_time": "2023-02-26T17:56:21.008Z"
   },
   {
    "duration": 35,
    "start_time": "2023-02-26T17:56:35.079Z"
   },
   {
    "duration": 35,
    "start_time": "2023-02-26T17:57:48.588Z"
   },
   {
    "duration": 38,
    "start_time": "2023-02-26T18:08:50.465Z"
   },
   {
    "duration": 729,
    "start_time": "2023-02-26T18:29:40.549Z"
   },
   {
    "duration": 11,
    "start_time": "2023-02-26T18:31:23.564Z"
   },
   {
    "duration": 27,
    "start_time": "2023-02-26T18:31:43.067Z"
   },
   {
    "duration": 19,
    "start_time": "2023-02-26T18:31:50.516Z"
   },
   {
    "duration": 14,
    "start_time": "2023-02-26T18:31:58.064Z"
   },
   {
    "duration": 11,
    "start_time": "2023-02-26T18:34:01.573Z"
   },
   {
    "duration": 15,
    "start_time": "2023-02-26T18:34:52.207Z"
   },
   {
    "duration": 13,
    "start_time": "2023-02-26T18:35:05.941Z"
   },
   {
    "duration": 17,
    "start_time": "2023-02-26T18:35:27.575Z"
   },
   {
    "duration": 15,
    "start_time": "2023-02-26T18:37:44.768Z"
   },
   {
    "duration": 22,
    "start_time": "2023-02-26T18:39:00.988Z"
   },
   {
    "duration": 14,
    "start_time": "2023-02-26T18:39:10.583Z"
   },
   {
    "duration": 21,
    "start_time": "2023-02-26T18:42:13.023Z"
   },
   {
    "duration": 18,
    "start_time": "2023-02-26T18:42:20.334Z"
   },
   {
    "duration": 23,
    "start_time": "2023-02-26T18:42:36.392Z"
   },
   {
    "duration": 86,
    "start_time": "2023-02-26T18:43:07.221Z"
   },
   {
    "duration": 14,
    "start_time": "2023-02-26T18:43:23.553Z"
   },
   {
    "duration": 15,
    "start_time": "2023-02-26T18:43:34.603Z"
   },
   {
    "duration": 16,
    "start_time": "2023-02-26T18:43:41.286Z"
   },
   {
    "duration": 14,
    "start_time": "2023-02-26T18:43:48.403Z"
   },
   {
    "duration": 21,
    "start_time": "2023-02-26T18:44:16.072Z"
   },
   {
    "duration": 11,
    "start_time": "2023-02-26T18:44:36.350Z"
   },
   {
    "duration": 18,
    "start_time": "2023-02-26T18:44:44.428Z"
   },
   {
    "duration": 30,
    "start_time": "2023-02-26T18:44:47.529Z"
   },
   {
    "duration": 21,
    "start_time": "2023-02-26T18:45:06.863Z"
   },
   {
    "duration": 16,
    "start_time": "2023-02-26T18:45:14.755Z"
   },
   {
    "duration": 21,
    "start_time": "2023-02-26T18:45:19.253Z"
   },
   {
    "duration": 17,
    "start_time": "2023-02-26T18:46:29.966Z"
   },
   {
    "duration": 17,
    "start_time": "2023-02-26T18:46:44.045Z"
   },
   {
    "duration": 14,
    "start_time": "2023-02-26T18:46:59.223Z"
   },
   {
    "duration": 13,
    "start_time": "2023-02-26T18:47:38.935Z"
   },
   {
    "duration": 13,
    "start_time": "2023-02-26T18:47:47.754Z"
   },
   {
    "duration": 15,
    "start_time": "2023-02-26T18:47:58.429Z"
   },
   {
    "duration": 16,
    "start_time": "2023-02-26T18:48:23.051Z"
   },
   {
    "duration": 12,
    "start_time": "2023-02-26T18:48:34.804Z"
   },
   {
    "duration": 12,
    "start_time": "2023-02-26T18:48:41.977Z"
   },
   {
    "duration": 13,
    "start_time": "2023-02-26T18:49:34.792Z"
   },
   {
    "duration": 23,
    "start_time": "2023-02-26T18:49:42.819Z"
   },
   {
    "duration": 23,
    "start_time": "2023-02-26T18:50:04.237Z"
   },
   {
    "duration": 23,
    "start_time": "2023-02-26T18:50:26.651Z"
   },
   {
    "duration": 21,
    "start_time": "2023-02-26T18:50:38.539Z"
   },
   {
    "duration": 21,
    "start_time": "2023-02-26T18:50:46.033Z"
   },
   {
    "duration": 14,
    "start_time": "2023-02-26T18:51:00.108Z"
   },
   {
    "duration": 11,
    "start_time": "2023-02-26T18:51:11.347Z"
   },
   {
    "duration": 13,
    "start_time": "2023-02-26T18:51:35.214Z"
   },
   {
    "duration": 11,
    "start_time": "2023-02-26T19:07:43.663Z"
   },
   {
    "duration": 12,
    "start_time": "2023-02-26T19:08:12.695Z"
   },
   {
    "duration": 14,
    "start_time": "2023-02-26T19:08:20.927Z"
   },
   {
    "duration": 13,
    "start_time": "2023-02-26T19:08:57.489Z"
   },
   {
    "duration": 11,
    "start_time": "2023-02-26T19:09:00.128Z"
   },
   {
    "duration": 14,
    "start_time": "2023-02-26T19:09:18.667Z"
   },
   {
    "duration": 28,
    "start_time": "2023-02-26T19:09:44.762Z"
   },
   {
    "duration": 14,
    "start_time": "2023-02-26T19:09:56.985Z"
   },
   {
    "duration": 23,
    "start_time": "2023-02-26T19:10:13.857Z"
   },
   {
    "duration": 14,
    "start_time": "2023-02-26T19:10:25.182Z"
   },
   {
    "duration": 12,
    "start_time": "2023-02-26T19:10:59.836Z"
   },
   {
    "duration": 15,
    "start_time": "2023-02-26T19:11:03.811Z"
   },
   {
    "duration": 18,
    "start_time": "2023-02-26T19:11:27.223Z"
   },
   {
    "duration": 13,
    "start_time": "2023-02-26T19:15:12.757Z"
   },
   {
    "duration": 14,
    "start_time": "2023-02-26T19:17:48.925Z"
   },
   {
    "duration": 49,
    "start_time": "2023-02-26T19:22:07.550Z"
   },
   {
    "duration": 16,
    "start_time": "2023-02-26T19:24:09.583Z"
   },
   {
    "duration": 18,
    "start_time": "2023-02-26T19:24:30.531Z"
   },
   {
    "duration": 17,
    "start_time": "2023-02-26T19:24:33.690Z"
   },
   {
    "duration": 16,
    "start_time": "2023-02-26T19:24:50.797Z"
   },
   {
    "duration": 17,
    "start_time": "2023-02-26T19:24:58.065Z"
   },
   {
    "duration": 16,
    "start_time": "2023-02-26T19:25:09.596Z"
   },
   {
    "duration": 14,
    "start_time": "2023-02-26T19:25:18.588Z"
   },
   {
    "duration": 20,
    "start_time": "2023-02-26T19:26:20.150Z"
   },
   {
    "duration": 14,
    "start_time": "2023-02-26T19:26:33.457Z"
   },
   {
    "duration": 16,
    "start_time": "2023-02-26T19:27:01.426Z"
   },
   {
    "duration": 22,
    "start_time": "2023-02-26T19:27:08.137Z"
   },
   {
    "duration": 18,
    "start_time": "2023-02-26T19:27:16.592Z"
   },
   {
    "duration": 25,
    "start_time": "2023-02-26T19:27:45.031Z"
   },
   {
    "duration": 130,
    "start_time": "2023-02-26T19:28:37.671Z"
   },
   {
    "duration": 165,
    "start_time": "2023-02-26T19:29:00.316Z"
   },
   {
    "duration": 143,
    "start_time": "2023-02-26T19:29:36.134Z"
   },
   {
    "duration": 691,
    "start_time": "2023-02-26T19:30:13.210Z"
   },
   {
    "duration": 24,
    "start_time": "2023-02-26T19:30:25.279Z"
   },
   {
    "duration": 141,
    "start_time": "2023-02-26T19:30:40.212Z"
   },
   {
    "duration": 17,
    "start_time": "2023-02-26T19:31:41.674Z"
   },
   {
    "duration": 13,
    "start_time": "2023-02-26T19:32:33.191Z"
   },
   {
    "duration": 117,
    "start_time": "2023-02-26T19:33:29.656Z"
   },
   {
    "duration": 127,
    "start_time": "2023-02-26T19:33:34.789Z"
   },
   {
    "duration": 129,
    "start_time": "2023-02-26T19:34:23.458Z"
   },
   {
    "duration": 48,
    "start_time": "2023-02-26T19:34:48.311Z"
   },
   {
    "duration": 134,
    "start_time": "2023-02-26T19:34:52.281Z"
   },
   {
    "duration": 122,
    "start_time": "2023-02-26T19:35:03.117Z"
   },
   {
    "duration": 156,
    "start_time": "2023-02-26T19:35:15.850Z"
   },
   {
    "duration": 260,
    "start_time": "2023-02-26T19:35:28.403Z"
   },
   {
    "duration": 166,
    "start_time": "2023-02-26T19:35:39.888Z"
   },
   {
    "duration": 121,
    "start_time": "2023-02-26T19:35:49.498Z"
   },
   {
    "duration": 4,
    "start_time": "2023-02-26T19:42:50.453Z"
   },
   {
    "duration": 815,
    "start_time": "2023-02-26T19:42:50.459Z"
   },
   {
    "duration": 22,
    "start_time": "2023-02-26T19:42:51.276Z"
   },
   {
    "duration": 45,
    "start_time": "2023-02-26T19:42:51.300Z"
   },
   {
    "duration": 20,
    "start_time": "2023-02-26T19:42:51.347Z"
   },
   {
    "duration": 13,
    "start_time": "2023-02-26T19:42:51.370Z"
   },
   {
    "duration": 53,
    "start_time": "2023-02-26T19:42:51.384Z"
   },
   {
    "duration": 5,
    "start_time": "2023-02-26T19:42:51.439Z"
   },
   {
    "duration": 36,
    "start_time": "2023-02-26T19:42:51.445Z"
   },
   {
    "duration": 352,
    "start_time": "2023-02-26T19:42:51.485Z"
   },
   {
    "duration": 1757,
    "start_time": "2023-02-26T19:42:51.840Z"
   },
   {
    "duration": 1548,
    "start_time": "2023-02-26T19:42:53.599Z"
   },
   {
    "duration": 1241,
    "start_time": "2023-02-26T19:42:55.149Z"
   },
   {
    "duration": 282,
    "start_time": "2023-02-26T19:42:56.392Z"
   },
   {
    "duration": 265,
    "start_time": "2023-02-26T19:42:56.675Z"
   },
   {
    "duration": 296,
    "start_time": "2023-02-26T19:42:56.942Z"
   },
   {
    "duration": 41,
    "start_time": "2023-02-26T19:42:57.240Z"
   },
   {
    "duration": 159,
    "start_time": "2023-02-26T19:42:57.283Z"
   },
   {
    "duration": 17,
    "start_time": "2023-02-26T19:42:57.444Z"
   },
   {
    "duration": 11,
    "start_time": "2023-02-26T19:42:57.463Z"
   },
   {
    "duration": 21,
    "start_time": "2023-02-26T19:42:57.476Z"
   },
   {
    "duration": 23,
    "start_time": "2023-02-26T19:42:57.499Z"
   },
   {
    "duration": 14,
    "start_time": "2023-02-26T19:42:57.538Z"
   },
   {
    "duration": 260,
    "start_time": "2023-02-26T19:48:44.753Z"
   },
   {
    "duration": 189,
    "start_time": "2023-02-26T19:48:58.082Z"
   },
   {
    "duration": 43,
    "start_time": "2023-02-26T19:49:09.046Z"
   },
   {
    "duration": 40713,
    "start_time": "2023-02-26T19:49:54.894Z"
   },
   {
    "duration": 45736,
    "start_time": "2023-02-26T19:50:37.024Z"
   },
   {
    "duration": 22,
    "start_time": "2023-02-26T19:51:24.006Z"
   },
   {
    "duration": 143,
    "start_time": "2023-02-26T19:51:33.350Z"
   },
   {
    "duration": 160,
    "start_time": "2023-02-26T19:51:48.518Z"
   },
   {
    "duration": 19,
    "start_time": "2023-02-26T19:52:10.883Z"
   },
   {
    "duration": 16,
    "start_time": "2023-02-26T19:53:10.171Z"
   },
   {
    "duration": 131,
    "start_time": "2023-02-26T19:53:10.189Z"
   },
   {
    "duration": 125,
    "start_time": "2023-02-26T19:53:11.693Z"
   },
   {
    "duration": 134,
    "start_time": "2023-02-26T19:53:31.495Z"
   },
   {
    "duration": 162,
    "start_time": "2023-02-26T19:54:05.512Z"
   },
   {
    "duration": 90,
    "start_time": "2023-02-26T19:54:22.189Z"
   },
   {
    "duration": 107,
    "start_time": "2023-02-26T19:56:09.167Z"
   },
   {
    "duration": 116,
    "start_time": "2023-02-26T19:56:21.233Z"
   },
   {
    "duration": 112,
    "start_time": "2023-02-26T19:56:42.035Z"
   },
   {
    "duration": 96,
    "start_time": "2023-02-26T20:03:36.672Z"
   },
   {
    "duration": 98,
    "start_time": "2023-02-26T20:03:48.579Z"
   },
   {
    "duration": 97,
    "start_time": "2023-02-26T20:04:01.108Z"
   },
   {
    "duration": 105,
    "start_time": "2023-02-26T20:04:07.690Z"
   },
   {
    "duration": 109,
    "start_time": "2023-02-26T20:04:21.411Z"
   },
   {
    "duration": 99,
    "start_time": "2023-02-26T20:05:20.667Z"
   },
   {
    "duration": 103,
    "start_time": "2023-02-26T20:05:43.862Z"
   },
   {
    "duration": 115,
    "start_time": "2023-02-26T20:06:04.030Z"
   },
   {
    "duration": 93,
    "start_time": "2023-02-26T20:06:15.070Z"
   },
   {
    "duration": 54,
    "start_time": "2023-02-27T08:51:08.025Z"
   },
   {
    "duration": 1155,
    "start_time": "2023-02-27T08:51:13.812Z"
   },
   {
    "duration": 877,
    "start_time": "2023-02-27T08:51:15.224Z"
   },
   {
    "duration": 5,
    "start_time": "2023-02-27T08:51:18.532Z"
   },
   {
    "duration": 22,
    "start_time": "2023-02-27T08:51:32.155Z"
   },
   {
    "duration": 26,
    "start_time": "2023-02-27T08:55:40.144Z"
   },
   {
    "duration": 371,
    "start_time": "2023-02-27T09:00:46.224Z"
   },
   {
    "duration": 323,
    "start_time": "2023-02-27T09:01:06.667Z"
   },
   {
    "duration": 302,
    "start_time": "2023-02-27T09:02:02.304Z"
   },
   {
    "duration": 285,
    "start_time": "2023-02-27T09:02:10.571Z"
   },
   {
    "duration": 9,
    "start_time": "2023-02-27T09:28:42.399Z"
   },
   {
    "duration": 3,
    "start_time": "2023-02-27T09:28:52.285Z"
   },
   {
    "duration": 843,
    "start_time": "2023-02-27T09:28:52.290Z"
   },
   {
    "duration": 31,
    "start_time": "2023-02-27T09:28:53.134Z"
   },
   {
    "duration": 20,
    "start_time": "2023-02-27T09:28:53.167Z"
   },
   {
    "duration": 20,
    "start_time": "2023-02-27T09:28:53.189Z"
   },
   {
    "duration": 43,
    "start_time": "2023-02-27T09:28:53.211Z"
   },
   {
    "duration": 25,
    "start_time": "2023-02-27T09:28:53.256Z"
   },
   {
    "duration": 4,
    "start_time": "2023-02-27T09:28:53.283Z"
   },
   {
    "duration": 62,
    "start_time": "2023-02-27T09:28:53.288Z"
   },
   {
    "duration": 337,
    "start_time": "2023-02-27T09:28:53.352Z"
   },
   {
    "duration": 1453,
    "start_time": "2023-02-27T09:28:53.691Z"
   },
   {
    "duration": 1519,
    "start_time": "2023-02-27T09:28:55.145Z"
   },
   {
    "duration": 415,
    "start_time": "2023-02-27T09:28:56.667Z"
   },
   {
    "duration": 293,
    "start_time": "2023-02-27T09:28:57.085Z"
   },
   {
    "duration": 311,
    "start_time": "2023-02-27T09:28:57.380Z"
   },
   {
    "duration": 294,
    "start_time": "2023-02-27T09:28:57.693Z"
   },
   {
    "duration": 42,
    "start_time": "2023-02-27T09:28:57.989Z"
   },
   {
    "duration": 95,
    "start_time": "2023-02-27T09:28:58.033Z"
   },
   {
    "duration": 106,
    "start_time": "2023-02-27T09:28:58.129Z"
   },
   {
    "duration": 90,
    "start_time": "2023-02-27T09:28:58.237Z"
   },
   {
    "duration": 97,
    "start_time": "2023-02-27T09:28:58.329Z"
   },
   {
    "duration": 98,
    "start_time": "2023-02-27T09:28:58.428Z"
   },
   {
    "duration": 90,
    "start_time": "2023-02-27T09:28:58.527Z"
   },
   {
    "duration": 98,
    "start_time": "2023-02-27T09:28:58.619Z"
   },
   {
    "duration": 99,
    "start_time": "2023-02-27T09:28:58.719Z"
   },
   {
    "duration": 96,
    "start_time": "2023-02-27T09:28:58.820Z"
   },
   {
    "duration": 11,
    "start_time": "2023-02-27T09:28:58.918Z"
   },
   {
    "duration": 23,
    "start_time": "2023-02-27T09:28:58.930Z"
   },
   {
    "duration": 13,
    "start_time": "2023-02-27T09:28:58.955Z"
   },
   {
    "duration": 10,
    "start_time": "2023-02-27T09:28:58.970Z"
   },
   {
    "duration": 446,
    "start_time": "2023-02-27T10:20:14.863Z"
   },
   {
    "duration": 284,
    "start_time": "2023-02-27T10:20:26.223Z"
   },
   {
    "duration": 340,
    "start_time": "2023-02-27T10:21:30.202Z"
   },
   {
    "duration": 24,
    "start_time": "2023-02-27T10:22:06.314Z"
   },
   {
    "duration": 11,
    "start_time": "2023-02-27T10:22:43.604Z"
   },
   {
    "duration": 85,
    "start_time": "2023-02-27T10:22:57.357Z"
   },
   {
    "duration": 85,
    "start_time": "2023-02-27T10:23:49.383Z"
   },
   {
    "duration": 19,
    "start_time": "2023-02-27T10:24:06.063Z"
   },
   {
    "duration": 13,
    "start_time": "2023-02-27T10:24:40.260Z"
   },
   {
    "duration": 23,
    "start_time": "2023-02-27T10:24:48.547Z"
   },
   {
    "duration": 1208,
    "start_time": "2023-02-27T10:40:53.695Z"
   },
   {
    "duration": 104,
    "start_time": "2023-02-27T10:44:23.204Z"
   },
   {
    "duration": 35,
    "start_time": "2023-02-27T10:46:23.949Z"
   },
   {
    "duration": 18,
    "start_time": "2023-02-27T10:47:06.505Z"
   },
   {
    "duration": 106,
    "start_time": "2023-02-27T10:48:01.184Z"
   },
   {
    "duration": 103,
    "start_time": "2023-02-27T10:50:49.281Z"
   },
   {
    "duration": 130,
    "start_time": "2023-02-27T10:51:47.265Z"
   },
   {
    "duration": 3,
    "start_time": "2023-02-27T10:51:56.917Z"
   },
   {
    "duration": 895,
    "start_time": "2023-02-27T10:51:56.922Z"
   },
   {
    "duration": 37,
    "start_time": "2023-02-27T10:51:57.820Z"
   },
   {
    "duration": 63,
    "start_time": "2023-02-27T10:51:57.859Z"
   },
   {
    "duration": 24,
    "start_time": "2023-02-27T10:52:01.716Z"
   },
   {
    "duration": 17,
    "start_time": "2023-02-27T10:52:01.743Z"
   },
   {
    "duration": 58,
    "start_time": "2023-02-27T10:52:01.764Z"
   },
   {
    "duration": 7,
    "start_time": "2023-02-27T10:52:02.777Z"
   },
   {
    "duration": 28,
    "start_time": "2023-02-27T10:52:02.786Z"
   },
   {
    "duration": 323,
    "start_time": "2023-02-27T10:52:02.815Z"
   },
   {
    "duration": 1687,
    "start_time": "2023-02-27T10:52:03.140Z"
   },
   {
    "duration": 1691,
    "start_time": "2023-02-27T10:52:04.829Z"
   },
   {
    "duration": 1323,
    "start_time": "2023-02-27T10:52:06.522Z"
   },
   {
    "duration": 290,
    "start_time": "2023-02-27T10:52:07.854Z"
   },
   {
    "duration": 270,
    "start_time": "2023-02-27T10:52:08.156Z"
   },
   {
    "duration": 290,
    "start_time": "2023-02-27T10:52:08.428Z"
   },
   {
    "duration": 47,
    "start_time": "2023-02-27T10:52:08.720Z"
   },
   {
    "duration": 108,
    "start_time": "2023-02-27T10:52:08.772Z"
   },
   {
    "duration": 106,
    "start_time": "2023-02-27T10:52:08.882Z"
   },
   {
    "duration": 104,
    "start_time": "2023-02-27T10:52:08.990Z"
   },
   {
    "duration": 106,
    "start_time": "2023-02-27T10:52:09.097Z"
   },
   {
    "duration": 137,
    "start_time": "2023-02-27T10:52:09.205Z"
   },
   {
    "duration": 272,
    "start_time": "2023-02-27T10:52:09.344Z"
   },
   {
    "duration": 94,
    "start_time": "2023-02-27T10:52:09.618Z"
   },
   {
    "duration": 127,
    "start_time": "2023-02-27T10:52:09.714Z"
   },
   {
    "duration": 104,
    "start_time": "2023-02-27T10:52:09.843Z"
   },
   {
    "duration": 14,
    "start_time": "2023-02-27T10:52:09.948Z"
   },
   {
    "duration": 39,
    "start_time": "2023-02-27T10:52:09.964Z"
   },
   {
    "duration": 16,
    "start_time": "2023-02-27T10:52:10.005Z"
   },
   {
    "duration": 15,
    "start_time": "2023-02-27T10:52:10.023Z"
   },
   {
    "duration": 1605,
    "start_time": "2023-02-27T10:59:03.829Z"
   },
   {
    "duration": 53,
    "start_time": "2023-02-27T10:59:41.645Z"
   },
   {
    "duration": 94,
    "start_time": "2023-02-27T11:00:09.276Z"
   },
   {
    "duration": 96,
    "start_time": "2023-02-27T11:02:13.981Z"
   },
   {
    "duration": 95,
    "start_time": "2023-02-27T11:02:29.384Z"
   },
   {
    "duration": 103,
    "start_time": "2023-02-27T11:03:11.170Z"
   },
   {
    "duration": 15,
    "start_time": "2023-02-27T11:04:31.097Z"
   },
   {
    "duration": 818,
    "start_time": "2023-02-27T11:04:31.115Z"
   },
   {
    "duration": 56,
    "start_time": "2023-02-27T11:04:31.936Z"
   },
   {
    "duration": 30,
    "start_time": "2023-02-27T11:04:31.996Z"
   },
   {
    "duration": 21,
    "start_time": "2023-02-27T11:04:32.028Z"
   },
   {
    "duration": 24,
    "start_time": "2023-02-27T11:04:32.051Z"
   },
   {
    "duration": 59,
    "start_time": "2023-02-27T11:04:32.081Z"
   },
   {
    "duration": 54,
    "start_time": "2023-02-27T11:04:32.143Z"
   },
   {
    "duration": 35,
    "start_time": "2023-02-27T11:04:32.205Z"
   },
   {
    "duration": 364,
    "start_time": "2023-02-27T11:04:32.242Z"
   },
   {
    "duration": 1736,
    "start_time": "2023-02-27T11:04:32.609Z"
   },
   {
    "duration": 1655,
    "start_time": "2023-02-27T11:04:34.347Z"
   },
   {
    "duration": 1205,
    "start_time": "2023-02-27T11:04:36.004Z"
   },
   {
    "duration": 547,
    "start_time": "2023-02-27T11:04:37.211Z"
   },
   {
    "duration": 335,
    "start_time": "2023-02-27T11:04:37.764Z"
   },
   {
    "duration": 303,
    "start_time": "2023-02-27T11:04:38.101Z"
   },
   {
    "duration": 53,
    "start_time": "2023-02-27T11:04:38.405Z"
   },
   {
    "duration": 99,
    "start_time": "2023-02-27T11:04:38.466Z"
   },
   {
    "duration": 113,
    "start_time": "2023-02-27T11:04:38.567Z"
   },
   {
    "duration": 112,
    "start_time": "2023-02-27T11:04:38.682Z"
   },
   {
    "duration": 90,
    "start_time": "2023-02-27T11:04:38.796Z"
   },
   {
    "duration": 119,
    "start_time": "2023-02-27T11:04:38.887Z"
   },
   {
    "duration": 101,
    "start_time": "2023-02-27T11:04:39.008Z"
   },
   {
    "duration": 95,
    "start_time": "2023-02-27T11:04:39.112Z"
   },
   {
    "duration": 104,
    "start_time": "2023-02-27T11:04:39.209Z"
   },
   {
    "duration": 116,
    "start_time": "2023-02-27T11:04:39.315Z"
   },
   {
    "duration": 13,
    "start_time": "2023-02-27T11:04:39.432Z"
   },
   {
    "duration": 22,
    "start_time": "2023-02-27T11:04:39.447Z"
   },
   {
    "duration": 64,
    "start_time": "2023-02-27T11:04:39.473Z"
   },
   {
    "duration": 57,
    "start_time": "2023-02-27T11:04:39.540Z"
   }
  ],
  "kernelspec": {
   "display_name": "Python 3 (ipykernel)",
   "language": "python",
   "name": "python3"
  },
  "language_info": {
   "codemirror_mode": {
    "name": "ipython",
    "version": 3
   },
   "file_extension": ".py",
   "mimetype": "text/x-python",
   "name": "python",
   "nbconvert_exporter": "python",
   "pygments_lexer": "ipython3",
   "version": "3.9.5"
  },
  "toc": {
   "base_numbering": 1,
   "nav_menu": {},
   "number_sections": true,
   "sideBar": true,
   "skip_h1_title": true,
   "title_cell": "Table of Contents",
   "title_sidebar": "Contents",
   "toc_cell": false,
   "toc_position": {},
   "toc_section_display": true,
   "toc_window_display": false
  }
 },
 "nbformat": 4,
 "nbformat_minor": 2
}
